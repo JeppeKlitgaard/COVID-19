{
 "cells": [
  {
   "cell_type": "code",
   "execution_count": 1,
   "metadata": {},
   "outputs": [],
   "source": [
    "## Initialisation\n",
    "import pandas as pd\n",
    "import geopandas\n",
    "import numpy as np\n",
    "from lmfit import Model, models\n",
    "import matplotlib\n",
    "import matplotlib.pyplot as plt\n",
    "from covid.grabbers import grab_wbdata, grab_JHU\n",
    "from covid.utils import print_wb_indicators, print_wb_sources, find_date_of_nth_label\n",
    " \n",
    "# set up the wbdata indicator (just build up the dict if you want more than one)\n",
    "indicators = {'VA.EST': 'Voice and Accountability', 'GE.EST': 'Government Effectiveness'}\n",
    "\n",
    "# We use two dataframes. One for for storing zone-wide wide and one for timeseries stuff\n",
    "zone_df = pd.DataFrame(columns=['zone'])\n",
    "ts_df = pd.DataFrame(columns=['zone', 'date'])\n",
    ""
   ]
  },
  {
   "cell_type": "code",
   "execution_count": 3,
   "metadata": {},
   "outputs": [
    {
     "output_type": "execute_result",
     "data": {
      "text/plain": "                      zone  Voice and Accountability  Government Effectiveness\n0              Afghanistan                 -1.718050                 -1.838644\n1                  Albania                 -0.251730                 -0.629331\n2                  Algeria                 -1.128412                 -0.818300\n3           American Samoa                       NaN                       NaN\n4                  Andorra                  1.497404                  1.431379\n..                     ...                       ...                       ...\n209  Virgin Islands (U.S.)                       NaN                       NaN\n210     West Bank and Gaza                 -0.779990                 -1.124713\n211            Yemen, Rep.                 -0.862932                 -0.736121\n212                 Zambia                 -0.382936                 -0.898444\n213               Zimbabwe                 -1.056261                 -0.673452\n\n[214 rows x 3 columns]",
      "text/html": "<div>\n<style scoped>\n    .dataframe tbody tr th:only-of-type {\n        vertical-align: middle;\n    }\n\n    .dataframe tbody tr th {\n        vertical-align: top;\n    }\n\n    .dataframe thead th {\n        text-align: right;\n    }\n</style>\n<table border=\"1\" class=\"dataframe\">\n  <thead>\n    <tr style=\"text-align: right;\">\n      <th></th>\n      <th>zone</th>\n      <th>Voice and Accountability</th>\n      <th>Government Effectiveness</th>\n    </tr>\n  </thead>\n  <tbody>\n    <tr>\n      <th>0</th>\n      <td>Afghanistan</td>\n      <td>-1.718050</td>\n      <td>-1.838644</td>\n    </tr>\n    <tr>\n      <th>1</th>\n      <td>Albania</td>\n      <td>-0.251730</td>\n      <td>-0.629331</td>\n    </tr>\n    <tr>\n      <th>2</th>\n      <td>Algeria</td>\n      <td>-1.128412</td>\n      <td>-0.818300</td>\n    </tr>\n    <tr>\n      <th>3</th>\n      <td>American Samoa</td>\n      <td>NaN</td>\n      <td>NaN</td>\n    </tr>\n    <tr>\n      <th>4</th>\n      <td>Andorra</td>\n      <td>1.497404</td>\n      <td>1.431379</td>\n    </tr>\n    <tr>\n      <th>...</th>\n      <td>...</td>\n      <td>...</td>\n      <td>...</td>\n    </tr>\n    <tr>\n      <th>209</th>\n      <td>Virgin Islands (U.S.)</td>\n      <td>NaN</td>\n      <td>NaN</td>\n    </tr>\n    <tr>\n      <th>210</th>\n      <td>West Bank and Gaza</td>\n      <td>-0.779990</td>\n      <td>-1.124713</td>\n    </tr>\n    <tr>\n      <th>211</th>\n      <td>Yemen, Rep.</td>\n      <td>-0.862932</td>\n      <td>-0.736121</td>\n    </tr>\n    <tr>\n      <th>212</th>\n      <td>Zambia</td>\n      <td>-0.382936</td>\n      <td>-0.898444</td>\n    </tr>\n    <tr>\n      <th>213</th>\n      <td>Zimbabwe</td>\n      <td>-1.056261</td>\n      <td>-0.673452</td>\n    </tr>\n  </tbody>\n</table>\n<p>214 rows × 3 columns</p>\n</div>"
     },
     "metadata": {},
     "execution_count": 3
    }
   ],
   "source": [
    "# Grab data - wbdata\n",
    "# grab indicators and load into data frame\n",
    "wb_df = grab_wbdata(indicators)\n",
    "\n",
    "gov_df = wb_df.groupby(level='country').tail(5).groupby(level='country').mean()\n",
    "gov_df.index.name = 'zone'\n",
    "\n",
    "# Merge into zone_df\n",
    "zone_df = pd.merge(zone_df, gov_df, on='zone', how='right')\n",
    "\n",
    "del indicators\n",
    "del gov_df\n",
    "del wb_df\n",
    "zone_df"
   ]
  },
  {
   "cell_type": "code",
   "execution_count": 4,
   "metadata": {},
   "outputs": [],
   "source": [
    "## Timeseries\n",
    "# Grab JHU time series data\n",
    "ts_df = grab_JHU()\n",
    ""
   ]
  },
  {
   "cell_type": "code",
   "execution_count": 58,
   "metadata": {},
   "outputs": [
    {
     "output_type": "execute_result",
     "data": {
      "text/plain": "                       province_state   lat  long  cases  deaths  recoveries  \\\ncountry     date                                                               \nAfghanistan 2020-01-22    Afghanistan  33.0  65.0      0       0           0   \n            2020-01-23    Afghanistan  33.0  65.0      0       0           0   \n            2020-01-24    Afghanistan  33.0  65.0      0       0           0   \n            2020-01-25    Afghanistan  33.0  65.0      0       0           0   \n            2020-01-26    Afghanistan  33.0  65.0      0       0           0   \n...                               ...   ...   ...    ...     ...         ...   \nZimbabwe    2020-03-29       Zimbabwe -20.0  30.0      7       1           0   \n            2020-03-30       Zimbabwe -20.0  30.0      7       1           0   \n            2020-03-31       Zimbabwe -20.0  30.0      8       1           0   \n            2020-04-01       Zimbabwe -20.0  30.0      8       1           0   \n            2020-04-02       Zimbabwe -20.0  30.0      9       1           0   \n\n                        day  \ncountry     date             \nAfghanistan 2020-01-22    0  \n            2020-01-23    1  \n            2020-01-24    2  \n            2020-01-25    3  \n            2020-01-26    4  \n...                     ...  \nZimbabwe    2020-03-29   67  \n            2020-03-30   68  \n            2020-03-31   69  \n            2020-04-01   70  \n            2020-04-02   71  \n\n[17280 rows x 7 columns]",
      "text/html": "<div>\n<style scoped>\n    .dataframe tbody tr th:only-of-type {\n        vertical-align: middle;\n    }\n\n    .dataframe tbody tr th {\n        vertical-align: top;\n    }\n\n    .dataframe thead th {\n        text-align: right;\n    }\n</style>\n<table border=\"1\" class=\"dataframe\">\n  <thead>\n    <tr style=\"text-align: right;\">\n      <th></th>\n      <th></th>\n      <th>province_state</th>\n      <th>lat</th>\n      <th>long</th>\n      <th>cases</th>\n      <th>deaths</th>\n      <th>recoveries</th>\n      <th>day</th>\n    </tr>\n    <tr>\n      <th>country</th>\n      <th>date</th>\n      <th></th>\n      <th></th>\n      <th></th>\n      <th></th>\n      <th></th>\n      <th></th>\n      <th></th>\n    </tr>\n  </thead>\n  <tbody>\n    <tr>\n      <th rowspan=\"5\" valign=\"top\">Afghanistan</th>\n      <th>2020-01-22</th>\n      <td>Afghanistan</td>\n      <td>33.0</td>\n      <td>65.0</td>\n      <td>0</td>\n      <td>0</td>\n      <td>0</td>\n      <td>0</td>\n    </tr>\n    <tr>\n      <th>2020-01-23</th>\n      <td>Afghanistan</td>\n      <td>33.0</td>\n      <td>65.0</td>\n      <td>0</td>\n      <td>0</td>\n      <td>0</td>\n      <td>1</td>\n    </tr>\n    <tr>\n      <th>2020-01-24</th>\n      <td>Afghanistan</td>\n      <td>33.0</td>\n      <td>65.0</td>\n      <td>0</td>\n      <td>0</td>\n      <td>0</td>\n      <td>2</td>\n    </tr>\n    <tr>\n      <th>2020-01-25</th>\n      <td>Afghanistan</td>\n      <td>33.0</td>\n      <td>65.0</td>\n      <td>0</td>\n      <td>0</td>\n      <td>0</td>\n      <td>3</td>\n    </tr>\n    <tr>\n      <th>2020-01-26</th>\n      <td>Afghanistan</td>\n      <td>33.0</td>\n      <td>65.0</td>\n      <td>0</td>\n      <td>0</td>\n      <td>0</td>\n      <td>4</td>\n    </tr>\n    <tr>\n      <th>...</th>\n      <th>...</th>\n      <td>...</td>\n      <td>...</td>\n      <td>...</td>\n      <td>...</td>\n      <td>...</td>\n      <td>...</td>\n      <td>...</td>\n    </tr>\n    <tr>\n      <th rowspan=\"5\" valign=\"top\">Zimbabwe</th>\n      <th>2020-03-29</th>\n      <td>Zimbabwe</td>\n      <td>-20.0</td>\n      <td>30.0</td>\n      <td>7</td>\n      <td>1</td>\n      <td>0</td>\n      <td>67</td>\n    </tr>\n    <tr>\n      <th>2020-03-30</th>\n      <td>Zimbabwe</td>\n      <td>-20.0</td>\n      <td>30.0</td>\n      <td>7</td>\n      <td>1</td>\n      <td>0</td>\n      <td>68</td>\n    </tr>\n    <tr>\n      <th>2020-03-31</th>\n      <td>Zimbabwe</td>\n      <td>-20.0</td>\n      <td>30.0</td>\n      <td>8</td>\n      <td>1</td>\n      <td>0</td>\n      <td>69</td>\n    </tr>\n    <tr>\n      <th>2020-04-01</th>\n      <td>Zimbabwe</td>\n      <td>-20.0</td>\n      <td>30.0</td>\n      <td>8</td>\n      <td>1</td>\n      <td>0</td>\n      <td>70</td>\n    </tr>\n    <tr>\n      <th>2020-04-02</th>\n      <td>Zimbabwe</td>\n      <td>-20.0</td>\n      <td>30.0</td>\n      <td>9</td>\n      <td>1</td>\n      <td>0</td>\n      <td>71</td>\n    </tr>\n  </tbody>\n</table>\n<p>17280 rows × 7 columns</p>\n</div>"
     },
     "metadata": {},
     "execution_count": 58
    }
   ],
   "source": [
    "a = ts_df\n",
    "a"
   ]
  },
  {
   "cell_type": "code",
   "execution_count": 83,
   "metadata": {},
   "outputs": [],
   "source": [
    "\n",
    "b = a.reset_index().pivot_table(index=['country', 'date'], columns='province_state', margins=True, margins_name='total', values=['cases', 'deaths', 'recoveries'], aggfunc=np.sum).stack()"
   ]
  },
  {
   "cell_type": "code",
   "execution_count": 57,
   "metadata": {
    "tags": [
     "outputPrepend",
     "outputPrepend",
     "outputPrepend",
     "outputPrepend",
     "outputPrepend",
     "outputPrepend",
     "outputPrepend",
     "outputPrepend",
     "outputPrepend",
     "outputPrepend",
     "outputPrepend",
     "outputPrepend",
     "outputPrepend",
     "outputPrepend",
     "outputPrepend",
     "outputPrepend",
     "outputPrepend",
     "outputPrepend",
     "outputPrepend",
     "outputPrepend",
     "outputPrepend"
    ]
   },
   "outputs": [],
   "source": [
    "for label, sub_df in a.groupby(level=0):\n",
    "    sub_df = sub_df.reset_index()\n",
    "    c = sub_df['country'] == sub_df['province_state']\n",
    "    if not any(c):\n",
    "        # Need to calculate\n",
    "        break"
   ]
  },
  {
   "cell_type": "code",
   "execution_count": 9,
   "metadata": {},
   "outputs": [],
   "source": [
    "### Add population to zone_df\n",
    "# Subnational population. Source=50\n",
    "wb_df = grab_wbdata({'SP.POP.TOTL': 'population'})\n",
    "pop_df = wb_df.xs('2018', level=1)\n",
    "del wb_df\n",
    "\n",
    "pop_df.index.name = 'zone'\n",
    "\n",
    "zone_df = pd.merge(zone_df, pop_df, on='zone')\n",
    "del pop_df\n",
    ""
   ]
  },
  {
   "cell_type": "code",
   "execution_count": 27,
   "metadata": {},
   "outputs": [
    {
     "output_type": "execute_result",
     "data": {
      "text/plain": "                       province_state   lat  long  cases  deaths  recoveries  \\\ncountry     date                                                               \nAfghanistan 2020-01-22    Afghanistan  33.0  65.0      0       0           0   \n            2020-01-23    Afghanistan  33.0  65.0      0       0           0   \n            2020-01-24    Afghanistan  33.0  65.0      0       0           0   \n            2020-01-25    Afghanistan  33.0  65.0      0       0           0   \n            2020-01-26    Afghanistan  33.0  65.0      0       0           0   \n...                               ...   ...   ...    ...     ...         ...   \nZimbabwe    2020-03-29       Zimbabwe -20.0  30.0      7       1           0   \n            2020-03-30       Zimbabwe -20.0  30.0      7       1           0   \n            2020-03-31       Zimbabwe -20.0  30.0      8       1           0   \n            2020-04-01       Zimbabwe -20.0  30.0      8       1           0   \n            2020-04-02       Zimbabwe -20.0  30.0      9       1           0   \n\n                        day  cases_per_1M  deaths_per_1M  recoveries_per_1M  \ncountry     date                                                             \nAfghanistan 2020-01-22    0      0.000000       0.000000                0.0  \n            2020-01-23    1      0.000000       0.000000                0.0  \n            2020-01-24    2      0.000000       0.000000                0.0  \n            2020-01-25    3      0.000000       0.000000                0.0  \n            2020-01-26    4      0.000000       0.000000                0.0  \n...                     ...           ...            ...                ...  \nZimbabwe    2020-03-29   67      0.000007       0.000001                0.0  \n            2020-03-30   68      0.000007       0.000001                0.0  \n            2020-03-31   69      0.000008       0.000001                0.0  \n            2020-04-01   70      0.000008       0.000001                0.0  \n            2020-04-02   71      0.000009       0.000001                0.0  \n\n[17280 rows x 10 columns]",
      "text/html": "<div>\n<style scoped>\n    .dataframe tbody tr th:only-of-type {\n        vertical-align: middle;\n    }\n\n    .dataframe tbody tr th {\n        vertical-align: top;\n    }\n\n    .dataframe thead th {\n        text-align: right;\n    }\n</style>\n<table border=\"1\" class=\"dataframe\">\n  <thead>\n    <tr style=\"text-align: right;\">\n      <th></th>\n      <th></th>\n      <th>province_state</th>\n      <th>lat</th>\n      <th>long</th>\n      <th>cases</th>\n      <th>deaths</th>\n      <th>recoveries</th>\n      <th>day</th>\n      <th>cases_per_1M</th>\n      <th>deaths_per_1M</th>\n      <th>recoveries_per_1M</th>\n    </tr>\n    <tr>\n      <th>country</th>\n      <th>date</th>\n      <th></th>\n      <th></th>\n      <th></th>\n      <th></th>\n      <th></th>\n      <th></th>\n      <th></th>\n      <th></th>\n      <th></th>\n      <th></th>\n    </tr>\n  </thead>\n  <tbody>\n    <tr>\n      <th rowspan=\"5\" valign=\"top\">Afghanistan</th>\n      <th>2020-01-22</th>\n      <td>Afghanistan</td>\n      <td>33.0</td>\n      <td>65.0</td>\n      <td>0</td>\n      <td>0</td>\n      <td>0</td>\n      <td>0</td>\n      <td>0.000000</td>\n      <td>0.000000</td>\n      <td>0.0</td>\n    </tr>\n    <tr>\n      <th>2020-01-23</th>\n      <td>Afghanistan</td>\n      <td>33.0</td>\n      <td>65.0</td>\n      <td>0</td>\n      <td>0</td>\n      <td>0</td>\n      <td>1</td>\n      <td>0.000000</td>\n      <td>0.000000</td>\n      <td>0.0</td>\n    </tr>\n    <tr>\n      <th>2020-01-24</th>\n      <td>Afghanistan</td>\n      <td>33.0</td>\n      <td>65.0</td>\n      <td>0</td>\n      <td>0</td>\n      <td>0</td>\n      <td>2</td>\n      <td>0.000000</td>\n      <td>0.000000</td>\n      <td>0.0</td>\n    </tr>\n    <tr>\n      <th>2020-01-25</th>\n      <td>Afghanistan</td>\n      <td>33.0</td>\n      <td>65.0</td>\n      <td>0</td>\n      <td>0</td>\n      <td>0</td>\n      <td>3</td>\n      <td>0.000000</td>\n      <td>0.000000</td>\n      <td>0.0</td>\n    </tr>\n    <tr>\n      <th>2020-01-26</th>\n      <td>Afghanistan</td>\n      <td>33.0</td>\n      <td>65.0</td>\n      <td>0</td>\n      <td>0</td>\n      <td>0</td>\n      <td>4</td>\n      <td>0.000000</td>\n      <td>0.000000</td>\n      <td>0.0</td>\n    </tr>\n    <tr>\n      <th>...</th>\n      <th>...</th>\n      <td>...</td>\n      <td>...</td>\n      <td>...</td>\n      <td>...</td>\n      <td>...</td>\n      <td>...</td>\n      <td>...</td>\n      <td>...</td>\n      <td>...</td>\n      <td>...</td>\n    </tr>\n    <tr>\n      <th rowspan=\"5\" valign=\"top\">Zimbabwe</th>\n      <th>2020-03-29</th>\n      <td>Zimbabwe</td>\n      <td>-20.0</td>\n      <td>30.0</td>\n      <td>7</td>\n      <td>1</td>\n      <td>0</td>\n      <td>67</td>\n      <td>0.000007</td>\n      <td>0.000001</td>\n      <td>0.0</td>\n    </tr>\n    <tr>\n      <th>2020-03-30</th>\n      <td>Zimbabwe</td>\n      <td>-20.0</td>\n      <td>30.0</td>\n      <td>7</td>\n      <td>1</td>\n      <td>0</td>\n      <td>68</td>\n      <td>0.000007</td>\n      <td>0.000001</td>\n      <td>0.0</td>\n    </tr>\n    <tr>\n      <th>2020-03-31</th>\n      <td>Zimbabwe</td>\n      <td>-20.0</td>\n      <td>30.0</td>\n      <td>8</td>\n      <td>1</td>\n      <td>0</td>\n      <td>69</td>\n      <td>0.000008</td>\n      <td>0.000001</td>\n      <td>0.0</td>\n    </tr>\n    <tr>\n      <th>2020-04-01</th>\n      <td>Zimbabwe</td>\n      <td>-20.0</td>\n      <td>30.0</td>\n      <td>8</td>\n      <td>1</td>\n      <td>0</td>\n      <td>70</td>\n      <td>0.000008</td>\n      <td>0.000001</td>\n      <td>0.0</td>\n    </tr>\n    <tr>\n      <th>2020-04-02</th>\n      <td>Zimbabwe</td>\n      <td>-20.0</td>\n      <td>30.0</td>\n      <td>9</td>\n      <td>1</td>\n      <td>0</td>\n      <td>71</td>\n      <td>0.000009</td>\n      <td>0.000001</td>\n      <td>0.0</td>\n    </tr>\n  </tbody>\n</table>\n<p>17280 rows × 10 columns</p>\n</div>"
     },
     "metadata": {},
     "execution_count": 27
    }
   ],
   "source": [
    "ts_df"
   ]
  },
  {
   "cell_type": "code",
   "execution_count": 26,
   "metadata": {},
   "outputs": [
    {
     "output_type": "error",
     "ename": "SyntaxError",
     "evalue": "invalid syntax (<ipython-input-26-9e4090ecc55c>, line 39)",
     "traceback": [
      "\u001b[1;36m  File \u001b[1;32m\"<ipython-input-26-9e4090ecc55c>\"\u001b[1;36m, line \u001b[1;32m39\u001b[0m\n\u001b[1;33m    sub_df = ts_df[(ts_df['province_state'] == country) & (ts_df.index.is(country))]\u001b[0m\n\u001b[1;37m                                                                        ^\u001b[0m\n\u001b[1;31mSyntaxError\u001b[0m\u001b[1;31m:\u001b[0m invalid syntax\n"
     ]
    }
   ],
   "source": [
    "## Timeseries calculate  per 1M pop\n",
    "def logistic_fit(x, a, b, c):\n",
    "    \"\"\"\n",
    "    x is variable.\n",
    "    a is shift along x axis\n",
    "    b is steepness\n",
    "    c is asymptote max\n",
    "    \"\"\"\n",
    "    return c / (1 + a * np.exp(-b*x))\n",
    "\n",
    "LogisticModel = Model(logistic_fit)\n",
    "\n",
    "one_mil = 10**6\n",
    "LABELS = ('cases', 'deaths', 'recoveries')\n",
    "for label in LABELS:\n",
    "    ts_df[label + '_per_1M'] = ts_df[label]/one_mil\n",
    "ts_df\n",
    "\n",
    "label = 'deaths'\n",
    "#countries = ['United Kingdom', 'Italy', 'Spain', 'Denmark', 'Iran', 'Greece', 'US', 'Sweden', 'Austria', 'Germany']\n",
    "countries = 'all'\n",
    "\n",
    "n = 10\n",
    "\n",
    "fig, ax = plt.subplots(figsize=(15, 6))\n",
    "ax.set_yscale('log')\n",
    "\n",
    "if countries == 'all':\n",
    "    countries = ts_df.reset_index()['country'].unique()\n",
    "\n",
    "countries_fit = []\n",
    "for country in countries:\n",
    "    print(\"Processing {}\".format(country))\n",
    "    col = np.random.rand(3,)\n",
    "    x = find_date_of_nth_label(ts_df, country, n, label.strip('_per_1M'))\n",
    "    if not x:\n",
    "        continue\n",
    "\n",
    "    sub_df = ts_df[(ts_df['province_state'] == country) & (ts_df.index.is(country))]\n",
    "    rel_df = sub_df[sub_df.index.levels[1] >= x]\n",
    "    rel_df['rel_day'] = rel_df['day'] - rel_df['day'].iloc[0] + 1\n",
    "    # rel_df.plot.scatter(x='rel_day', y=label)\n",
    "\n",
    "    model = LogisticModel\n",
    "    params = model.make_params(c=1000, a=1000, b=0.3)\n",
    "    result = model.fit(rel_df[label], params, x=rel_df['rel_day'])\n",
    "\n",
    "    countries_fit.append({\n",
    "        'zone': country,\n",
    "        'fit_result': result,\n",
    "        'fit_a': result.params['a'].value,\n",
    "        'fit_b': result.params['b'].value,\n",
    "        'fit_c': result.params['c'].value,\n",
    "        'x': rel_df['rel_day'],\n",
    "        'y': rel_df[label],\n",
    "        'n': n,\n",
    "        'col': col\n",
    "    })\n",
    "\n",
    "    rel_df.plot.scatter(x='rel_day', y=label, color=[col], ax=ax, label=country + \", b: \" + str(round(result.params['b'].value, 3)))\n",
    "    plt.plot(rel_df['rel_day'], result.best_fit, color=col)\n",
    "    print(result.params)\n",
    "\n",
    "plt.legend()\n",
    ""
   ]
  },
  {
   "cell_type": "code",
   "execution_count": 34,
   "metadata": {},
   "outputs": [
    {
     "output_type": "execute_result",
     "data": {
      "text/plain": "                       province_state   lat  long  cases  deaths  recoveries  \\\ncountry     date                                                               \nAfghanistan 2020-01-22    Afghanistan  33.0  65.0      0       0           0   \n            2020-01-23    Afghanistan  33.0  65.0      0       0           0   \n            2020-01-24    Afghanistan  33.0  65.0      0       0           0   \n            2020-01-25    Afghanistan  33.0  65.0      0       0           0   \n            2020-01-26    Afghanistan  33.0  65.0      0       0           0   \n...                               ...   ...   ...    ...     ...         ...   \nZimbabwe    2020-03-29       Zimbabwe -20.0  30.0      7       1           0   \n            2020-03-30       Zimbabwe -20.0  30.0      7       1           0   \n            2020-03-31       Zimbabwe -20.0  30.0      8       1           0   \n            2020-04-01       Zimbabwe -20.0  30.0      8       1           0   \n            2020-04-02       Zimbabwe -20.0  30.0      9       1           0   \n\n                        day  cases_per_1M  deaths_per_1M  recoveries_per_1M  \ncountry     date                                                             \nAfghanistan 2020-01-22    0      0.000000       0.000000                0.0  \n            2020-01-23    1      0.000000       0.000000                0.0  \n            2020-01-24    2      0.000000       0.000000                0.0  \n            2020-01-25    3      0.000000       0.000000                0.0  \n            2020-01-26    4      0.000000       0.000000                0.0  \n...                     ...           ...            ...                ...  \nZimbabwe    2020-03-29   67      0.000007       0.000001                0.0  \n            2020-03-30   68      0.000007       0.000001                0.0  \n            2020-03-31   69      0.000008       0.000001                0.0  \n            2020-04-01   70      0.000008       0.000001                0.0  \n            2020-04-02   71      0.000009       0.000001                0.0  \n\n[17280 rows x 10 columns]",
      "text/html": "<div>\n<style scoped>\n    .dataframe tbody tr th:only-of-type {\n        vertical-align: middle;\n    }\n\n    .dataframe tbody tr th {\n        vertical-align: top;\n    }\n\n    .dataframe thead th {\n        text-align: right;\n    }\n</style>\n<table border=\"1\" class=\"dataframe\">\n  <thead>\n    <tr style=\"text-align: right;\">\n      <th></th>\n      <th></th>\n      <th>province_state</th>\n      <th>lat</th>\n      <th>long</th>\n      <th>cases</th>\n      <th>deaths</th>\n      <th>recoveries</th>\n      <th>day</th>\n      <th>cases_per_1M</th>\n      <th>deaths_per_1M</th>\n      <th>recoveries_per_1M</th>\n    </tr>\n    <tr>\n      <th>country</th>\n      <th>date</th>\n      <th></th>\n      <th></th>\n      <th></th>\n      <th></th>\n      <th></th>\n      <th></th>\n      <th></th>\n      <th></th>\n      <th></th>\n      <th></th>\n    </tr>\n  </thead>\n  <tbody>\n    <tr>\n      <th rowspan=\"5\" valign=\"top\">Afghanistan</th>\n      <th>2020-01-22</th>\n      <td>Afghanistan</td>\n      <td>33.0</td>\n      <td>65.0</td>\n      <td>0</td>\n      <td>0</td>\n      <td>0</td>\n      <td>0</td>\n      <td>0.000000</td>\n      <td>0.000000</td>\n      <td>0.0</td>\n    </tr>\n    <tr>\n      <th>2020-01-23</th>\n      <td>Afghanistan</td>\n      <td>33.0</td>\n      <td>65.0</td>\n      <td>0</td>\n      <td>0</td>\n      <td>0</td>\n      <td>1</td>\n      <td>0.000000</td>\n      <td>0.000000</td>\n      <td>0.0</td>\n    </tr>\n    <tr>\n      <th>2020-01-24</th>\n      <td>Afghanistan</td>\n      <td>33.0</td>\n      <td>65.0</td>\n      <td>0</td>\n      <td>0</td>\n      <td>0</td>\n      <td>2</td>\n      <td>0.000000</td>\n      <td>0.000000</td>\n      <td>0.0</td>\n    </tr>\n    <tr>\n      <th>2020-01-25</th>\n      <td>Afghanistan</td>\n      <td>33.0</td>\n      <td>65.0</td>\n      <td>0</td>\n      <td>0</td>\n      <td>0</td>\n      <td>3</td>\n      <td>0.000000</td>\n      <td>0.000000</td>\n      <td>0.0</td>\n    </tr>\n    <tr>\n      <th>2020-01-26</th>\n      <td>Afghanistan</td>\n      <td>33.0</td>\n      <td>65.0</td>\n      <td>0</td>\n      <td>0</td>\n      <td>0</td>\n      <td>4</td>\n      <td>0.000000</td>\n      <td>0.000000</td>\n      <td>0.0</td>\n    </tr>\n    <tr>\n      <th>...</th>\n      <th>...</th>\n      <td>...</td>\n      <td>...</td>\n      <td>...</td>\n      <td>...</td>\n      <td>...</td>\n      <td>...</td>\n      <td>...</td>\n      <td>...</td>\n      <td>...</td>\n      <td>...</td>\n    </tr>\n    <tr>\n      <th rowspan=\"5\" valign=\"top\">Zimbabwe</th>\n      <th>2020-03-29</th>\n      <td>Zimbabwe</td>\n      <td>-20.0</td>\n      <td>30.0</td>\n      <td>7</td>\n      <td>1</td>\n      <td>0</td>\n      <td>67</td>\n      <td>0.000007</td>\n      <td>0.000001</td>\n      <td>0.0</td>\n    </tr>\n    <tr>\n      <th>2020-03-30</th>\n      <td>Zimbabwe</td>\n      <td>-20.0</td>\n      <td>30.0</td>\n      <td>7</td>\n      <td>1</td>\n      <td>0</td>\n      <td>68</td>\n      <td>0.000007</td>\n      <td>0.000001</td>\n      <td>0.0</td>\n    </tr>\n    <tr>\n      <th>2020-03-31</th>\n      <td>Zimbabwe</td>\n      <td>-20.0</td>\n      <td>30.0</td>\n      <td>8</td>\n      <td>1</td>\n      <td>0</td>\n      <td>69</td>\n      <td>0.000008</td>\n      <td>0.000001</td>\n      <td>0.0</td>\n    </tr>\n    <tr>\n      <th>2020-04-01</th>\n      <td>Zimbabwe</td>\n      <td>-20.0</td>\n      <td>30.0</td>\n      <td>8</td>\n      <td>1</td>\n      <td>0</td>\n      <td>70</td>\n      <td>0.000008</td>\n      <td>0.000001</td>\n      <td>0.0</td>\n    </tr>\n    <tr>\n      <th>2020-04-02</th>\n      <td>Zimbabwe</td>\n      <td>-20.0</td>\n      <td>30.0</td>\n      <td>9</td>\n      <td>1</td>\n      <td>0</td>\n      <td>71</td>\n      <td>0.000009</td>\n      <td>0.000001</td>\n      <td>0.0</td>\n    </tr>\n  </tbody>\n</table>\n<p>17280 rows × 10 columns</p>\n</div>"
     },
     "metadata": {},
     "execution_count": 34
    }
   ],
   "source": [
    "country = 'Afghanistan'\n",
    "sub_df = ts_df[(ts_df['province_state'] == country)]\n",
    "ts_df"
   ]
  },
  {
   "cell_type": "code",
   "execution_count": 16,
   "metadata": {},
   "outputs": [
    {
     "output_type": "error",
     "ename": "KeyError",
     "evalue": "'zone'",
     "traceback": [
      "\u001b[1;31m---------------------------------------------------------------------------\u001b[0m",
      "\u001b[1;31mKeyError\u001b[0m                                  Traceback (most recent call last)",
      "\u001b[1;32m<ipython-input-16-396dd0af4efb>\u001b[0m in \u001b[0;36m<module>\u001b[1;34m\u001b[0m\n\u001b[1;32m----> 1\u001b[1;33m \u001b[0mzone_df\u001b[0m \u001b[1;33m=\u001b[0m \u001b[0mpd\u001b[0m\u001b[1;33m.\u001b[0m\u001b[0mmerge\u001b[0m\u001b[1;33m(\u001b[0m\u001b[0mzone_df\u001b[0m\u001b[1;33m,\u001b[0m \u001b[0mpd\u001b[0m\u001b[1;33m.\u001b[0m\u001b[0mDataFrame\u001b[0m\u001b[1;33m(\u001b[0m\u001b[0mcountries_fit\u001b[0m\u001b[1;33m)\u001b[0m\u001b[1;33m,\u001b[0m \u001b[0mon\u001b[0m\u001b[1;33m=\u001b[0m\u001b[1;34m'zone'\u001b[0m\u001b[1;33m,\u001b[0m \u001b[0mhow\u001b[0m\u001b[1;33m=\u001b[0m\u001b[1;34m'right'\u001b[0m\u001b[1;33m)\u001b[0m\u001b[1;33m\u001b[0m\u001b[1;33m\u001b[0m\u001b[0m\n\u001b[0m\u001b[0;32m      2\u001b[0m \u001b[0mzone_df\u001b[0m\u001b[1;33m\u001b[0m\u001b[1;33m\u001b[0m\u001b[0m\n",
      "\u001b[1;32m~\\AppData\\Local\\Programs\\Python\\Python37-32\\lib\\site-packages\\pandas\\core\\reshape\\merge.py\u001b[0m in \u001b[0;36mmerge\u001b[1;34m(left, right, how, on, left_on, right_on, left_index, right_index, sort, suffixes, copy, indicator, validate)\u001b[0m\n\u001b[0;32m     84\u001b[0m         \u001b[0mcopy\u001b[0m\u001b[1;33m=\u001b[0m\u001b[0mcopy\u001b[0m\u001b[1;33m,\u001b[0m\u001b[1;33m\u001b[0m\u001b[1;33m\u001b[0m\u001b[0m\n\u001b[0;32m     85\u001b[0m         \u001b[0mindicator\u001b[0m\u001b[1;33m=\u001b[0m\u001b[0mindicator\u001b[0m\u001b[1;33m,\u001b[0m\u001b[1;33m\u001b[0m\u001b[1;33m\u001b[0m\u001b[0m\n\u001b[1;32m---> 86\u001b[1;33m         \u001b[0mvalidate\u001b[0m\u001b[1;33m=\u001b[0m\u001b[0mvalidate\u001b[0m\u001b[1;33m,\u001b[0m\u001b[1;33m\u001b[0m\u001b[1;33m\u001b[0m\u001b[0m\n\u001b[0m\u001b[0;32m     87\u001b[0m     )\n\u001b[0;32m     88\u001b[0m     \u001b[1;32mreturn\u001b[0m \u001b[0mop\u001b[0m\u001b[1;33m.\u001b[0m\u001b[0mget_result\u001b[0m\u001b[1;33m(\u001b[0m\u001b[1;33m)\u001b[0m\u001b[1;33m\u001b[0m\u001b[1;33m\u001b[0m\u001b[0m\n",
      "\u001b[1;32m~\\AppData\\Local\\Programs\\Python\\Python37-32\\lib\\site-packages\\pandas\\core\\reshape\\merge.py\u001b[0m in \u001b[0;36m__init__\u001b[1;34m(self, left, right, how, on, left_on, right_on, axis, left_index, right_index, sort, suffixes, copy, indicator, validate)\u001b[0m\n\u001b[0;32m    625\u001b[0m             \u001b[0mself\u001b[0m\u001b[1;33m.\u001b[0m\u001b[0mright_join_keys\u001b[0m\u001b[1;33m,\u001b[0m\u001b[1;33m\u001b[0m\u001b[1;33m\u001b[0m\u001b[0m\n\u001b[0;32m    626\u001b[0m             \u001b[0mself\u001b[0m\u001b[1;33m.\u001b[0m\u001b[0mjoin_names\u001b[0m\u001b[1;33m,\u001b[0m\u001b[1;33m\u001b[0m\u001b[1;33m\u001b[0m\u001b[0m\n\u001b[1;32m--> 627\u001b[1;33m         ) = self._get_merge_keys()\n\u001b[0m\u001b[0;32m    628\u001b[0m \u001b[1;33m\u001b[0m\u001b[0m\n\u001b[0;32m    629\u001b[0m         \u001b[1;31m# validate the merge keys dtypes. We may need to coerce\u001b[0m\u001b[1;33m\u001b[0m\u001b[1;33m\u001b[0m\u001b[1;33m\u001b[0m\u001b[0m\n",
      "\u001b[1;32m~\\AppData\\Local\\Programs\\Python\\Python37-32\\lib\\site-packages\\pandas\\core\\reshape\\merge.py\u001b[0m in \u001b[0;36m_get_merge_keys\u001b[1;34m(self)\u001b[0m\n\u001b[0;32m    981\u001b[0m                     \u001b[1;32mif\u001b[0m \u001b[1;32mnot\u001b[0m \u001b[0mis_rkey\u001b[0m\u001b[1;33m(\u001b[0m\u001b[0mrk\u001b[0m\u001b[1;33m)\u001b[0m\u001b[1;33m:\u001b[0m\u001b[1;33m\u001b[0m\u001b[1;33m\u001b[0m\u001b[0m\n\u001b[0;32m    982\u001b[0m                         \u001b[1;32mif\u001b[0m \u001b[0mrk\u001b[0m \u001b[1;32mis\u001b[0m \u001b[1;32mnot\u001b[0m \u001b[1;32mNone\u001b[0m\u001b[1;33m:\u001b[0m\u001b[1;33m\u001b[0m\u001b[1;33m\u001b[0m\u001b[0m\n\u001b[1;32m--> 983\u001b[1;33m                             \u001b[0mright_keys\u001b[0m\u001b[1;33m.\u001b[0m\u001b[0mappend\u001b[0m\u001b[1;33m(\u001b[0m\u001b[0mright\u001b[0m\u001b[1;33m.\u001b[0m\u001b[0m_get_label_or_level_values\u001b[0m\u001b[1;33m(\u001b[0m\u001b[0mrk\u001b[0m\u001b[1;33m)\u001b[0m\u001b[1;33m)\u001b[0m\u001b[1;33m\u001b[0m\u001b[1;33m\u001b[0m\u001b[0m\n\u001b[0m\u001b[0;32m    984\u001b[0m                         \u001b[1;32melse\u001b[0m\u001b[1;33m:\u001b[0m\u001b[1;33m\u001b[0m\u001b[1;33m\u001b[0m\u001b[0m\n\u001b[0;32m    985\u001b[0m                             \u001b[1;31m# work-around for merge_asof(right_index=True)\u001b[0m\u001b[1;33m\u001b[0m\u001b[1;33m\u001b[0m\u001b[1;33m\u001b[0m\u001b[0m\n",
      "\u001b[1;32m~\\AppData\\Local\\Programs\\Python\\Python37-32\\lib\\site-packages\\pandas\\core\\generic.py\u001b[0m in \u001b[0;36m_get_label_or_level_values\u001b[1;34m(self, key, axis)\u001b[0m\n\u001b[0;32m   1690\u001b[0m             \u001b[0mvalues\u001b[0m \u001b[1;33m=\u001b[0m \u001b[0mself\u001b[0m\u001b[1;33m.\u001b[0m\u001b[0maxes\u001b[0m\u001b[1;33m[\u001b[0m\u001b[0maxis\u001b[0m\u001b[1;33m]\u001b[0m\u001b[1;33m.\u001b[0m\u001b[0mget_level_values\u001b[0m\u001b[1;33m(\u001b[0m\u001b[0mkey\u001b[0m\u001b[1;33m)\u001b[0m\u001b[1;33m.\u001b[0m\u001b[0m_values\u001b[0m\u001b[1;33m\u001b[0m\u001b[1;33m\u001b[0m\u001b[0m\n\u001b[0;32m   1691\u001b[0m         \u001b[1;32melse\u001b[0m\u001b[1;33m:\u001b[0m\u001b[1;33m\u001b[0m\u001b[1;33m\u001b[0m\u001b[0m\n\u001b[1;32m-> 1692\u001b[1;33m             \u001b[1;32mraise\u001b[0m \u001b[0mKeyError\u001b[0m\u001b[1;33m(\u001b[0m\u001b[0mkey\u001b[0m\u001b[1;33m)\u001b[0m\u001b[1;33m\u001b[0m\u001b[1;33m\u001b[0m\u001b[0m\n\u001b[0m\u001b[0;32m   1693\u001b[0m \u001b[1;33m\u001b[0m\u001b[0m\n\u001b[0;32m   1694\u001b[0m         \u001b[1;31m# Check for duplicates\u001b[0m\u001b[1;33m\u001b[0m\u001b[1;33m\u001b[0m\u001b[1;33m\u001b[0m\u001b[0m\n",
      "\u001b[1;31mKeyError\u001b[0m: 'zone'"
     ]
    }
   ],
   "source": [
    "zone_df = pd.merge(zone_df, pd.DataFrame(countries_fit), on='zone', how='right')\n",
    "zone_df"
   ]
  },
  {
   "cell_type": "code",
   "execution_count": 18,
   "metadata": {},
   "outputs": [
    {
     "output_type": "error",
     "ename": "KeyError",
     "evalue": "'fit_b'",
     "traceback": [
      "\u001b[1;31m---------------------------------------------------------------------------\u001b[0m",
      "\u001b[1;31mKeyError\u001b[0m                                  Traceback (most recent call last)",
      "\u001b[1;32m~\\AppData\\Local\\Programs\\Python\\Python37-32\\lib\\site-packages\\pandas\\core\\indexes\\base.py\u001b[0m in \u001b[0;36mget_loc\u001b[1;34m(self, key, method, tolerance)\u001b[0m\n\u001b[0;32m   2645\u001b[0m             \u001b[1;32mtry\u001b[0m\u001b[1;33m:\u001b[0m\u001b[1;33m\u001b[0m\u001b[1;33m\u001b[0m\u001b[0m\n\u001b[1;32m-> 2646\u001b[1;33m                 \u001b[1;32mreturn\u001b[0m \u001b[0mself\u001b[0m\u001b[1;33m.\u001b[0m\u001b[0m_engine\u001b[0m\u001b[1;33m.\u001b[0m\u001b[0mget_loc\u001b[0m\u001b[1;33m(\u001b[0m\u001b[0mkey\u001b[0m\u001b[1;33m)\u001b[0m\u001b[1;33m\u001b[0m\u001b[1;33m\u001b[0m\u001b[0m\n\u001b[0m\u001b[0;32m   2647\u001b[0m             \u001b[1;32mexcept\u001b[0m \u001b[0mKeyError\u001b[0m\u001b[1;33m:\u001b[0m\u001b[1;33m\u001b[0m\u001b[1;33m\u001b[0m\u001b[0m\n",
      "\u001b[1;32mpandas\\_libs\\index.pyx\u001b[0m in \u001b[0;36mpandas._libs.index.IndexEngine.get_loc\u001b[1;34m()\u001b[0m\n",
      "\u001b[1;32mpandas\\_libs\\index.pyx\u001b[0m in \u001b[0;36mpandas._libs.index.IndexEngine.get_loc\u001b[1;34m()\u001b[0m\n",
      "\u001b[1;32mpandas\\_libs\\hashtable_class_helper.pxi\u001b[0m in \u001b[0;36mpandas._libs.hashtable.PyObjectHashTable.get_item\u001b[1;34m()\u001b[0m\n",
      "\u001b[1;32mpandas\\_libs\\hashtable_class_helper.pxi\u001b[0m in \u001b[0;36mpandas._libs.hashtable.PyObjectHashTable.get_item\u001b[1;34m()\u001b[0m\n",
      "\u001b[1;31mKeyError\u001b[0m: 'fit_b'",
      "\nDuring handling of the above exception, another exception occurred:\n",
      "\u001b[1;31mKeyError\u001b[0m                                  Traceback (most recent call last)",
      "\u001b[1;32m<ipython-input-18-2da6521b2d0a>\u001b[0m in \u001b[0;36m<module>\u001b[1;34m\u001b[0m\n\u001b[0;32m      6\u001b[0m \u001b[1;33m\u001b[0m\u001b[0m\n\u001b[0;32m      7\u001b[0m a.plot(column='fit_b', legend=True, cmap='summer', missing_kwds={\n\u001b[1;32m----> 8\u001b[1;33m     \u001b[1;34m\"color\"\u001b[0m\u001b[1;33m:\u001b[0m \u001b[1;34m'lightgrey'\u001b[0m\u001b[1;33m\u001b[0m\u001b[1;33m\u001b[0m\u001b[0m\n\u001b[0m\u001b[0;32m      9\u001b[0m })\n",
      "\u001b[1;32m~\\AppData\\Local\\Programs\\Python\\Python37-32\\lib\\site-packages\\geopandas\\geodataframe.py\u001b[0m in \u001b[0;36mplot\u001b[1;34m(self, *args, **kwargs)\u001b[0m\n\u001b[0;32m    654\u001b[0m         \u001b[1;32mfrom\u001b[0m \u001b[0mthere\u001b[0m\u001b[1;33m.\u001b[0m\u001b[1;33m\u001b[0m\u001b[1;33m\u001b[0m\u001b[0m\n\u001b[0;32m    655\u001b[0m         \"\"\"\n\u001b[1;32m--> 656\u001b[1;33m         \u001b[1;32mreturn\u001b[0m \u001b[0mplot_dataframe\u001b[0m\u001b[1;33m(\u001b[0m\u001b[0mself\u001b[0m\u001b[1;33m,\u001b[0m \u001b[1;33m*\u001b[0m\u001b[0margs\u001b[0m\u001b[1;33m,\u001b[0m \u001b[1;33m**\u001b[0m\u001b[0mkwargs\u001b[0m\u001b[1;33m)\u001b[0m\u001b[1;33m\u001b[0m\u001b[1;33m\u001b[0m\u001b[0m\n\u001b[0m\u001b[0;32m    657\u001b[0m \u001b[1;33m\u001b[0m\u001b[0m\n\u001b[0;32m    658\u001b[0m     \u001b[0mplot\u001b[0m\u001b[1;33m.\u001b[0m\u001b[0m__doc__\u001b[0m \u001b[1;33m=\u001b[0m \u001b[0mplot_dataframe\u001b[0m\u001b[1;33m.\u001b[0m\u001b[0m__doc__\u001b[0m\u001b[1;33m\u001b[0m\u001b[1;33m\u001b[0m\u001b[0m\n",
      "\u001b[1;32m~\\AppData\\Local\\Programs\\Python\\Python37-32\\lib\\site-packages\\geopandas\\plotting.py\u001b[0m in \u001b[0;36mplot_dataframe\u001b[1;34m(df, column, cmap, color, ax, cax, categorical, legend, scheme, k, vmin, vmax, markersize, figsize, legend_kwds, classification_kwds, missing_kwds, **style_kwds)\u001b[0m\n\u001b[0;32m    557\u001b[0m             \u001b[0mvalues\u001b[0m \u001b[1;33m=\u001b[0m \u001b[0mnp\u001b[0m\u001b[1;33m.\u001b[0m\u001b[0masarray\u001b[0m\u001b[1;33m(\u001b[0m\u001b[0mcolumn\u001b[0m\u001b[1;33m)\u001b[0m\u001b[1;33m\u001b[0m\u001b[1;33m\u001b[0m\u001b[0m\n\u001b[0;32m    558\u001b[0m     \u001b[1;32melse\u001b[0m\u001b[1;33m:\u001b[0m\u001b[1;33m\u001b[0m\u001b[1;33m\u001b[0m\u001b[0m\n\u001b[1;32m--> 559\u001b[1;33m         \u001b[0mvalues\u001b[0m \u001b[1;33m=\u001b[0m \u001b[0mnp\u001b[0m\u001b[1;33m.\u001b[0m\u001b[0masarray\u001b[0m\u001b[1;33m(\u001b[0m\u001b[0mdf\u001b[0m\u001b[1;33m[\u001b[0m\u001b[0mcolumn\u001b[0m\u001b[1;33m]\u001b[0m\u001b[1;33m)\u001b[0m\u001b[1;33m\u001b[0m\u001b[1;33m\u001b[0m\u001b[0m\n\u001b[0m\u001b[0;32m    560\u001b[0m \u001b[1;33m\u001b[0m\u001b[0m\n\u001b[0;32m    561\u001b[0m     \u001b[1;32mif\u001b[0m \u001b[0mvalues\u001b[0m\u001b[1;33m.\u001b[0m\u001b[0mdtype\u001b[0m \u001b[1;32mis\u001b[0m \u001b[0mnp\u001b[0m\u001b[1;33m.\u001b[0m\u001b[0mdtype\u001b[0m\u001b[1;33m(\u001b[0m\u001b[1;34m\"O\"\u001b[0m\u001b[1;33m)\u001b[0m\u001b[1;33m:\u001b[0m\u001b[1;33m\u001b[0m\u001b[1;33m\u001b[0m\u001b[0m\n",
      "\u001b[1;32m~\\AppData\\Local\\Programs\\Python\\Python37-32\\lib\\site-packages\\geopandas\\geodataframe.py\u001b[0m in \u001b[0;36m__getitem__\u001b[1;34m(self, key)\u001b[0m\n\u001b[0;32m    574\u001b[0m         \u001b[0mGeoDataFrame\u001b[0m\u001b[1;33m.\u001b[0m\u001b[1;33m\u001b[0m\u001b[1;33m\u001b[0m\u001b[0m\n\u001b[0;32m    575\u001b[0m         \"\"\"\n\u001b[1;32m--> 576\u001b[1;33m         \u001b[0mresult\u001b[0m \u001b[1;33m=\u001b[0m \u001b[0msuper\u001b[0m\u001b[1;33m(\u001b[0m\u001b[0mGeoDataFrame\u001b[0m\u001b[1;33m,\u001b[0m \u001b[0mself\u001b[0m\u001b[1;33m)\u001b[0m\u001b[1;33m.\u001b[0m\u001b[0m__getitem__\u001b[0m\u001b[1;33m(\u001b[0m\u001b[0mkey\u001b[0m\u001b[1;33m)\u001b[0m\u001b[1;33m\u001b[0m\u001b[1;33m\u001b[0m\u001b[0m\n\u001b[0m\u001b[0;32m    577\u001b[0m         \u001b[0mgeo_col\u001b[0m \u001b[1;33m=\u001b[0m \u001b[0mself\u001b[0m\u001b[1;33m.\u001b[0m\u001b[0m_geometry_column_name\u001b[0m\u001b[1;33m\u001b[0m\u001b[1;33m\u001b[0m\u001b[0m\n\u001b[0;32m    578\u001b[0m         \u001b[1;32mif\u001b[0m \u001b[0misinstance\u001b[0m\u001b[1;33m(\u001b[0m\u001b[0mkey\u001b[0m\u001b[1;33m,\u001b[0m \u001b[0mstr\u001b[0m\u001b[1;33m)\u001b[0m \u001b[1;32mand\u001b[0m \u001b[0mkey\u001b[0m \u001b[1;33m==\u001b[0m \u001b[0mgeo_col\u001b[0m\u001b[1;33m:\u001b[0m\u001b[1;33m\u001b[0m\u001b[1;33m\u001b[0m\u001b[0m\n",
      "\u001b[1;32m~\\AppData\\Local\\Programs\\Python\\Python37-32\\lib\\site-packages\\pandas\\core\\frame.py\u001b[0m in \u001b[0;36m__getitem__\u001b[1;34m(self, key)\u001b[0m\n\u001b[0;32m   2798\u001b[0m             \u001b[1;32mif\u001b[0m \u001b[0mself\u001b[0m\u001b[1;33m.\u001b[0m\u001b[0mcolumns\u001b[0m\u001b[1;33m.\u001b[0m\u001b[0mnlevels\u001b[0m \u001b[1;33m>\u001b[0m \u001b[1;36m1\u001b[0m\u001b[1;33m:\u001b[0m\u001b[1;33m\u001b[0m\u001b[1;33m\u001b[0m\u001b[0m\n\u001b[0;32m   2799\u001b[0m                 \u001b[1;32mreturn\u001b[0m \u001b[0mself\u001b[0m\u001b[1;33m.\u001b[0m\u001b[0m_getitem_multilevel\u001b[0m\u001b[1;33m(\u001b[0m\u001b[0mkey\u001b[0m\u001b[1;33m)\u001b[0m\u001b[1;33m\u001b[0m\u001b[1;33m\u001b[0m\u001b[0m\n\u001b[1;32m-> 2800\u001b[1;33m             \u001b[0mindexer\u001b[0m \u001b[1;33m=\u001b[0m \u001b[0mself\u001b[0m\u001b[1;33m.\u001b[0m\u001b[0mcolumns\u001b[0m\u001b[1;33m.\u001b[0m\u001b[0mget_loc\u001b[0m\u001b[1;33m(\u001b[0m\u001b[0mkey\u001b[0m\u001b[1;33m)\u001b[0m\u001b[1;33m\u001b[0m\u001b[1;33m\u001b[0m\u001b[0m\n\u001b[0m\u001b[0;32m   2801\u001b[0m             \u001b[1;32mif\u001b[0m \u001b[0mis_integer\u001b[0m\u001b[1;33m(\u001b[0m\u001b[0mindexer\u001b[0m\u001b[1;33m)\u001b[0m\u001b[1;33m:\u001b[0m\u001b[1;33m\u001b[0m\u001b[1;33m\u001b[0m\u001b[0m\n\u001b[0;32m   2802\u001b[0m                 \u001b[0mindexer\u001b[0m \u001b[1;33m=\u001b[0m \u001b[1;33m[\u001b[0m\u001b[0mindexer\u001b[0m\u001b[1;33m]\u001b[0m\u001b[1;33m\u001b[0m\u001b[1;33m\u001b[0m\u001b[0m\n",
      "\u001b[1;32m~\\AppData\\Local\\Programs\\Python\\Python37-32\\lib\\site-packages\\pandas\\core\\indexes\\base.py\u001b[0m in \u001b[0;36mget_loc\u001b[1;34m(self, key, method, tolerance)\u001b[0m\n\u001b[0;32m   2646\u001b[0m                 \u001b[1;32mreturn\u001b[0m \u001b[0mself\u001b[0m\u001b[1;33m.\u001b[0m\u001b[0m_engine\u001b[0m\u001b[1;33m.\u001b[0m\u001b[0mget_loc\u001b[0m\u001b[1;33m(\u001b[0m\u001b[0mkey\u001b[0m\u001b[1;33m)\u001b[0m\u001b[1;33m\u001b[0m\u001b[1;33m\u001b[0m\u001b[0m\n\u001b[0;32m   2647\u001b[0m             \u001b[1;32mexcept\u001b[0m \u001b[0mKeyError\u001b[0m\u001b[1;33m:\u001b[0m\u001b[1;33m\u001b[0m\u001b[1;33m\u001b[0m\u001b[0m\n\u001b[1;32m-> 2648\u001b[1;33m                 \u001b[1;32mreturn\u001b[0m \u001b[0mself\u001b[0m\u001b[1;33m.\u001b[0m\u001b[0m_engine\u001b[0m\u001b[1;33m.\u001b[0m\u001b[0mget_loc\u001b[0m\u001b[1;33m(\u001b[0m\u001b[0mself\u001b[0m\u001b[1;33m.\u001b[0m\u001b[0m_maybe_cast_indexer\u001b[0m\u001b[1;33m(\u001b[0m\u001b[0mkey\u001b[0m\u001b[1;33m)\u001b[0m\u001b[1;33m)\u001b[0m\u001b[1;33m\u001b[0m\u001b[1;33m\u001b[0m\u001b[0m\n\u001b[0m\u001b[0;32m   2649\u001b[0m         \u001b[0mindexer\u001b[0m \u001b[1;33m=\u001b[0m \u001b[0mself\u001b[0m\u001b[1;33m.\u001b[0m\u001b[0mget_indexer\u001b[0m\u001b[1;33m(\u001b[0m\u001b[1;33m[\u001b[0m\u001b[0mkey\u001b[0m\u001b[1;33m]\u001b[0m\u001b[1;33m,\u001b[0m \u001b[0mmethod\u001b[0m\u001b[1;33m=\u001b[0m\u001b[0mmethod\u001b[0m\u001b[1;33m,\u001b[0m \u001b[0mtolerance\u001b[0m\u001b[1;33m=\u001b[0m\u001b[0mtolerance\u001b[0m\u001b[1;33m)\u001b[0m\u001b[1;33m\u001b[0m\u001b[1;33m\u001b[0m\u001b[0m\n\u001b[0;32m   2650\u001b[0m         \u001b[1;32mif\u001b[0m \u001b[0mindexer\u001b[0m\u001b[1;33m.\u001b[0m\u001b[0mndim\u001b[0m \u001b[1;33m>\u001b[0m \u001b[1;36m1\u001b[0m \u001b[1;32mor\u001b[0m \u001b[0mindexer\u001b[0m\u001b[1;33m.\u001b[0m\u001b[0msize\u001b[0m \u001b[1;33m>\u001b[0m \u001b[1;36m1\u001b[0m\u001b[1;33m:\u001b[0m\u001b[1;33m\u001b[0m\u001b[1;33m\u001b[0m\u001b[0m\n",
      "\u001b[1;32mpandas\\_libs\\index.pyx\u001b[0m in \u001b[0;36mpandas._libs.index.IndexEngine.get_loc\u001b[1;34m()\u001b[0m\n",
      "\u001b[1;32mpandas\\_libs\\index.pyx\u001b[0m in \u001b[0;36mpandas._libs.index.IndexEngine.get_loc\u001b[1;34m()\u001b[0m\n",
      "\u001b[1;32mpandas\\_libs\\hashtable_class_helper.pxi\u001b[0m in \u001b[0;36mpandas._libs.hashtable.PyObjectHashTable.get_item\u001b[1;34m()\u001b[0m\n",
      "\u001b[1;32mpandas\\_libs\\hashtable_class_helper.pxi\u001b[0m in \u001b[0;36mpandas._libs.hashtable.PyObjectHashTable.get_item\u001b[1;34m()\u001b[0m\n",
      "\u001b[1;31mKeyError\u001b[0m: 'fit_b'"
     ]
    }
   ],
   "source": [
    "\n",
    "world = geopandas.read_file(geopandas.datasets.get_path('naturalearth_lowres'))\n",
    "\n",
    "world.rename(columns={'name': 'zone'}, inplace=True)\n",
    "\n",
    "a = world.merge(zone_df, on='zone', how='outer')\n",
    "\n",
    "a.plot(column='fit_b', legend=True, cmap='summer', missing_kwds={\n",
    "    \"color\": 'lightgrey'\n",
    "})"
   ]
  }
 ],
 "metadata": {
  "kernelspec": {
   "display_name": "Python 3",
   "language": "python",
   "name": "python3"
  },
  "language_info": {
   "codemirror_mode": {
    "name": "ipython",
    "version": 3
   },
   "file_extension": ".py",
   "mimetype": "text/x-python",
   "name": "python",
   "nbconvert_exporter": "python",
   "pygments_lexer": "ipython3",
   "version": "3.7.2-final"
  }
 },
 "nbformat": 4,
 "nbformat_minor": 4
}