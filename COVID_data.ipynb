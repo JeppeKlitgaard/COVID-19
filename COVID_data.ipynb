{
 "cells": [
  {
   "cell_type": "markdown",
   "metadata": {},
   "source": [
    "# COVID-19 Data Analysis\n",
    "This notebook is for playing around with the `Johns Hopkins University` COVID-19 Data.\n",
    "\n",
    "It uses the `covid` module located alongside it."
   ]
  },
  {
   "cell_type": "markdown",
   "metadata": {},
   "source": [
    "## 1.1 Methods\n",
    "\n",
    "The data is collected in `pandas.DataFrame`s:\n",
    "* `zone_df` is pandas DataFrame containing information on each zone.\n",
    "* `ts_df` is a pandas DataFrame containing time-series COVID metrics\n",
    "\n",
    "World Bank Indicators are used through the `wbdata` interface in order to find correlations and the population size of each country. Country names are normalised to fit the `JHU` names.\n",
    "\n",
    "`pycountry` and `pycountry_convert` is used to lookup which continent a given country is located in to enable easy data slicing later on.\n",
    "\n",
    "A logistic fit is made using `lmfit.Model` and plotted.\n",
    "\n",
    "Correlations are then found and explored by calculating the Pearson correlation coefficient for the data stored in `zone_df`.\n"
   ]
  },
  {
   "cell_type": "code",
   "execution_count": 2,
   "metadata": {},
   "outputs": [],
   "source": [
    "## Initialisation\n",
    "from ipywidgets import interact, interactive, fixed, interact_manual\n",
    "import pandas as pd\n",
    "import geopandas\n",
    "import statsmodels.api as sm\n",
    "from statsmodels.formula.api import ols\n",
    "import pycountry\n",
    "import pycountry_convert\n",
    "import numpy as np\n",
    "import matplotlib\n",
    "import matplotlib.pyplot as plt\n",
    "import bokeh\n",
    "import bokeh.palettes\n",
    "import plotly.express as px\n",
    "import plotly.graph_objects as go\n",
    "import wbdata\n",
    "from covid.grabbers import grab_wbdata, grab_JHU\n",
    "from covid.utils import (print_wb_indicators, print_wb_sources, get_x_day, rchop, drop_y,\n",
    "                         get_latest_valid, country_to_continent)\n",
    "from covid.constants import WB_DF_RENAMED_COUNTRIES\n",
    "from covid.statistics import LogisticModel\n",
    ""
   ]
  },
  {
   "cell_type": "markdown",
   "metadata": {},
   "source": [
    "## 2.1 Setting up `zone_df`"
   ]
  },
  {
   "cell_type": "code",
   "execution_count": 3,
   "metadata": {},
   "outputs": [
    {
     "output_type": "stream",
     "name": "stdout",
     "text": "Failed to process Arab World due to error: arab world\nFailed to process Caribbean small states due to error: caribbean small states\nFailed to process Central Europe and the Baltics due to error: central europe and the baltics\nFailed to process Channel Islands due to error: channel islands\nFailed to process Congo (Kinshasa) due to error: congo (kinshasa)\nFailed to process Congo (Brazzaville) due to error: congo (brazzaville)\nFailed to process Early-demographic dividend due to error: early-demographic dividend\nFailed to process East Asia & Pacific due to error: east asia & pacific\nFailed to process East Asia & Pacific (IDA & IBRD countries) due to error: east asia & pacific (ida & ibrd countries)\nFailed to process East Asia & Pacific (excluding high income) due to error: east asia & pacific (excluding high income)\nFailed to process Euro area due to error: euro area\nFailed to process Europe & Central Asia due to error: europe & central asia\nFailed to process Europe & Central Asia (IDA & IBRD countries) due to error: europe & central asia (ida & ibrd countries)\nFailed to process Europe & Central Asia (excluding high income) due to error: europe & central asia (excluding high income)\nFailed to process European Union due to error: european union\nFailed to process Fragile and conflict affected situations due to error: fragile and conflict affected situations\nFailed to process Heavily indebted poor countries (HIPC) due to error: heavily indebted poor countries (hipc)\nFailed to process High income due to error: high income\nFailed to process Hong Kong SAR, China due to error: hong kong sar, china\nFailed to process IBRD only due to error: ibrd only\nFailed to process IDA & IBRD total due to error: ida & ibrd total\nFailed to process IDA blend due to error: ida blend\nFailed to process IDA only due to error: ida only\nFailed to process IDA total due to error: ida total\nFailed to process Korea, Dem. People���s Rep. due to error: korea, dem. people���s rep.\nFailed to process Korea, South due to error: korea, south\nFailed to process Laos due to error: laos\nFailed to process Late-demographic dividend due to error: late-demographic dividend\nFailed to process Latin America & Caribbean due to error: latin america & caribbean\nFailed to process Latin America & Caribbean (excluding high income) due to error: latin america & caribbean (excluding high income)\nFailed to process Latin America & the Caribbean (IDA & IBRD countries) due to error: latin america & the caribbean (ida & ibrd countries)\nFailed to process Least developed countries: UN classification due to error: least developed countries: un classification\nFailed to process Low & middle income due to error: low & middle income\nFailed to process Low income due to error: low income\nFailed to process Lower middle income due to error: lower middle income\nFailed to process Macao SAR, China due to error: macao sar, china\nFailed to process Micronesia, Fed. Sts. due to error: micronesia, fed. sts.\nFailed to process Middle East & North Africa due to error: middle east & north africa\nFailed to process Middle East & North Africa (IDA & IBRD countries) due to error: middle east & north africa (ida & ibrd countries)\nFailed to process Middle East & North Africa (excluding high income) due to error: middle east & north africa (excluding high income)\nFailed to process Middle income due to error: middle income\nFailed to process Burma due to error: burma\nFailed to process North America due to error: north america\nFailed to process nan due to error: 'float' object has no attribute 'strip'\nFailed to process nan due to error: 'float' object has no attribute 'strip'\nFailed to process nan due to error: 'float' object has no attribute 'strip'\nFailed to process nan due to error: 'float' object has no attribute 'strip'\nFailed to process nan due to error: 'float' object has no attribute 'strip'\nFailed to process nan due to error: 'float' object has no attribute 'strip'\nFailed to process nan due to error: 'float' object has no attribute 'strip'\nFailed to process nan due to error: 'float' object has no attribute 'strip'\nFailed to process nan due to error: 'float' object has no attribute 'strip'\nFailed to process nan due to error: 'float' object has no attribute 'strip'\nFailed to process nan due to error: 'float' object has no attribute 'strip'\nFailed to process nan due to error: 'float' object has no attribute 'strip'\nFailed to process nan due to error: 'float' object has no attribute 'strip'\nFailed to process nan due to error: 'float' object has no attribute 'strip'\nFailed to process nan due to error: 'float' object has no attribute 'strip'\nFailed to process nan due to error: 'float' object has no attribute 'strip'\nFailed to process nan due to error: 'float' object has no attribute 'strip'\nFailed to process nan due to error: 'float' object has no attribute 'strip'\nFailed to process nan due to error: 'float' object has no attribute 'strip'\nFailed to process nan due to error: 'float' object has no attribute 'strip'\nFailed to process nan due to error: 'float' object has no attribute 'strip'\nFailed to process nan due to error: 'float' object has no attribute 'strip'\nFailed to process nan due to error: 'float' object has no attribute 'strip'\nFailed to process nan due to error: 'float' object has no attribute 'strip'\nFailed to process nan due to error: 'float' object has no attribute 'strip'\nFailed to process nan due to error: 'float' object has no attribute 'strip'\nFailed to process nan due to error: 'float' object has no attribute 'strip'\nFailed to process nan due to error: 'float' object has no attribute 'strip'\nFailed to process nan due to error: 'float' object has no attribute 'strip'\nFailed to process nan due to error: 'float' object has no attribute 'strip'\nFailed to process nan due to error: 'float' object has no attribute 'strip'\nFailed to process nan due to error: 'float' object has no attribute 'strip'\nFailed to process nan due to error: 'float' object has no attribute 'strip'\nFailed to process nan due to error: 'float' object has no attribute 'strip'\nFailed to process nan due to error: 'float' object has no attribute 'strip'\nFailed to process nan due to error: 'float' object has no attribute 'strip'\nFailed to process nan due to error: 'float' object has no attribute 'strip'\nFailed to process nan due to error: 'float' object has no attribute 'strip'\nFailed to process nan due to error: 'float' object has no attribute 'strip'\nFailed to process nan due to error: 'float' object has no attribute 'strip'\nFailed to process nan due to error: 'float' object has no attribute 'strip'\nFailed to process nan due to error: 'float' object has no attribute 'strip'\nFailed to process nan due to error: 'float' object has no attribute 'strip'\nFailed to process nan due to error: 'float' object has no attribute 'strip'\nFailed to process nan due to error: 'float' object has no attribute 'strip'\nFailed to process nan due to error: 'float' object has no attribute 'strip'\nFailed to process nan due to error: 'float' object has no attribute 'strip'\nFailed to process nan due to error: 'float' object has no attribute 'strip'\nFailed to process nan due to error: 'float' object has no attribute 'strip'\nFailed to process nan due to error: 'float' object has no attribute 'strip'\nFailed to process nan due to error: 'float' object has no attribute 'strip'\nFailed to process nan due to error: 'float' object has no attribute 'strip'\nFailed to process nan due to error: 'float' object has no attribute 'strip'\nFailed to process nan due to error: 'float' object has no attribute 'strip'\nFailed to process OECD members due to error: oecd members\nFailed to process Other small states due to error: other small states\nFailed to process Pacific island small states due to error: pacific island small states\nFailed to process Post-demographic dividend due to error: post-demographic dividend\nFailed to process Pre-demographic dividend due to error: pre-demographic dividend\nFailed to process Sint Maarten (Dutch part) due to error: \"Invalid Country Alpha-2 code: 'SX'\"\nFailed to process Small states due to error: small states\nFailed to process South Asia due to error: south asia\nFailed to process South Asia (IDA & IBRD) due to error: south asia (ida & ibrd)\nFailed to process St. Martin (French part) due to error: st. martin (french part)\nFailed to process Sub-Saharan Africa due to error: sub-saharan africa\nFailed to process Sub-Saharan Africa (IDA & IBRD countries) due to error: sub-saharan africa (ida & ibrd countries)\nFailed to process Sub-Saharan Africa (excluding high income) due to error: sub-saharan africa (excluding high income)\nFailed to process Timor-Leste due to error: \"Invalid Country Alpha-2 code: 'TL'\"\nFailed to process Upper middle income due to error: upper middle income\nFailed to process Virgin Islands (U.S.) due to error: virgin islands (u.s.)\nFailed to process West Bank and Gaza due to error: west bank and gaza\nFailed to process World due to error: world\nFailed to process Jersey, Channel Islands due to error: jersey, channel islands\nFailed to process Netherlands Antilles due to error: netherlands antilles\nFailed to process Taiwan* due to error: taiwan*\n"
    },
    {
     "output_type": "execute_result",
     "data": {
      "text/plain": "                     zone  population  urbanisation  hospital_beds_per_1K  \\\n0             Afghanistan  37172386.0        25.495                   0.5   \n1                 Albania   2866376.0        60.319                   2.9   \n2                 Algeria  42228429.0        72.629                   1.9   \n3          American Samoa     55465.0        87.153                   NaN   \n4                 Andorra     77006.0        88.062                   2.5   \n..                    ...         ...           ...                   ...   \n321            Martinique         NaN           NaN                   NaN   \n322  Netherlands Antilles         NaN           NaN                   NaN   \n323                  Niue         NaN           NaN                   NaN   \n324               Reunion         NaN           NaN                   NaN   \n325               Taiwan*         NaN           NaN                   NaN   \n\n     voice_and_accountability  government_effectiveness      continent  \n0                   -1.718050                 -1.838644           Asia  \n1                   -0.251730                 -0.629331         Europe  \n2                   -1.128412                 -0.818300         Africa  \n3                         NaN                       NaN        Oceania  \n4                    1.497404                  1.431379         Europe  \n..                        ...                       ...            ...  \n321                  0.719746                  0.909367  North America  \n322                       NaN                       NaN        Unknown  \n323                       NaN                       NaN        Oceania  \n324                       NaN                       NaN         Africa  \n325                  0.832382                  0.782180        Unknown  \n\n[326 rows x 7 columns]",
      "text/html": "<div>\n<style scoped>\n    .dataframe tbody tr th:only-of-type {\n        vertical-align: middle;\n    }\n\n    .dataframe tbody tr th {\n        vertical-align: top;\n    }\n\n    .dataframe thead th {\n        text-align: right;\n    }\n</style>\n<table border=\"1\" class=\"dataframe\">\n  <thead>\n    <tr style=\"text-align: right;\">\n      <th></th>\n      <th>zone</th>\n      <th>population</th>\n      <th>urbanisation</th>\n      <th>hospital_beds_per_1K</th>\n      <th>voice_and_accountability</th>\n      <th>government_effectiveness</th>\n      <th>continent</th>\n    </tr>\n  </thead>\n  <tbody>\n    <tr>\n      <th>0</th>\n      <td>Afghanistan</td>\n      <td>37172386.0</td>\n      <td>25.495</td>\n      <td>0.5</td>\n      <td>-1.718050</td>\n      <td>-1.838644</td>\n      <td>Asia</td>\n    </tr>\n    <tr>\n      <th>1</th>\n      <td>Albania</td>\n      <td>2866376.0</td>\n      <td>60.319</td>\n      <td>2.9</td>\n      <td>-0.251730</td>\n      <td>-0.629331</td>\n      <td>Europe</td>\n    </tr>\n    <tr>\n      <th>2</th>\n      <td>Algeria</td>\n      <td>42228429.0</td>\n      <td>72.629</td>\n      <td>1.9</td>\n      <td>-1.128412</td>\n      <td>-0.818300</td>\n      <td>Africa</td>\n    </tr>\n    <tr>\n      <th>3</th>\n      <td>American Samoa</td>\n      <td>55465.0</td>\n      <td>87.153</td>\n      <td>NaN</td>\n      <td>NaN</td>\n      <td>NaN</td>\n      <td>Oceania</td>\n    </tr>\n    <tr>\n      <th>4</th>\n      <td>Andorra</td>\n      <td>77006.0</td>\n      <td>88.062</td>\n      <td>2.5</td>\n      <td>1.497404</td>\n      <td>1.431379</td>\n      <td>Europe</td>\n    </tr>\n    <tr>\n      <th>...</th>\n      <td>...</td>\n      <td>...</td>\n      <td>...</td>\n      <td>...</td>\n      <td>...</td>\n      <td>...</td>\n      <td>...</td>\n    </tr>\n    <tr>\n      <th>321</th>\n      <td>Martinique</td>\n      <td>NaN</td>\n      <td>NaN</td>\n      <td>NaN</td>\n      <td>0.719746</td>\n      <td>0.909367</td>\n      <td>North America</td>\n    </tr>\n    <tr>\n      <th>322</th>\n      <td>Netherlands Antilles</td>\n      <td>NaN</td>\n      <td>NaN</td>\n      <td>NaN</td>\n      <td>NaN</td>\n      <td>NaN</td>\n      <td>Unknown</td>\n    </tr>\n    <tr>\n      <th>323</th>\n      <td>Niue</td>\n      <td>NaN</td>\n      <td>NaN</td>\n      <td>NaN</td>\n      <td>NaN</td>\n      <td>NaN</td>\n      <td>Oceania</td>\n    </tr>\n    <tr>\n      <th>324</th>\n      <td>Reunion</td>\n      <td>NaN</td>\n      <td>NaN</td>\n      <td>NaN</td>\n      <td>NaN</td>\n      <td>NaN</td>\n      <td>Africa</td>\n    </tr>\n    <tr>\n      <th>325</th>\n      <td>Taiwan*</td>\n      <td>NaN</td>\n      <td>NaN</td>\n      <td>NaN</td>\n      <td>0.832382</td>\n      <td>0.782180</td>\n      <td>Unknown</td>\n    </tr>\n  </tbody>\n</table>\n<p>326 rows × 7 columns</p>\n</div>"
     },
     "metadata": {},
     "execution_count": 3
    }
   ],
   "source": [
    "### Add stats to zone_df\n",
    "def process_wb_indicator(indicator, column_name=None):\n",
    "    if column_name is None:\n",
    "        column_name = indicator\n",
    "    \n",
    "    df = grab_wbdata({indicator: column_name})\n",
    "    df = get_latest_valid(df).reset_index(level=1, drop=True)\n",
    "\n",
    "    df.index.name='zone'\n",
    "    df.rename(index=WB_DF_RENAMED_COUNTRIES, inplace=True)\n",
    "\n",
    "    return df\n",
    "\n",
    "zone_df = pd.DataFrame(columns=['zone'])\n",
    "\n",
    "# Subnational population. Source=50\n",
    "zone_df = pd.merge(zone_df, process_wb_indicator('SP.POP.TOTL', 'population'), on='zone', how='outer', suffixes=('', '_y'))\n",
    "\n",
    "# Degree of urbanisation\n",
    "zone_df = pd.merge(zone_df, process_wb_indicator('SP.URB.TOTL.IN.ZS', 'urbanisation'), on='zone', how='outer', suffixes=('', '_y'))\n",
    "\n",
    "# Hospital beds per 1K population\n",
    "zone_df = pd.merge(zone_df, process_wb_indicator('SH.MED.BEDS.ZS', 'hospital_beds_per_1K'), on='zone', how='outer', suffixes=('', '_y'))\n",
    "\n",
    "# \n",
    "# grab indicators and load into data frame\n",
    "wb_df = grab_wbdata({'VA.EST': 'voice_and_accountability',\n",
    "                     'GE.EST': 'government_effectiveness', })\n",
    "\n",
    "gov_df = wb_df.groupby(level='country').tail(5).groupby(level='country').mean()\n",
    "gov_df.index.name = 'zone'\n",
    "gov_df.rename(index=WB_DF_RENAMED_COUNTRIES, inplace=True)\n",
    "\n",
    "# Merge into zone_df\n",
    "zone_df = pd.merge(zone_df, gov_df, on='zone', how='outer', suffixes=('', '_y'))\n",
    "drop_y(zone_df)\n",
    "\n",
    "# Add continents to zone_df\n",
    "zone_df['continent'] = zone_df['zone'].apply(country_to_continent)\n",
    "\n",
    "del wb_df\n",
    "del gov_df\n",
    "zone_df"
   ]
  },
  {
   "cell_type": "markdown",
   "metadata": {},
   "source": [
    "## 2.2 Setup parameters"
   ]
  },
  {
   "cell_type": "code",
   "execution_count": 19,
   "metadata": {},
   "outputs": [],
   "source": [
    "MIN_REGRESSION_DATAPOINTS = 5\n",
    "\n",
    "label = 'deaths_per_1M'\n",
    "regression_predict_length = 10\n",
    "regression_confidence_levels = 1  # 0 to disable\n",
    "fit_method = 'leastsq'\n",
    "log_scale = True\n",
    "annotate_country = True\n",
    "# countries = 'all'\n",
    "# countries = ['United Kingdom', 'Italy', 'Spain', 'Denmark', 'Iran', 'Greece', 'US', 'Sweden', 'Austria', 'Germany', 'Norway', 'Japan', 'Australia', 'France', 'China']\n",
    "countries = ['Denmark', 'US', 'Iran', 'United Kingdom', 'Sweden', 'Italy', 'Spain']\n",
    "\n",
    "if label.startswith('cases'):\n",
    "    n = 100\n",
    "else:\n",
    "    n = 10\n",
    "\n",
    ""
   ]
  },
  {
   "cell_type": "markdown",
   "metadata": {},
   "source": [
    "## 2.3 Setting up `ts_df`"
   ]
  },
  {
   "cell_type": "code",
   "execution_count": 20,
   "metadata": {},
   "outputs": [],
   "source": [
    "## Timeseries\n",
    "# Grab JHU time series data\n",
    "\n",
    "ts_df = grab_JHU()\n",
    "\n",
    "if countries == 'all':\n",
    "    countries = ts_df.reset_index()['country'].unique()\n",
    "\n",
    "# Add population to ts_df\n",
    "ts_df = pd.merge(ts_df.reset_index(), zone_df.set_index('zone')['population'], left_on='country', right_on='zone', how='outer')\n",
    "ts_df.set_index(['country', 'date'], inplace=True)\n",
    "ts_df.sort_index(inplace=True)\n",
    "\n",
    "# Calculate per population\n",
    "for metric in ('cases', 'deaths', 'recoveries'):\n",
    "    ts_df[metric + '_per_1M'] = (ts_df[metric] * 10**6) / ts_df['population']\n",
    "\n",
    "# Calculate outcome\n",
    "ts_df['deaths_per_recovery'] = ts_df['deaths'] / ts_df['recoveries']\n",
    "\n",
    "# Calculate x day\n",
    "x_days = ts_df.groupby('country').apply(lambda x: get_x_day(x, rchop(label, '_per_1M'), n))\n",
    "ts_df = pd.merge(ts_df, x_days.rename('x_day'), on='country', suffixes=('', '_y'))\n",
    "drop_y(ts_df)\n",
    "\n",
    "ts_df['rel_day'] = ts_df['day'] - ts_df['x_day']\n",
    ""
   ]
  },
  {
   "cell_type": "code",
   "execution_count": 76,
   "metadata": {},
   "outputs": [
    {
     "output_type": "execute_result",
     "data": {
      "text/plain": "'(1.0, 1.0, 1.0, 0.0196078431372549)'"
     },
     "metadata": {},
     "execution_count": 76
    }
   ],
   "source": [
    "import matplotlib.colors\n",
    "str(matplotlib.colors.to_rgba('#ffffff05'))"
   ]
  },
  {
   "cell_type": "markdown",
   "metadata": {},
   "source": [
    "## 2.4 Run regression and plot"
   ]
  },
  {
   "cell_type": "code",
   "execution_count": 80,
   "metadata": {
    "scrolled": false,
    "tags": []
   },
   "outputs": [
    {
     "output_type": "stream",
     "name": "stdout",
     "text": "Processing country: Denmark\nProcessing country: US\nProcessing country: Iran\nProcessing country: United Kingdom\nProcessing country: Sweden\nProcessing country: Italy\nProcessing country: Spain\n"
    },
    {
     "output_type": "display_data",
     "data": {
      "application/vnd.plotly.v1+json": {
       "config": {
        "plotlyServerURL": "https://plot.ly"
       },
       "data": [
        {
         "hovertemplate": "<b>Denmark</b><br>(%{x}, %{y})<br><extra></extra>",
         "legendgroup": "Denmark",
         "marker": {
          "color": "#440154"
         },
         "mode": "markers",
         "name": "Denmark",
         "type": "scattergl",
         "x": [
          1,
          2,
          3,
          4,
          5,
          6,
          7,
          8,
          9,
          10,
          11,
          12,
          13,
          14,
          15,
          16,
          17,
          18,
          19,
          20,
          21
         ],
         "y": [
          2.2438413459181765,
          4.142476330925864,
          5.523301774567819,
          5.868508135478308,
          7.076730398665018,
          8.975365383672706,
          11.219206729590882,
          12.427428992777592,
          13.290444895053815,
          15.53428624097199,
          17.950730767345412,
          21.230191195995054,
          23.991842083278964,
          27.78911205329434,
          30.895969301488737,
          32.276794745130694,
          35.0384456324146,
          37.627493339243266,
          40.90695376789291,
          42.63298557244535,
          44.87682691836353
         ]
        },
        {
         "hovertemplate": "<b>Denmark</b><br>(%{x}, %{y})<br>a: 19<br>b: 0.204<br>c: 56.49091<extra></extra>",
         "legendgroup": "Denmark",
         "line": {
          "color": "#440154"
         },
         "mode": "lines",
         "name": "Denmark",
         "showlegend": false,
         "type": "scattergl",
         "x": [
          1,
          2,
          3,
          4,
          5,
          6,
          7,
          8,
          9,
          10,
          11,
          12,
          13,
          14,
          15,
          16,
          17,
          18,
          19,
          20,
          21,
          22,
          23,
          24,
          25,
          26,
          27,
          28,
          29,
          30,
          31
         ],
         "y": [
          3.4031535196694374,
          4.118551983987074,
          4.970259006443442,
          5.977992760330739,
          7.161645634264229,
          8.540040500915799,
          10.12925738535647,
          11.940568190741315,
          13.978121207238534,
          16.236646778703715,
          18.699581111066014,
          21.33807762743329,
          24.111338409909578,
          26.968515838365416,
          29.85212126196107,
          32.70251377784853,
          35.462752592866465,
          38.08299429078268,
          40.52374383788972,
          42.757572804390236,
          44.76928214367081,
          46.55478803051153,
          48.11917456513096,
          49.47437899221424,
          50.636893665685236,
          51.62574073875373,
          52.46084774129709,
          53.16185203194592,
          53.747297909000146,
          54.23415813598277,
          54.63760286285571
         ]
        },
        {
         "fill": "toself",
         "fillcolor": "rgba(0.26666666666666666, 0.00392156862745098, 0.32941176470588235, 0.3333333333333333)",
         "hoverinfo": "skip",
         "legendgroup": "Denmark",
         "line": {
          "color": "rgba(255, 255, 255, 0)"
         },
         "mode": "lines",
         "showlegend": false,
         "type": "scatter",
         "x": [
          1,
          2,
          3,
          4,
          5,
          6,
          7,
          8,
          9,
          10,
          11,
          12,
          13,
          14,
          15,
          16,
          17,
          18,
          19,
          20,
          21,
          22,
          23,
          24,
          25,
          26,
          27,
          28,
          29,
          30,
          31,
          31,
          30,
          29,
          28,
          27,
          26,
          25,
          24,
          23,
          22,
          21,
          20,
          19,
          18,
          17,
          16,
          15,
          14,
          13,
          12,
          11,
          10,
          9,
          8,
          7,
          6,
          5,
          4,
          3,
          2,
          1
         ],
         "y": [
          3.3914973948048437,
          4.132457537469212,
          5.020495359028194,
          6.077949917144688,
          7.327495963957097,
          8.790680800360903,
          10.485923217670623,
          12.426017279749935,
          14.615320939399828,
          17.04698229712816,
          19.70072264135822,
          22.54178490450594,
          25.5215899783732,
          28.580375435811078,
          31.651654187215176,
          34.667851636375325,
          37.56613905291421,
          40.29342207166937,
          42.809692343759615,
          45.08939980937169,
          47.12097458689242,
          48.904966396258054,
          50.45140760087422,
          51.77696510352629,
          52.902298902393994,
          53.849868132415224,
          54.64227218558746,
          55.301108323791425,
          55.84626879504217,
          56.29557906661879,
          56.66468086843555,
          52.58662699787905,
          52.1482162739978,
          51.6238338197618,
          50.99900302691982,
          50.25784960722926,
          49.38343031909235,
          48.358300421973205,
          47.16537583654515,
          45.7891288362238,
          44.217117904583375,
          42.44178867430203,
          40.46239533173967,
          38.28679325835481,
          35.93277067472965,
          33.428557411979334,
          30.812209513502268,
          28.129735352588607,
          25.43207906748346,
          22.771343764772332,
          20.196830826523165,
          17.751520303269974,
          15.469501803868665,
          13.374630098082749,
          11.480409603722379,
          9.790890889983038,
          8.302239738998066,
          7.004620233169856,
          5.884090287353548,
          4.92430172022621,
          4.1078933505038435,
          3.417543958074941
         ]
        },
        {
         "hovertemplate": "<b>US</b><br>(%{x}, %{y})<br><extra></extra>",
         "legendgroup": "US",
         "marker": {
          "color": "#46317E"
         },
         "mode": "markers",
         "name": "US",
         "type": "scattergl",
         "x": [
          1,
          2,
          3,
          4,
          5,
          6,
          7,
          8,
          9,
          10,
          11,
          12,
          13,
          14,
          15,
          16,
          17,
          18,
          19,
          20,
          21,
          22,
          23,
          24,
          25,
          26,
          27,
          28,
          29,
          30,
          31,
          32,
          33,
          34,
          35,
          36,
          37,
          38
         ],
         "y": [
          0.036732351140670055,
          0.042854409664115065,
          0.05203749744928258,
          0.0642816144961726,
          0.0673426437578951,
          0.08570881932823013,
          0.11019705342201017,
          0.12244117046890018,
          0.14386837530095772,
          0.16529558013301526,
          0.1928448434885178,
          0.2601874872464129,
          0.3305911602660305,
          0.36120145288325556,
          0.612205852344501,
          0.7468911398602911,
          0.9397359833488089,
          1.2764492021382845,
          1.7049932987794352,
          2.1610866587760884,
          2.8834895645425993,
          3.700784377422508,
          4.83948726278328,
          6.201645284249794,
          7.551559188669419,
          9.115745141409619,
          11.855366330651261,
          14.561316198013955,
          18.139659404967563,
          21.69351437782739,
          25.734073003301095,
          29.44404046850877,
          33.007078529153766,
          38.9424142676337,
          44.981825001012204,
          50.43964017466343,
          56.89228985837447,
          62.63784178262761
         ]
        },
        {
         "hovertemplate": "<b>US</b><br>(%{x}, %{y})<br>a: 3568<br>b: 0.228<br>c: 101.22836<extra></extra>",
         "legendgroup": "US",
         "line": {
          "color": "#46317E"
         },
         "mode": "lines",
         "name": "US",
         "showlegend": false,
         "type": "scattergl",
         "x": [
          1,
          2,
          3,
          4,
          5,
          6,
          7,
          8,
          9,
          10,
          11,
          12,
          13,
          14,
          15,
          16,
          17,
          18,
          19,
          20,
          21,
          22,
          23,
          24,
          25,
          26,
          27,
          28,
          29,
          30,
          31,
          32,
          33,
          34,
          35,
          36,
          37,
          38,
          39,
          40,
          41,
          42,
          43,
          44,
          45,
          46,
          47,
          48
         ],
         "y": [
          0.0356083808611382,
          0.04470180714782103,
          0.05611616305549787,
          0.07044308165776535,
          0.08842458367457101,
          0.1109910590169252,
          0.13930869948058824,
          0.17483865280584168,
          0.21941066622090835,
          0.27531456645919145,
          0.345413578173847,
          0.4332841937518088,
          0.5433880290289298,
          0.6812817431019802,
          0.8538715105140058,
          1.0697184507003745,
          1.3394004279756422,
          1.6759330991067518,
          2.095248066950678,
          2.6167171802033855,
          3.263697662357399,
          4.064050769830555,
          5.050554958890234,
          6.261091754001496,
          7.7384296967960475,
          9.52937498169684,
          11.68301144711028,
          14.247744833428943,
          17.266937748061725,
          20.773120924576514,
          24.78112785730994,
          29.2810068885768,
          34.2321044802259,
          39.560059270425995,
          45.158315658618854,
          50.89497220725732,
          56.624423407000485,
          62.20178932504925,
          67.49719436066006,
          72.4070082106224,
          76.86017315406058,
          80.81922296861751,
          84.27691537926289,
          87.25012735168825,
          89.77273563978179,
          91.88882779636265,
          93.64704412493558,
          95.0963551184444
         ]
        },
        {
         "fill": "toself",
         "fillcolor": "rgba(0.27450980392156865, 0.19215686274509805, 0.49411764705882355, 0.3333333333333333)",
         "hoverinfo": "skip",
         "legendgroup": "US",
         "line": {
          "color": "rgba(255, 255, 255, 0)"
         },
         "mode": "lines",
         "showlegend": false,
         "type": "scatter",
         "x": [
          1,
          2,
          3,
          4,
          5,
          6,
          7,
          8,
          9,
          10,
          11,
          12,
          13,
          14,
          15,
          16,
          17,
          18,
          19,
          20,
          21,
          22,
          23,
          24,
          25,
          26,
          27,
          28,
          29,
          30,
          31,
          32,
          33,
          34,
          35,
          36,
          37,
          38,
          39,
          40,
          41,
          42,
          43,
          44,
          45,
          46,
          47,
          48,
          48,
          47,
          46,
          45,
          44,
          43,
          42,
          41,
          40,
          39,
          38,
          37,
          36,
          35,
          34,
          33,
          32,
          31,
          30,
          29,
          28,
          27,
          26,
          25,
          24,
          23,
          22,
          21,
          20,
          19,
          18,
          17,
          16,
          15,
          14,
          13,
          12,
          11,
          10,
          9,
          8,
          7,
          6,
          5,
          4,
          3,
          2,
          1
         ],
         "y": [
          0.033838019417588204,
          0.042654842466375575,
          0.053767791182473317,
          0.06777413879568833,
          0.0854261125703074,
          0.10767085313821412,
          0.13570053644971392,
          0.17101515915550197,
          0.2155010538579642,
          0.27152886400233767,
          0.34207546646709935,
          0.43087516412987475,
          0.5426063331547357,
          0.6831205047645446,
          0.8597214155770676,
          1.0815015798872325,
          1.3597429446636697,
          1.7083854418683055,
          2.144561646731832,
          2.6891857121601497,
          3.3675681794126686,
          4.210002614223078,
          5.252232675842879,
          6.5356575180686045,
          8.107070599447228,
          10.017659600722704,
          12.320941788423875,
          15.069304226976051,
          18.308913166970466,
          22.07301089658486,
          26.37406993916593,
          31.19589174046448,
          36.48736247965252,
          42.159916817838685,
          48.090468993812124,
          54.130471531104135,
          60.120066968654385,
          65.90464420017776,
          71.35026889926746,
          76.35485628266278,
          80.8533882585879,
          84.81724772321064,
          88.24911355625383,
          91.1754479802369,
          93.63846734381217,
          95.68892845360284,
          97.38041594399888,
          98.76529351856608,
          91.45625237644346,
          89.95435413644095,
          88.14449003065351,
          85.98150987567455,
          83.42197230263442,
          80.42840126589,
          76.97473013592932,
          73.05252361044218,
          68.67712069133266,
          63.89240891382664,
          58.772724222141946,
          53.42059754327567,
          47.95985033801025,
          42.52473641763413,
          37.247019960766856,
          32.24355330300498,
          27.606752029394,
          23.399439840467874,
          19.654280756132657,
          16.37694214655221,
          13.551560296631154,
          11.147043922468152,
          9.123076781732099,
          7.435138704721721,
          6.038280940773055,
          4.88968412912984,
          3.9501866864361013,
          3.185027673968849,
          2.5640404793769838,
          2.0614949628091566,
          1.6557381118021814,
          1.3287387685636223,
          1.0656056855056641,
          0.8541209944803337,
          0.6843121372314975,
          0.5480727096322217,
          0.43883481267335556,
          0.35129093388028254,
          0.2811609932300672,
          0.22499917642856393,
          0.1800349942111894,
          0.14404328454595683,
          0.11523838306958209,
          0.09218828385582188,
          0.07374521527579708,
          0.05898961986339099,
          0.04718503186584611,
          0.03774178465338798
         ]
        },
        {
         "hovertemplate": "<b>Iran</b><br>(%{x}, %{y})<br><extra></extra>",
         "legendgroup": "Iran",
         "marker": {
          "color": "#365A8C"
         },
         "mode": "markers",
         "name": "Iran",
         "type": "scattergl",
         "x": [
          1,
          2,
          3,
          4,
          5,
          6,
          7,
          8,
          9,
          10,
          11,
          12,
          13,
          14,
          15,
          16,
          17,
          18,
          19,
          20,
          21,
          22,
          23,
          24,
          25,
          26,
          27,
          28,
          29,
          30,
          31,
          32,
          33,
          34,
          35,
          36,
          37,
          38,
          39,
          40,
          41,
          42,
          43,
          44,
          45,
          46,
          47
         ],
         "y": [
          0.19559837877794753,
          0.2322730747988127,
          0.31784736551416476,
          0.4156465549031385,
          0.525670642965734,
          0.6601445283755729,
          0.8068433124590336,
          0.9413171978688726,
          1.1246906779731984,
          1.308064158077524,
          1.5158874355290934,
          1.7726103076751496,
          2.371630342682614,
          2.897300985648348,
          3.5574455140239207,
          4.32761413046209,
          5.244481530983719,
          6.283597918241565,
          7.469413089582872,
          8.850826639702126,
          10.427838568599329,
          12.078199889538261,
          13.875259994560654,
          15.69676989693029,
          17.518279799299926,
          19.021942336155398,
          20.5989542650526,
          22.15151639660256,
          23.64295403478441,
          25.391114545112316,
          27.310423636870926,
          29.07080904587245,
          30.77006996150587,
          32.27373249836134,
          33.704045643175085,
          35.42775635615575,
          37.11479237311555,
          38.630679808644636,
          40.26881623090995,
          42.200350221342184,
          44.04630992105906,
          45.70889614067161,
          47.3348076642633,
          48.81402040377153,
          50.244333548585274,
          51.735771186767124,
          53.26388352096984
         ]
        },
        {
         "hovertemplate": "<b>Iran</b><br>(%{x}, %{y})<br>a: 89<br>b: 0.140<br>c: 57.38568<extra></extra>",
         "legendgroup": "Iran",
         "line": {
          "color": "#365A8C"
         },
         "mode": "lines",
         "name": "Iran",
         "showlegend": false,
         "type": "scattergl",
         "x": [
          1,
          2,
          3,
          4,
          5,
          6,
          7,
          8,
          9,
          10,
          11,
          12,
          13,
          14,
          15,
          16,
          17,
          18,
          19,
          20,
          21,
          22,
          23,
          24,
          25,
          26,
          27,
          28,
          29,
          30,
          31,
          32,
          33,
          34,
          35,
          36,
          37,
          38,
          39,
          40,
          41,
          42,
          43,
          44,
          45,
          46,
          47,
          48,
          49,
          50,
          51,
          52,
          53,
          54,
          55,
          56,
          57
         ],
         "y": [
          0.7317471816972013,
          0.8405133076184947,
          0.965170892144505,
          1.1079543406206247,
          1.2713846075612705,
          1.458297198836703,
          1.6718700339985395,
          1.915650008461123,
          2.193576678285385,
          2.5100009870501747,
          2.8696963653105256,
          3.277858869849186,
          3.740092320399018,
          4.262373687614214,
          4.8509933714058615,
          5.512464606223724,
          6.253396206520405,
          7.080323431409199,
          7.999493142940603,
          9.016601899695798,
          10.136489360001853,
          11.362794437951637,
          12.697587917018453,
          14.141002228469315,
          15.690886018627062,
          17.34251676253879,
          19.08840757786034,
          20.918243095207757,
          22.81897266749541,
          24.77507706812116,
          26.769007994136448,
          28.78178025386062,
          30.793677558793036,
          32.78501779759273,
          34.73691550462119,
          36.631979624925066,
          38.45489354050831,
          40.19283984274779,
          41.83575147621181,
          43.376390199077846,
          44.81026979117416,
          46.1354530990129,
          47.35225808940278,
          48.46290895869894,
          49.471165146040875,
          50.38195529606064,
          51.201036248956264,
          51.93469017125071,
          52.589466771120904,
          53.17197258926676,
          53.688705740592944,
          54.1459321182383,
          54.54959775929142,
          54.90527156712111,
          55.218112649924635,
          55.492856962412475,
          55.73381856441008
         ]
        },
        {
         "fill": "toself",
         "fillcolor": "rgba(0.21176470588235294, 0.35294117647058826, 0.5490196078431373, 0.3333333333333333)",
         "hoverinfo": "skip",
         "legendgroup": "Iran",
         "line": {
          "color": "rgba(255, 255, 255, 0)"
         },
         "mode": "lines",
         "showlegend": false,
         "type": "scatter",
         "x": [
          1,
          2,
          3,
          4,
          5,
          6,
          7,
          8,
          9,
          10,
          11,
          12,
          13,
          14,
          15,
          16,
          17,
          18,
          19,
          20,
          21,
          22,
          23,
          24,
          25,
          26,
          27,
          28,
          29,
          30,
          31,
          32,
          33,
          34,
          35,
          36,
          37,
          38,
          39,
          40,
          41,
          42,
          43,
          44,
          45,
          46,
          47,
          48,
          49,
          50,
          51,
          52,
          53,
          54,
          55,
          56,
          57,
          57,
          56,
          55,
          54,
          53,
          52,
          51,
          50,
          49,
          48,
          47,
          46,
          45,
          44,
          43,
          42,
          41,
          40,
          39,
          38,
          37,
          36,
          35,
          34,
          33,
          32,
          31,
          30,
          29,
          28,
          27,
          26,
          25,
          24,
          23,
          22,
          21,
          20,
          19,
          18,
          17,
          16,
          15,
          14,
          13,
          12,
          11,
          10,
          9,
          8,
          7,
          6,
          5,
          4,
          3,
          2,
          1
         ],
         "y": [
          0.6823299635857186,
          0.787373637773855,
          0.9083351379867605,
          1.0475429922357633,
          1.207638932463877,
          1.3916110077785588,
          1.602827135959688,
          1.845067859136788,
          2.1225565783087794,
          2.4399849365108564,
          2.8025302976976687,
          3.215861436026573,
          3.6861276365142315,
          4.219925471259865,
          4.8242366552471845,
          5.506329754923333,
          6.2736183361404825,
          7.133468673880254,
          8.092951732809762,
          9.1585371069721,
          10.335731265880364,
          11.62866892136261,
          13.03967444079363,
          14.568819391407361,
          16.213511376161296,
          17.968156648571476,
          19.823942542048467,
          21.768783504764198,
          23.78746506154276,
          25.862003104754162,
          27.97221300154899,
          30.096457304231745,
          32.212516842700204,
          34.298512398973884,
          36.33379674131177,
          38.29974115966309,
          40.18035583274275,
          41.96270610859835,
          43.63711250119922,
          45.19714623330345,
          46.639450874917635,
          47.96343210482323,
          49.170861674914946,
          50.26543945590924,
          51.25235090901568,
          52.137848532865604,
          52.92887656498798,
          53.632749750485246,
          54.256890057949555,
          54.808620089177644,
          55.29500852986333,
          55.722761066462716,
          56.09814941438802,
          56.426971127963995,
          56.71453339960788,
          56.96565487256113,
          57.18468041971045,
          54.27437825978519,
          54.012619482624885,
          53.71581505534058,
          53.37975759505211,
          52.99987619052548,
          52.571247214093134,
          52.088620522307856,
          51.54646516448124,
          50.93903905612737,
          50.26048715928266,
          49.5049724005168,
          48.66684268330075,
          47.74083573996756,
          46.72232106761142,
          45.607574716476314,
          44.39407828805197,
          43.08082838136564,
          41.66863737111756,
          40.16040154607095,
          38.56130924114413,
          36.87896072424341,
          35.12337420050015,
          33.3068589377928,
          31.44374710465282,
          29.549989514613337,
          27.642635335623538,
          25.73922962751434,
          23.85717289872656,
          22.013091790170147,
          20.22226854462468,
          18.49816938801447,
          16.85209977871839,
          15.292999894628391,
          13.827379167317941,
          12.459376252695694,
          11.190921948904569,
          10.021977777940183,
          8.950822005152634,
          7.974357005813834,
          7.088416067713829,
          6.288052905480218,
          5.567802486458771,
          4.921906611932917,
          4.344501704293476,
          3.829769284857788,
          3.372051712866792,
          2.9659370156377207,
          2.60631723962655,
          2.2884248660174036,
          2.0078516199926426,
          1.760553590060032,
          1.5428460620669666,
          1.3513909324601103,
          1.1831790433926714,
          1.0355093059815872,
          0.905966061094062,
          0.7923957737431123
         ]
        },
        {
         "hovertemplate": "<b>United Kingdom</b><br>(%{x}, %{y})<br><extra></extra>",
         "legendgroup": "United Kingdom",
         "marker": {
          "color": "#277E8E"
         },
         "mode": "markers",
         "name": "United Kingdom",
         "type": "scattergl",
         "x": [
          1,
          2,
          3,
          4,
          5,
          6,
          7,
          8,
          9,
          10,
          11,
          12,
          13,
          14,
          15,
          16,
          17,
          18,
          19,
          20,
          21,
          22,
          23,
          24,
          25,
          26,
          27,
          28
         ],
         "y": [
          0.31597790104727713,
          0.8426077361260724,
          0.8426077361260724,
          1.0833528035906645,
          2.076426206882107,
          2.678288875543587,
          3.52089661166966,
          4.243131814063436,
          5.055646416756434,
          6.364697721095154,
          7.011700089906245,
          8.727008695591465,
          11.450437271284663,
          15.362544617584284,
          18.522323628057055,
          21.23070563703372,
          26.978494122750853,
          35.46475775087772,
          44.02625421258728,
          54.333152413415135,
          65.00116821543988,
          74.37517927984243,
          81.02576176855179,
          92.85236320774987,
          106.99613592129467,
          120.2672077652803,
          135.0278897142031,
          148.84063795998406
         ]
        },
        {
         "hovertemplate": "<b>United Kingdom</b><br>(%{x}, %{y})<br>a: 344<br>b: 0.231<br>c: 226.21442<extra></extra>",
         "legendgroup": "United Kingdom",
         "line": {
          "color": "#277E8E"
         },
         "mode": "lines",
         "name": "United Kingdom",
         "showlegend": false,
         "type": "scattergl",
         "x": [
          1,
          2,
          3,
          4,
          5,
          6,
          7,
          8,
          9,
          10,
          11,
          12,
          13,
          14,
          15,
          16,
          17,
          18,
          19,
          20,
          21,
          22,
          23,
          24,
          25,
          26,
          27,
          28,
          29,
          30,
          31,
          32,
          33,
          34,
          35,
          36,
          37,
          38
         ],
         "y": [
          0.8259234969444877,
          1.0390630878820364,
          1.306887009755141,
          1.6432401667506205,
          2.065365483865515,
          2.5946759815586966,
          3.2576663364626404,
          4.086967514566029,
          5.122532694402452,
          6.412916323397678,
          8.016565976537935,
          10.002983237574886,
          12.453520193637997,
          15.461460803130516,
          19.130898446953513,
          23.573786266969645,
          28.9044563487101,
          35.23096346516867,
          42.64292589160791,
          51.196224679306674,
          60.89602012329085,
          71.6808939932345,
          83.41208654759227,
          95.87208341931094,
          108.77557873910831,
          121.79298624014939,
          134.58297750899914,
          146.82751654155527,
          158.26198367196696,
          168.69468808335725,
          178.0134933989218,
          186.1808370127338,
          193.22077346013927,
          199.20234391209746,
          204.22291232172486,
          208.393817269859,
          211.82938930973702,
          214.6394178397726
         ]
        },
        {
         "fill": "toself",
         "fillcolor": "rgba(0.15294117647058825, 0.49411764705882355, 0.5568627450980392, 0.3333333333333333)",
         "hoverinfo": "skip",
         "legendgroup": "United Kingdom",
         "line": {
          "color": "rgba(255, 255, 255, 0)"
         },
         "mode": "lines",
         "showlegend": false,
         "type": "scatter",
         "x": [
          1,
          2,
          3,
          4,
          5,
          6,
          7,
          8,
          9,
          10,
          11,
          12,
          13,
          14,
          15,
          16,
          17,
          18,
          19,
          20,
          21,
          22,
          23,
          24,
          25,
          26,
          27,
          28,
          29,
          30,
          31,
          32,
          33,
          34,
          35,
          36,
          37,
          38,
          38,
          37,
          36,
          35,
          34,
          33,
          32,
          31,
          30,
          29,
          28,
          27,
          26,
          25,
          24,
          23,
          22,
          21,
          20,
          19,
          18,
          17,
          16,
          15,
          14,
          13,
          12,
          11,
          10,
          9,
          8,
          7,
          6,
          5,
          4,
          3,
          2,
          1
         ],
         "y": [
          0.7991371031563034,
          1.0123286305849004,
          1.2820859353463898,
          1.623231359217505,
          2.0543593985571156,
          2.5987296404839078,
          3.285330715132345,
          4.150122930935288,
          5.237449366413166,
          6.6015734525359155,
          8.3082490463243,
          10.43614909666507,
          13.077864156924456,
          16.340029457712287,
          20.341957968530085,
          25.211979316832483,
          31.080581647177766,
          38.06954685851594,
          46.276723368824165,
          55.75704961808121,
          66.5019529618958,
          78.42103243106109,
          91.33130497991816,
          104.95927281983052,
          118.95887581530987,
          132.94417105126837,
          146.53078017359357,
          159.37698426024912,
          171.21547685557542,
          181.87013768391776,
          191.25702120076593,
          199.37286178007136,
          206.27642239340508,
          212.06790117421238,
          216.87017749548838,
          220.81389721381788,
          224.02692030973031,
          226.62772606443866,
          202.63138416618463,
          199.6354751184569,
          196.0110767701083,
          191.65935006599202,
          186.481492135632,
          180.38671180886968,
          173.30298567846822,
          165.1901128927646,
          156.0536926606055,
          145.9576261229323,
          135.03195541439817,
          123.47280229939277,
          111.53227721808467,
          99.4984979565001,
          87.66864944031562,
          76.32022212544557,
          65.6861717848701,
          55.93845410586225,
          47.1818221646187,
          39.45706540198687,
          32.750996408940615,
          27.009848021361304,
          22.153131309740367,
          18.085936082557506,
          14.70866102390352,
          11.923955982104845,
          9.641152993866147,
          7.778689045151396,
          6.265065395421111,
          5.038828300647669,
          4.04795539100264,
          3.2489276889808343,
          2.605677197278581,
          2.0885299809537847,
          1.6732141364494422,
          1.3399677014073246,
          1.0727595155893916,
          0.858622759151527
         ]
        },
        {
         "hovertemplate": "<b>Sweden</b><br>(%{x}, %{y})<br><extra></extra>",
         "legendgroup": "Sweden",
         "marker": {
          "color": "#1EA087"
         },
         "mode": "markers",
         "name": "Sweden",
         "type": "scattergl",
         "x": [
          1,
          2,
          3,
          4,
          5,
          6,
          7,
          8,
          9,
          10,
          11,
          12,
          13,
          14,
          15,
          16,
          17,
          18,
          19,
          20,
          21,
          22,
          23
         ],
         "y": [
          1.5724485008374272,
          1.965560626046784,
          2.063838657349123,
          2.4569507825584798,
          3.538009126884211,
          6.09323794074503,
          7.567408410280118,
          10.319193286745616,
          10.319193286745616,
          10.810583443257311,
          14.348592570141522,
          17.690045634421054,
          23.488449481259067,
          30.26963364112047,
          35.18353520623743,
          36.65770567577252,
          39.40949055223802,
          46.87862093121579,
          58.08231649968246,
          67.51700750470702,
          77.93447882275498,
          85.5018872330351,
          87.17261376517486
         ]
        },
        {
         "hovertemplate": "<b>Sweden</b><br>(%{x}, %{y})<br>a: 96<br>b: 0.216<br>c: 151.32452<extra></extra>",
         "legendgroup": "Sweden",
         "line": {
          "color": "#1EA087"
         },
         "mode": "lines",
         "name": "Sweden",
         "showlegend": false,
         "type": "scattergl",
         "x": [
          1,
          2,
          3,
          4,
          5,
          6,
          7,
          8,
          9,
          10,
          11,
          12,
          13,
          14,
          15,
          16,
          17,
          18,
          19,
          20,
          21,
          22,
          23,
          24,
          25,
          26,
          27,
          28,
          29,
          30,
          31,
          32,
          33
         ],
         "y": [
          1.9281527548312776,
          2.3855776494950653,
          2.9493772982215614,
          3.6431642025740727,
          4.495207384998321,
          5.539047721442166,
          6.814031241135788,
          8.365651060942481,
          10.245539825262217,
          12.51089876567133,
          15.22309603467117,
          18.445134305141504,
          22.23770600539346,
          26.653664872183885,
          31.730987093750205,
          37.48469612986578,
          43.898749528387384,
          50.919411450155515,
          58.45194323635432,
          66.36228065697333,
          74.48457046066557,
          82.63410103304247,
          90.62368371795915,
          98.28050052993412,
          105.46028831377234,
          112.05654559701713,
          118.00386081400019,
          123.27589223587242,
          127.87950546956532,
          131.8469123992708,
          135.22745794768338,
          138.0802123386358,
          140.46798490955473
         ]
        },
        {
         "fill": "toself",
         "fillcolor": "rgba(0.11764705882352941, 0.6274509803921569, 0.5294117647058824, 0.3333333333333333)",
         "hoverinfo": "skip",
         "legendgroup": "Sweden",
         "line": {
          "color": "rgba(255, 255, 255, 0)"
         },
         "mode": "lines",
         "showlegend": false,
         "type": "scatter",
         "x": [
          1,
          2,
          3,
          4,
          5,
          6,
          7,
          8,
          9,
          10,
          11,
          12,
          13,
          14,
          15,
          16,
          17,
          18,
          19,
          20,
          21,
          22,
          23,
          24,
          25,
          26,
          27,
          28,
          29,
          30,
          31,
          32,
          33,
          33,
          32,
          31,
          30,
          29,
          28,
          27,
          26,
          25,
          24,
          23,
          22,
          21,
          20,
          19,
          18,
          17,
          16,
          15,
          14,
          13,
          12,
          11,
          10,
          9,
          8,
          7,
          6,
          5,
          4,
          3,
          2,
          1
         ],
         "y": [
          1.9764628723909403,
          2.4816533911903873,
          3.1135836344922185,
          3.902686809992721,
          4.885934599275841,
          6.107809821295602,
          7.621172737878268,
          9.487840520591721,
          11.778609702713558,
          14.572346746822857,
          17.953671116899844,
          22.008698289725316,
          26.81836354363493,
          32.449100364035054,
          38.94118534951831,
          46.29590630984708,
          54.46373295631283,
          63.33652320049719,
          72.74695878608189,
          82.47740024048893,
          92.2781336979492,
          101.89218815926502,
          111.08169828000868,
          119.65024433374964,
          127.45699623548839,
          134.42111815444377,
          140.51754422281422,
          145.76693499993942,
          150.22305646867687,
          153.9602772673276,
          157.06289182972068,
          159.6170064170032,
          161.70501534841833,
          119.13474108678955,
          116.53932697488776,
          113.51498233620342,
          110.02315527103644,
          106.03423367341792,
          101.53243504981303,
          96.52089550134356,
          91.02621193113767,
          85.10148497697533,
          78.82688434258633,
          72.3070101985691,
          65.66487334582011,
          59.03305624360044,
          52.54332331334938,
          46.316365965644486,
          40.453330833733794,
          35.03030367666023,
          30.096192738918177,
          25.67373302209876,
          21.762826136035844,
          18.345225133008388,
          15.389634800281916,
          12.856521918330087,
          10.702205989720518,
          8.882048748566064,
          7.3527414704579535,
          6.073796891929192,
          5.008400267055087,
          4.1237808185351295,
          3.391248312582571,
          2.7860129269679272,
          2.2868783641183295,
          1.8758727542682356
         ]
        },
        {
         "hovertemplate": "<b>Italy</b><br>(%{x}, %{y})<br><extra></extra>",
         "legendgroup": "Italy",
         "marker": {
          "color": "#49C16D"
         },
         "mode": "markers",
         "name": "Italy",
         "type": "scattergl",
         "x": [
          1,
          2,
          3,
          4,
          5,
          6,
          7,
          8,
          9,
          10,
          11,
          12,
          13,
          14,
          15,
          16,
          17,
          18,
          19,
          20,
          21,
          22,
          23,
          24,
          25,
          26,
          27,
          28,
          29,
          30,
          31,
          32,
          33,
          34,
          35,
          36,
          37,
          38,
          39,
          40,
          41,
          42,
          43,
          44,
          45
         ],
         "y": [
          0.2813555910983063,
          0.347556906650849,
          0.4799595377559343,
          0.5627111821966126,
          0.8606171021830545,
          1.3074759821627175,
          1.7708851910305161,
          2.4494486754440783,
          3.260414790962726,
          3.85622663093561,
          6.057420373057654,
          7.662802275206813,
          10.443257528413605,
          13.687121990488196,
          13.687121990488196,
          20.95271637237975,
          23.849023927803493,
          29.939544958637416,
          35.71560974059677,
          41.42547320700357,
          49.28687942886801,
          56.35386986410194,
          66.730926076963,
          79.85533688525459,
          90.6296009914309,
          100.57634865320044,
          112.87324301708523,
          124.1771176476819,
          135.96095181603448,
          151.17070406423116,
          165.88394644578378,
          178.39599508521434,
          191.8348621423805,
          205.68748742175003,
          217.71957652342468,
          230.29782647840779,
          242.9753784067197,
          254.2461523795401,
          262.9350750458113,
          273.4610842186656,
          283.45748286709954,
          292.42776112446904,
          302.5234617462318,
          311.9571492124692,
          322.2018027942251
         ]
        },
        {
         "hovertemplate": "<b>Italy</b><br>(%{x}, %{y})<br>a: 204<br>b: 0.168<br>c: 345.91488<extra></extra>",
         "legendgroup": "Italy",
         "line": {
          "color": "#49C16D"
         },
         "mode": "lines",
         "name": "Italy",
         "showlegend": false,
         "type": "scattergl",
         "x": [
          1,
          2,
          3,
          4,
          5,
          6,
          7,
          8,
          9,
          10,
          11,
          12,
          13,
          14,
          15,
          16,
          17,
          18,
          19,
          20,
          21,
          22,
          23,
          24,
          25,
          26,
          27,
          28,
          29,
          30,
          31,
          32,
          33,
          34,
          35,
          36,
          37,
          38,
          39,
          40,
          41,
          42,
          43,
          44,
          45,
          46,
          47,
          48,
          49,
          50,
          51,
          52,
          53,
          54,
          55
         ],
         "y": [
          1.9899117694159327,
          2.3516442347613156,
          2.7786023176052654,
          3.282337154168788,
          3.8763627888251073,
          4.576457145044521,
          5.400996154639615,
          6.371319208900809,
          7.512121126186536,
          8.851861578518752,
          10.423177030638112,
          12.26327234318347,
          14.414258932856313,
          16.923393549158146,
          19.843156384762676,
          23.23108996527226,
          27.14930247659508,
          31.66352351365506,
          36.84159090621051,
          42.75125038346504,
          49.45717318453015,
          57.01714896129349,
          65.47749996869138,
          74.86789062269726,
          85.19586809251457,
          96.44164526044109,
          108.55379184259587,
          121.4465842654477,
          134.99972869669887,
          149.0609779443608,
          163.45181067505524,
          177.97587903072485,
          192.429453816552,
          206.61272376438902,
          220.34063953271877,
          233.4520819705649,
          245.81645193230932,
          257.33723637946855,
          267.95258432262415,
          277.6333200881755,
          286.3790661522942,
          294.2132300499845,
          301.17755729167476,
          307.3268137156277,
          312.72398709869685,
          317.43622910625885,
          321.53161903379765,
          325.0767299478815,
          328.13491500629596,
          330.76520037784826,
          333.0216627159552,
          334.95317536060384,
          336.6034216909177,
          338.01109153305276,
          339.2101941587154
         ]
        },
        {
         "fill": "toself",
         "fillcolor": "rgba(0.28627450980392155, 0.7568627450980392, 0.42745098039215684, 0.3333333333333333)",
         "hoverinfo": "skip",
         "legendgroup": "Italy",
         "line": {
          "color": "rgba(255, 255, 255, 0)"
         },
         "mode": "lines",
         "showlegend": false,
         "type": "scatter",
         "x": [
          1,
          2,
          3,
          4,
          5,
          6,
          7,
          8,
          9,
          10,
          11,
          12,
          13,
          14,
          15,
          16,
          17,
          18,
          19,
          20,
          21,
          22,
          23,
          24,
          25,
          26,
          27,
          28,
          29,
          30,
          31,
          32,
          33,
          34,
          35,
          36,
          37,
          38,
          39,
          40,
          41,
          42,
          43,
          44,
          45,
          46,
          47,
          48,
          49,
          50,
          51,
          52,
          53,
          54,
          55,
          55,
          54,
          53,
          52,
          51,
          50,
          49,
          48,
          47,
          46,
          45,
          44,
          43,
          42,
          41,
          40,
          39,
          38,
          37,
          36,
          35,
          34,
          33,
          32,
          31,
          30,
          29,
          28,
          27,
          26,
          25,
          24,
          23,
          22,
          21,
          20,
          19,
          18,
          17,
          16,
          15,
          14,
          13,
          12,
          11,
          10,
          9,
          8,
          7,
          6,
          5,
          4,
          3,
          2,
          1
         ],
         "y": [
          1.8816067640090897,
          2.230532912313472,
          2.643672572946086,
          3.1326445155881886,
          3.711089839604276,
          4.394991785696301,
          5.2030330252554124,
          6.156989197467044,
          7.282154407141833,
          8.607789937817715,
          10.167581162216576,
          12.00007909473101,
          14.149091793601352,
          16.663976568755547,
          19.59976666360746,
          23.01704629520199,
          26.98146713192318,
          31.562780339612956,
          36.83324600944578,
          42.86528311870163,
          49.72824736347396,
          57.48428165549909,
          66.18328410891932,
          75.85718514032892,
          86.51391240319897,
          98.13162688445591,
          110.65399338625372,
          123.98734541521367,
          138.00055649147447,
          152.5281942689109,
          167.37711223873083,
          182.33608896796258,
          197.18757585310993,
          211.72020456390837,
          225.74055230945325,
          239.08281260470827,
          251.61542656003598,
          263.2442778782793,
          273.91260040150684,
          283.59817062551434,
          292.3085955484444,
          300.07555626855003,
          306.9487723158555,
          312.9902724275678,
          318.2693528776411,
          322.8584169946718,
          326.8297421616158,
          330.2531200116189,
          333.19425762497326,
          335.71380301139317,
          337.86685661056185,
          339.70284274517354,
          341.2656338625649,
          342.5938412043282,
          343.7212053502489,
          334.6933576083509,
          333.4255552460089,
          331.9425536811701,
          330.2103156162999,
          328.1903467999715,
          325.83945890479765,
          323.10966237301676,
          319.9482542717517,
          316.2981814709538,
          312.098773589638,
          307.2869500097742,
          301.79900621913157,
          295.57307072928995,
          288.5522877583306,
          280.688716009692,
          271.9478360817336,
          262.3134301160974,
          251.7924487476922,
          240.4193362742015,
          228.2591814794579,
          215.4090416551887,
          201.99688882903618,
          188.17786644693356,
          174.12790208634468,
          160.03513607928946,
          146.09000524157423,
          132.47506878542646,
          119.35571216023202,
          106.87270033290233,
          95.13722058739337,
          84.22864389785701,
          74.19484124818158,
          65.05459421059345,
          56.80147609068175,
          49.40854928702578,
          42.83329590678819,
          37.0223296983118,
          31.9155876934769,
          27.44983979159437,
          23.561466970235795,
          20.188538172596783,
          17.27226412874611,
          14.757929357008232,
          12.595408506437856,
          10.73936666675363,
          9.14923058319342,
          7.789002650056028,
          6.626974541379715,
          5.635383735512301,
          4.790044623037468,
          4.06997649893852,
          3.4570434006157584,
          2.9356152003428244,
          2.4922552860372282,
          2.115437266463483
         ]
        },
        {
         "hovertemplate": "<b>Spain</b><br>(%{x}, %{y})<br><extra></extra>",
         "legendgroup": "Spain",
         "marker": {
          "color": "#9DD93A"
         },
         "mode": "markers",
         "name": "Spain",
         "type": "scattergl",
         "x": [
          1,
          2,
          3,
          4,
          5,
          6,
          7,
          8,
          9,
          10,
          11,
          12,
          13,
          14,
          15,
          16,
          17,
          18,
          19,
          20,
          21,
          22,
          23,
          24,
          25,
          26,
          27,
          28,
          29,
          30,
          31,
          32,
          33,
          34
         ],
         "y": [
          0.5983348341565423,
          0.7479185426956779,
          1.1539314658733317,
          1.1753005670932082,
          2.842090462243576,
          4.16697473787592,
          6.175670252544312,
          7.308232617197767,
          11.389730950194181,
          13.312950059983066,
          17.736354012497504,
          22.287972572331203,
          29.382514177330204,
          37.86604736162118,
          49.38399291913462,
          60.004436225413244,
          77.93311214888963,
          93.27612682476098,
          109.79444206772553,
          127.82996349730129,
          145.3739955988199,
          164.88398501256717,
          180.8680727250348,
          200.59175315098082,
          221.12745942328215,
          239.2911954601772,
          255.29665227386468,
          270.126808520459,
          285.08517937437256,
          300.1290266331656,
          316.09174524441335,
          330.08850654343246,
          343.6365167168342,
          354.85529485726937
         ]
        },
        {
         "hovertemplate": "<b>Spain</b><br>(%{x}, %{y})<br>a: 171<br>b: 0.219<br>c: 379.41015<extra></extra>",
         "legendgroup": "Spain",
         "line": {
          "color": "#9DD93A"
         },
         "mode": "lines",
         "name": "Spain",
         "showlegend": false,
         "type": "scattergl",
         "x": [
          1,
          2,
          3,
          4,
          5,
          6,
          7,
          8,
          9,
          10,
          11,
          12,
          13,
          14,
          15,
          16,
          17,
          18,
          19,
          20,
          21,
          22,
          23,
          24,
          25,
          26,
          27,
          28,
          29,
          30,
          31,
          32,
          33,
          34,
          35,
          36,
          37,
          38,
          39,
          40,
          41,
          42,
          43,
          44
         ],
         "y": [
          2.7375137186183243,
          3.4025285540385837,
          4.227280143607146,
          5.249155492338825,
          6.513763693953762,
          8.076460532153282,
          10.004001319384715,
          12.376239615321524,
          15.28772435279632,
          18.848955870858596,
          23.186939340108143,
          28.444525380965423,
          34.77786865328811,
          42.351204249846546,
          51.328108714710694,
          61.858582321745004,
          74.06178817909652,
          88.00521360624832,
          103.68237049803044,
          120.99269250216318,
          139.72849561645893,
          159.5740138251288,
          180.11997379345718,
          200.8938752341444,
          221.40194184414182,
          241.17517698175274,
          259.81064703892605,
          277.0006366886499,
          292.5459644897863,
          306.3539293824115,
          318.42453867880675,
          328.8300725699768,
          337.6927863762141,
          345.1642925629395,
          351.40862323526005,
          356.5896503849482,
          360.8626463755968,
          364.3692980569368,
          367.2353381878407,
          369.57000175021403,
          371.46664989546025,
          373.0040635138414,
          374.2480554038905,
          375.25316971674556
         ]
        },
        {
         "fill": "toself",
         "fillcolor": "rgba(0.615686274509804, 0.8509803921568627, 0.22745098039215686, 0.3333333333333333)",
         "hoverinfo": "skip",
         "legendgroup": "Spain",
         "line": {
          "color": "rgba(255, 255, 255, 0)"
         },
         "mode": "lines",
         "showlegend": false,
         "type": "scatter",
         "x": [
          1,
          2,
          3,
          4,
          5,
          6,
          7,
          8,
          9,
          10,
          11,
          12,
          13,
          14,
          15,
          16,
          17,
          18,
          19,
          20,
          21,
          22,
          23,
          24,
          25,
          26,
          27,
          28,
          29,
          30,
          31,
          32,
          33,
          34,
          35,
          36,
          37,
          38,
          39,
          40,
          41,
          42,
          43,
          44,
          44,
          43,
          42,
          41,
          40,
          39,
          38,
          37,
          36,
          35,
          34,
          33,
          32,
          31,
          30,
          29,
          28,
          27,
          26,
          25,
          24,
          23,
          22,
          21,
          20,
          19,
          18,
          17,
          16,
          15,
          14,
          13,
          12,
          11,
          10,
          9,
          8,
          7,
          6,
          5,
          4,
          3,
          2,
          1
         ],
         "y": [
          2.5439661509703875,
          3.1798323428670323,
          3.9729837834445134,
          4.961403393213961,
          6.1917337942374555,
          7.720967488484526,
          9.618307462627286,
          11.967117585683612,
          14.866810261597605,
          18.434414593477783,
          22.805426645371476,
          28.13336592921343,
          34.58726566171976,
          42.346151994284334,
          51.58950241137283,
          62.48284554313282,
          75.1582358408612,
          89.6904449513994,
          106.07135816062664,
          124.18696384026143,
          143.80280861579882,
          164.56391731186616,
          186.01314883940705,
          207.6277616874368,
          228.8687776463726,
          249.23363811295613,
          268.3015430319446,
          285.76328939512405,
          301.43221006336034,
          315.2378293370203,
          327.20727691133953,
          337.4406327026892,
          346.0856043618216,
          353.315190316833,
          359.3101223183603,
          364.24642945437625,
          368.2875770235448,
          371.580237365706,
          374.2526881153034,
          376.41495296569116,
          378.15998922619156,
          379.56541898584794,
          380.695465163535,
          381.60288050026196,
          368.8795630202283,
          367.77844282900537,
          366.4240494682828,
          364.76072364600213,
          362.72190844810297,
          360.22869869281936,
          357.18856077461174,
          353.4944636645435,
          349.02477029454354,
          343.6443642146805,
          337.20761057453683,
          329.56383505942114,
          320.56598586852544,
          310.0829338471243,
          298.01536801030534,
          284.314396051796,
          269.0008061225709,
          252.18171689300692,
          234.0604853709208,
          214.93582888691316,
          195.1875864400207,
          175.24934907494836,
          155.5715926500745,
          136.5817043815075,
          118.64824243407006,
          102.05548142114915,
          86.99134887204654,
          73.54847354426224,
          61.73544157191138,
          51.494118658983616,
          42.718995044316955,
          35.27546316116615,
          29.015179622396023,
          23.787777980309347,
          19.448990442939394,
          15.865683516090698,
          12.918485794389698,
          10.502683096108564,
          8.527961795616685,
          6.917454865080438,
          5.606421334008142,
          4.540784802895217,
          3.6756750753553025,
          2.9740576423405827
         ]
        }
       ],
       "layout": {
        "hoverdistance": -1,
        "hovermode": "closest",
        "template": {
         "data": {
          "bar": [
           {
            "error_x": {
             "color": "#2a3f5f"
            },
            "error_y": {
             "color": "#2a3f5f"
            },
            "marker": {
             "line": {
              "color": "#E5ECF6",
              "width": 0.5
             }
            },
            "type": "bar"
           }
          ],
          "barpolar": [
           {
            "marker": {
             "line": {
              "color": "#E5ECF6",
              "width": 0.5
             }
            },
            "type": "barpolar"
           }
          ],
          "carpet": [
           {
            "aaxis": {
             "endlinecolor": "#2a3f5f",
             "gridcolor": "white",
             "linecolor": "white",
             "minorgridcolor": "white",
             "startlinecolor": "#2a3f5f"
            },
            "baxis": {
             "endlinecolor": "#2a3f5f",
             "gridcolor": "white",
             "linecolor": "white",
             "minorgridcolor": "white",
             "startlinecolor": "#2a3f5f"
            },
            "type": "carpet"
           }
          ],
          "choropleth": [
           {
            "colorbar": {
             "outlinewidth": 0,
             "ticks": ""
            },
            "type": "choropleth"
           }
          ],
          "contour": [
           {
            "colorbar": {
             "outlinewidth": 0,
             "ticks": ""
            },
            "colorscale": [
             [
              0,
              "#0d0887"
             ],
             [
              0.1111111111111111,
              "#46039f"
             ],
             [
              0.2222222222222222,
              "#7201a8"
             ],
             [
              0.3333333333333333,
              "#9c179e"
             ],
             [
              0.4444444444444444,
              "#bd3786"
             ],
             [
              0.5555555555555556,
              "#d8576b"
             ],
             [
              0.6666666666666666,
              "#ed7953"
             ],
             [
              0.7777777777777778,
              "#fb9f3a"
             ],
             [
              0.8888888888888888,
              "#fdca26"
             ],
             [
              1,
              "#f0f921"
             ]
            ],
            "type": "contour"
           }
          ],
          "contourcarpet": [
           {
            "colorbar": {
             "outlinewidth": 0,
             "ticks": ""
            },
            "type": "contourcarpet"
           }
          ],
          "heatmap": [
           {
            "colorbar": {
             "outlinewidth": 0,
             "ticks": ""
            },
            "colorscale": [
             [
              0,
              "#0d0887"
             ],
             [
              0.1111111111111111,
              "#46039f"
             ],
             [
              0.2222222222222222,
              "#7201a8"
             ],
             [
              0.3333333333333333,
              "#9c179e"
             ],
             [
              0.4444444444444444,
              "#bd3786"
             ],
             [
              0.5555555555555556,
              "#d8576b"
             ],
             [
              0.6666666666666666,
              "#ed7953"
             ],
             [
              0.7777777777777778,
              "#fb9f3a"
             ],
             [
              0.8888888888888888,
              "#fdca26"
             ],
             [
              1,
              "#f0f921"
             ]
            ],
            "type": "heatmap"
           }
          ],
          "heatmapgl": [
           {
            "colorbar": {
             "outlinewidth": 0,
             "ticks": ""
            },
            "colorscale": [
             [
              0,
              "#0d0887"
             ],
             [
              0.1111111111111111,
              "#46039f"
             ],
             [
              0.2222222222222222,
              "#7201a8"
             ],
             [
              0.3333333333333333,
              "#9c179e"
             ],
             [
              0.4444444444444444,
              "#bd3786"
             ],
             [
              0.5555555555555556,
              "#d8576b"
             ],
             [
              0.6666666666666666,
              "#ed7953"
             ],
             [
              0.7777777777777778,
              "#fb9f3a"
             ],
             [
              0.8888888888888888,
              "#fdca26"
             ],
             [
              1,
              "#f0f921"
             ]
            ],
            "type": "heatmapgl"
           }
          ],
          "histogram": [
           {
            "marker": {
             "colorbar": {
              "outlinewidth": 0,
              "ticks": ""
             }
            },
            "type": "histogram"
           }
          ],
          "histogram2d": [
           {
            "colorbar": {
             "outlinewidth": 0,
             "ticks": ""
            },
            "colorscale": [
             [
              0,
              "#0d0887"
             ],
             [
              0.1111111111111111,
              "#46039f"
             ],
             [
              0.2222222222222222,
              "#7201a8"
             ],
             [
              0.3333333333333333,
              "#9c179e"
             ],
             [
              0.4444444444444444,
              "#bd3786"
             ],
             [
              0.5555555555555556,
              "#d8576b"
             ],
             [
              0.6666666666666666,
              "#ed7953"
             ],
             [
              0.7777777777777778,
              "#fb9f3a"
             ],
             [
              0.8888888888888888,
              "#fdca26"
             ],
             [
              1,
              "#f0f921"
             ]
            ],
            "type": "histogram2d"
           }
          ],
          "histogram2dcontour": [
           {
            "colorbar": {
             "outlinewidth": 0,
             "ticks": ""
            },
            "colorscale": [
             [
              0,
              "#0d0887"
             ],
             [
              0.1111111111111111,
              "#46039f"
             ],
             [
              0.2222222222222222,
              "#7201a8"
             ],
             [
              0.3333333333333333,
              "#9c179e"
             ],
             [
              0.4444444444444444,
              "#bd3786"
             ],
             [
              0.5555555555555556,
              "#d8576b"
             ],
             [
              0.6666666666666666,
              "#ed7953"
             ],
             [
              0.7777777777777778,
              "#fb9f3a"
             ],
             [
              0.8888888888888888,
              "#fdca26"
             ],
             [
              1,
              "#f0f921"
             ]
            ],
            "type": "histogram2dcontour"
           }
          ],
          "mesh3d": [
           {
            "colorbar": {
             "outlinewidth": 0,
             "ticks": ""
            },
            "type": "mesh3d"
           }
          ],
          "parcoords": [
           {
            "line": {
             "colorbar": {
              "outlinewidth": 0,
              "ticks": ""
             }
            },
            "type": "parcoords"
           }
          ],
          "pie": [
           {
            "automargin": true,
            "type": "pie"
           }
          ],
          "scatter": [
           {
            "marker": {
             "colorbar": {
              "outlinewidth": 0,
              "ticks": ""
             }
            },
            "type": "scatter"
           }
          ],
          "scatter3d": [
           {
            "line": {
             "colorbar": {
              "outlinewidth": 0,
              "ticks": ""
             }
            },
            "marker": {
             "colorbar": {
              "outlinewidth": 0,
              "ticks": ""
             }
            },
            "type": "scatter3d"
           }
          ],
          "scattercarpet": [
           {
            "marker": {
             "colorbar": {
              "outlinewidth": 0,
              "ticks": ""
             }
            },
            "type": "scattercarpet"
           }
          ],
          "scattergeo": [
           {
            "marker": {
             "colorbar": {
              "outlinewidth": 0,
              "ticks": ""
             }
            },
            "type": "scattergeo"
           }
          ],
          "scattergl": [
           {
            "marker": {
             "colorbar": {
              "outlinewidth": 0,
              "ticks": ""
             }
            },
            "type": "scattergl"
           }
          ],
          "scattermapbox": [
           {
            "marker": {
             "colorbar": {
              "outlinewidth": 0,
              "ticks": ""
             }
            },
            "type": "scattermapbox"
           }
          ],
          "scatterpolar": [
           {
            "marker": {
             "colorbar": {
              "outlinewidth": 0,
              "ticks": ""
             }
            },
            "type": "scatterpolar"
           }
          ],
          "scatterpolargl": [
           {
            "marker": {
             "colorbar": {
              "outlinewidth": 0,
              "ticks": ""
             }
            },
            "type": "scatterpolargl"
           }
          ],
          "scatterternary": [
           {
            "marker": {
             "colorbar": {
              "outlinewidth": 0,
              "ticks": ""
             }
            },
            "type": "scatterternary"
           }
          ],
          "surface": [
           {
            "colorbar": {
             "outlinewidth": 0,
             "ticks": ""
            },
            "colorscale": [
             [
              0,
              "#0d0887"
             ],
             [
              0.1111111111111111,
              "#46039f"
             ],
             [
              0.2222222222222222,
              "#7201a8"
             ],
             [
              0.3333333333333333,
              "#9c179e"
             ],
             [
              0.4444444444444444,
              "#bd3786"
             ],
             [
              0.5555555555555556,
              "#d8576b"
             ],
             [
              0.6666666666666666,
              "#ed7953"
             ],
             [
              0.7777777777777778,
              "#fb9f3a"
             ],
             [
              0.8888888888888888,
              "#fdca26"
             ],
             [
              1,
              "#f0f921"
             ]
            ],
            "type": "surface"
           }
          ],
          "table": [
           {
            "cells": {
             "fill": {
              "color": "#EBF0F8"
             },
             "line": {
              "color": "white"
             }
            },
            "header": {
             "fill": {
              "color": "#C8D4E3"
             },
             "line": {
              "color": "white"
             }
            },
            "type": "table"
           }
          ]
         },
         "layout": {
          "annotationdefaults": {
           "arrowcolor": "#2a3f5f",
           "arrowhead": 0,
           "arrowwidth": 1
          },
          "coloraxis": {
           "colorbar": {
            "outlinewidth": 0,
            "ticks": ""
           }
          },
          "colorscale": {
           "diverging": [
            [
             0,
             "#8e0152"
            ],
            [
             0.1,
             "#c51b7d"
            ],
            [
             0.2,
             "#de77ae"
            ],
            [
             0.3,
             "#f1b6da"
            ],
            [
             0.4,
             "#fde0ef"
            ],
            [
             0.5,
             "#f7f7f7"
            ],
            [
             0.6,
             "#e6f5d0"
            ],
            [
             0.7,
             "#b8e186"
            ],
            [
             0.8,
             "#7fbc41"
            ],
            [
             0.9,
             "#4d9221"
            ],
            [
             1,
             "#276419"
            ]
           ],
           "sequential": [
            [
             0,
             "#0d0887"
            ],
            [
             0.1111111111111111,
             "#46039f"
            ],
            [
             0.2222222222222222,
             "#7201a8"
            ],
            [
             0.3333333333333333,
             "#9c179e"
            ],
            [
             0.4444444444444444,
             "#bd3786"
            ],
            [
             0.5555555555555556,
             "#d8576b"
            ],
            [
             0.6666666666666666,
             "#ed7953"
            ],
            [
             0.7777777777777778,
             "#fb9f3a"
            ],
            [
             0.8888888888888888,
             "#fdca26"
            ],
            [
             1,
             "#f0f921"
            ]
           ],
           "sequentialminus": [
            [
             0,
             "#0d0887"
            ],
            [
             0.1111111111111111,
             "#46039f"
            ],
            [
             0.2222222222222222,
             "#7201a8"
            ],
            [
             0.3333333333333333,
             "#9c179e"
            ],
            [
             0.4444444444444444,
             "#bd3786"
            ],
            [
             0.5555555555555556,
             "#d8576b"
            ],
            [
             0.6666666666666666,
             "#ed7953"
            ],
            [
             0.7777777777777778,
             "#fb9f3a"
            ],
            [
             0.8888888888888888,
             "#fdca26"
            ],
            [
             1,
             "#f0f921"
            ]
           ]
          },
          "colorway": [
           "#636efa",
           "#EF553B",
           "#00cc96",
           "#ab63fa",
           "#FFA15A",
           "#19d3f3",
           "#FF6692",
           "#B6E880",
           "#FF97FF",
           "#FECB52"
          ],
          "font": {
           "color": "#2a3f5f"
          },
          "geo": {
           "bgcolor": "white",
           "lakecolor": "white",
           "landcolor": "#E5ECF6",
           "showlakes": true,
           "showland": true,
           "subunitcolor": "white"
          },
          "hoverlabel": {
           "align": "left"
          },
          "hovermode": "closest",
          "mapbox": {
           "style": "light"
          },
          "paper_bgcolor": "white",
          "plot_bgcolor": "#E5ECF6",
          "polar": {
           "angularaxis": {
            "gridcolor": "white",
            "linecolor": "white",
            "ticks": ""
           },
           "bgcolor": "#E5ECF6",
           "radialaxis": {
            "gridcolor": "white",
            "linecolor": "white",
            "ticks": ""
           }
          },
          "scene": {
           "xaxis": {
            "backgroundcolor": "#E5ECF6",
            "gridcolor": "white",
            "gridwidth": 2,
            "linecolor": "white",
            "showbackground": true,
            "ticks": "",
            "zerolinecolor": "white"
           },
           "yaxis": {
            "backgroundcolor": "#E5ECF6",
            "gridcolor": "white",
            "gridwidth": 2,
            "linecolor": "white",
            "showbackground": true,
            "ticks": "",
            "zerolinecolor": "white"
           },
           "zaxis": {
            "backgroundcolor": "#E5ECF6",
            "gridcolor": "white",
            "gridwidth": 2,
            "linecolor": "white",
            "showbackground": true,
            "ticks": "",
            "zerolinecolor": "white"
           }
          },
          "shapedefaults": {
           "line": {
            "color": "#2a3f5f"
           }
          },
          "ternary": {
           "aaxis": {
            "gridcolor": "white",
            "linecolor": "white",
            "ticks": ""
           },
           "baxis": {
            "gridcolor": "white",
            "linecolor": "white",
            "ticks": ""
           },
           "bgcolor": "#E5ECF6",
           "caxis": {
            "gridcolor": "white",
            "linecolor": "white",
            "ticks": ""
           }
          },
          "title": {
           "x": 0.05
          },
          "xaxis": {
           "automargin": true,
           "gridcolor": "white",
           "linecolor": "white",
           "ticks": "",
           "title": {
            "standoff": 15
           },
           "zerolinecolor": "white",
           "zerolinewidth": 2
          },
          "yaxis": {
           "automargin": true,
           "gridcolor": "white",
           "linecolor": "white",
           "ticks": "",
           "title": {
            "standoff": 15
           },
           "zerolinecolor": "white",
           "zerolinewidth": 2
          }
         }
        },
        "title": {
         "text": "COVID-19 related deaths for a range of countries"
        },
        "xaxis": {
         "title": {
          "text": "Days since 10 deaths"
         }
        },
        "yaxis": {
         "title": {
          "text": "Deaths per 1m"
         },
         "type": "log"
        }
       }
      }
     },
     "metadata": {}
    }
   ],
   "source": [
    "fig = go.Figure()\n",
    "\n",
    "if log_scale:\n",
    "    #ax.set_yscale('log')\n",
    "    fig.update_yaxes(type='log')\n",
    "\n",
    "# Calculate color scale\n",
    "colors = {i: x for i, x in enumerate(bokeh.palettes.viridis(len(countries) + 1))}\n",
    "\n",
    "countries_fit = []\n",
    "for i, country in enumerate(countries):\n",
    "    print(f'Processing country: {country}')\n",
    "\n",
    "    sub_df = ts_df.loc[country][ts_df.loc[country]['province_state'] == 'total']\n",
    "    rel_df = sub_df.query('rel_day >= 1')\n",
    "\n",
    "    if len(rel_df) < MIN_REGRESSION_DATAPOINTS:\n",
    "        continue\n",
    "\n",
    "    model = LogisticModel\n",
    "    params = model.make_params(a=1000, b=0.3, c=1000)\n",
    "    params['a'].min = 0\n",
    "    params['b'].min = 0\n",
    "    params['b'].max = 0.5\n",
    "    params['c'].min = 0\n",
    "    try:\n",
    "        result = model.fit(rel_df[label], params, x=rel_df['rel_day'], method=fit_method)\n",
    "    except (ValueError, TypeError) as e:\n",
    "        print(f'Skipping {country}. Got fit error: {e}')\n",
    "\n",
    "    countries_fit.append({\n",
    "        'zone': country,\n",
    "        'fit_result': result,\n",
    "        'fit_a': result.params['a'].value,\n",
    "        'fit_b': result.params['b'].value,\n",
    "        'fit_c': result.params['c'].value,\n",
    "        'cases': rel_df.iloc[-1]['cases'],\n",
    "        'deaths': rel_df.iloc[-1]['deaths'],\n",
    "        'recoveries': rel_df.iloc[-1]['recoveries'],\n",
    "        'cases_per_1M': rel_df.iloc[-1]['cases_per_1M'],\n",
    "        'deaths_per_1M': rel_df.iloc[-1]['deaths_per_1M'],\n",
    "        'recoveries_per_1M': rel_df.iloc[-1]['recoveries_per_1M'],\n",
    "        'deaths_per_recovery': rel_df.iloc[-1]['deaths_per_recovery'],\n",
    "        'lat': rel_df.iloc[-1]['lat'],\n",
    "        'long': rel_df.iloc[-1]['long'],\n",
    "        'day': rel_df.iloc[-1]['day'],\n",
    "        'rel_day': rel_df.iloc[-1]['rel_day'],\n",
    "        'x': rel_df['rel_day'],\n",
    "        'y': rel_df[label],\n",
    "        'n': n,\n",
    "        'col': colors[i]\n",
    "    })\n",
    "\n",
    "    # Labels with result parameters\n",
    "    axlbl = f'a: {result.params[\"a\"].value:.0f}\\nb: {result.params[\"b\"].value:.3f}\\nc: {result.params[\"c\"].value:.5f}'.replace('\\n', '<br>')\n",
    "\n",
    "    fig.add_trace(go.Scattergl(x=rel_df['rel_day'], y=rel_df[label], name=country, legendgroup=country, mode='markers', marker=dict(color=colors[i]), hovertemplate=f'<b>{country}</b><br>' + '(%{x}, %{y})<br><extra></extra>'))\n",
    "   \n",
    "    # Regression \n",
    "    last_rel_day = rel_df['rel_day'].iloc[-1]\n",
    "    regression_predict_days = np.arange(last_rel_day + 1, last_rel_day + regression_predict_length + 1)\n",
    "\n",
    "    regression_range = np.append(rel_df['rel_day'].values, regression_predict_days)\n",
    "\n",
    "    fig.add_trace(go.Scattergl(x=regression_range, y=result.eval(x=regression_range), name=country, legendgroup=country, mode='lines',\n",
    "                            line=dict(color=colors[i]), showlegend=False,\n",
    "                            hovertemplate=f'<b>{country}</b><br>' + '(%{x}, %{y})<br>' + axlbl + '<extra></extra>'))\n",
    "\n",
    "    # Regression confidence intervals\n",
    "    for j in range(1, regression_confidence_levels + 1):\n",
    "        p = result.params\n",
    "        fig.add_trace(go.Scatter(x=np.concatenate([regression_range, regression_range[::-1]]), y=np.concatenate([model.func(regression_range, p['a'] + j * p['a'].stderr, p['b'] + j * p['b'].stderr, p['c'] + j * p['c'].stderr), model.func(regression_range, p['a'] - j * p['a'].stderr, p['b'] - j * p['b'].stderr, p['c'] - j * p['c'].stderr)[::-1]]), showlegend=False, legendgroup=country, hoverinfo='skip', mode='lines', fill='toself', line_color='rgba(255, 255, 255, 0)', fillcolor='rgba'+str(matplotlib.colors.to_rgba(colors[i]+'55'))))\n",
    "\n",
    "fig.update_layout(\n",
    "    title=f'COVID-19 related {rchop(label, \"_per_1M\")} for a range of countries',\n",
    "    xaxis_title=f'Days since {n} {rchop(label, \"_per_1M\")}',\n",
    "    yaxis_title=' '.join(label.split('_')).capitalize(),\n",
    "    hovermode='closest',\n",
    "    hoverdistance=-1\n",
    ")\n",
    "\n",
    "# Update zone_df\n",
    "countries_df = pd.DataFrame(countries_fit)\n",
    "zone_df = pd.merge(zone_df, countries_df, on='zone', suffixes=('', '_y'))\n",
    "drop_y(zone_df)\n",
    "\n",
    "fig.show()"
   ]
  },
  {
   "cell_type": "code",
   "execution_count": 46,
   "metadata": {},
   "outputs": [
    {
     "output_type": "error",
     "ename": "TypeError",
     "evalue": "only integer scalar arrays can be converted to a scalar index",
     "traceback": [
      "\u001b[1;31m---------------------------------------------------------------------------\u001b[0m",
      "\u001b[1;31mTypeError\u001b[0m                                 Traceback (most recent call last)",
      "\u001b[1;32m<ipython-input-46-bea393302f64>\u001b[0m in \u001b[0;36m<module>\u001b[1;34m\u001b[0m\n\u001b[1;32m----> 1\u001b[1;33m \u001b[0mnp\u001b[0m\u001b[1;33m.\u001b[0m\u001b[0mconcatenate\u001b[0m\u001b[1;33m(\u001b[0m\u001b[0mregression_range\u001b[0m\u001b[1;33m,\u001b[0m \u001b[0mregression_range\u001b[0m\u001b[1;33m)\u001b[0m\u001b[1;33m\u001b[0m\u001b[1;33m\u001b[0m\u001b[0m\n\u001b[0m",
      "\u001b[1;32m<__array_function__ internals>\u001b[0m in \u001b[0;36mconcatenate\u001b[1;34m(*args, **kwargs)\u001b[0m\n",
      "\u001b[1;31mTypeError\u001b[0m: only integer scalar arrays can be converted to a scalar index"
     ]
    }
   ],
   "source": [
    "    np.concatenateregression_range, regression_range)\n"
   ]
  },
  {
   "cell_type": "markdown",
   "metadata": {},
   "source": [
    "## 2.5 Find correlations"
   ]
  },
  {
   "cell_type": "code",
   "execution_count": 81,
   "metadata": {},
   "outputs": [
    {
     "output_type": "display_data",
     "data": {
      "application/vnd.plotly.v1+json": {
       "config": {
        "plotlyServerURL": "https://plot.ly"
       },
       "data": [
        {
         "hovertemplate": "<b>%{hovertext}</b><br><br>urbanisation=%{x}<br>deaths_per_1M=%{y}<extra></extra>",
         "hovertext": [
          "Denmark",
          "Italy",
          "Spain",
          "Sweden",
          "United Kingdom"
         ],
         "legendgroup": "",
         "marker": {
          "color": "#636efa",
          "symbol": "circle"
         },
         "mode": "markers",
         "name": "",
         "showlegend": false,
         "type": "scatter",
         "x": [
          87.874,
          70.438,
          80.321,
          87.431,
          83.398
         ],
         "xaxis": "x",
         "y": [
          44.87682691836353,
          322.2018027942251,
          354.85529485726937,
          87.17261376517486,
          148.84063795998406
         ],
         "yaxis": "y"
        }
       ],
       "layout": {
        "legend": {
         "tracegroupgap": 0
        },
        "margin": {
         "t": 60
        },
        "template": {
         "data": {
          "bar": [
           {
            "error_x": {
             "color": "#2a3f5f"
            },
            "error_y": {
             "color": "#2a3f5f"
            },
            "marker": {
             "line": {
              "color": "#E5ECF6",
              "width": 0.5
             }
            },
            "type": "bar"
           }
          ],
          "barpolar": [
           {
            "marker": {
             "line": {
              "color": "#E5ECF6",
              "width": 0.5
             }
            },
            "type": "barpolar"
           }
          ],
          "carpet": [
           {
            "aaxis": {
             "endlinecolor": "#2a3f5f",
             "gridcolor": "white",
             "linecolor": "white",
             "minorgridcolor": "white",
             "startlinecolor": "#2a3f5f"
            },
            "baxis": {
             "endlinecolor": "#2a3f5f",
             "gridcolor": "white",
             "linecolor": "white",
             "minorgridcolor": "white",
             "startlinecolor": "#2a3f5f"
            },
            "type": "carpet"
           }
          ],
          "choropleth": [
           {
            "colorbar": {
             "outlinewidth": 0,
             "ticks": ""
            },
            "type": "choropleth"
           }
          ],
          "contour": [
           {
            "colorbar": {
             "outlinewidth": 0,
             "ticks": ""
            },
            "colorscale": [
             [
              0,
              "#0d0887"
             ],
             [
              0.1111111111111111,
              "#46039f"
             ],
             [
              0.2222222222222222,
              "#7201a8"
             ],
             [
              0.3333333333333333,
              "#9c179e"
             ],
             [
              0.4444444444444444,
              "#bd3786"
             ],
             [
              0.5555555555555556,
              "#d8576b"
             ],
             [
              0.6666666666666666,
              "#ed7953"
             ],
             [
              0.7777777777777778,
              "#fb9f3a"
             ],
             [
              0.8888888888888888,
              "#fdca26"
             ],
             [
              1,
              "#f0f921"
             ]
            ],
            "type": "contour"
           }
          ],
          "contourcarpet": [
           {
            "colorbar": {
             "outlinewidth": 0,
             "ticks": ""
            },
            "type": "contourcarpet"
           }
          ],
          "heatmap": [
           {
            "colorbar": {
             "outlinewidth": 0,
             "ticks": ""
            },
            "colorscale": [
             [
              0,
              "#0d0887"
             ],
             [
              0.1111111111111111,
              "#46039f"
             ],
             [
              0.2222222222222222,
              "#7201a8"
             ],
             [
              0.3333333333333333,
              "#9c179e"
             ],
             [
              0.4444444444444444,
              "#bd3786"
             ],
             [
              0.5555555555555556,
              "#d8576b"
             ],
             [
              0.6666666666666666,
              "#ed7953"
             ],
             [
              0.7777777777777778,
              "#fb9f3a"
             ],
             [
              0.8888888888888888,
              "#fdca26"
             ],
             [
              1,
              "#f0f921"
             ]
            ],
            "type": "heatmap"
           }
          ],
          "heatmapgl": [
           {
            "colorbar": {
             "outlinewidth": 0,
             "ticks": ""
            },
            "colorscale": [
             [
              0,
              "#0d0887"
             ],
             [
              0.1111111111111111,
              "#46039f"
             ],
             [
              0.2222222222222222,
              "#7201a8"
             ],
             [
              0.3333333333333333,
              "#9c179e"
             ],
             [
              0.4444444444444444,
              "#bd3786"
             ],
             [
              0.5555555555555556,
              "#d8576b"
             ],
             [
              0.6666666666666666,
              "#ed7953"
             ],
             [
              0.7777777777777778,
              "#fb9f3a"
             ],
             [
              0.8888888888888888,
              "#fdca26"
             ],
             [
              1,
              "#f0f921"
             ]
            ],
            "type": "heatmapgl"
           }
          ],
          "histogram": [
           {
            "marker": {
             "colorbar": {
              "outlinewidth": 0,
              "ticks": ""
             }
            },
            "type": "histogram"
           }
          ],
          "histogram2d": [
           {
            "colorbar": {
             "outlinewidth": 0,
             "ticks": ""
            },
            "colorscale": [
             [
              0,
              "#0d0887"
             ],
             [
              0.1111111111111111,
              "#46039f"
             ],
             [
              0.2222222222222222,
              "#7201a8"
             ],
             [
              0.3333333333333333,
              "#9c179e"
             ],
             [
              0.4444444444444444,
              "#bd3786"
             ],
             [
              0.5555555555555556,
              "#d8576b"
             ],
             [
              0.6666666666666666,
              "#ed7953"
             ],
             [
              0.7777777777777778,
              "#fb9f3a"
             ],
             [
              0.8888888888888888,
              "#fdca26"
             ],
             [
              1,
              "#f0f921"
             ]
            ],
            "type": "histogram2d"
           }
          ],
          "histogram2dcontour": [
           {
            "colorbar": {
             "outlinewidth": 0,
             "ticks": ""
            },
            "colorscale": [
             [
              0,
              "#0d0887"
             ],
             [
              0.1111111111111111,
              "#46039f"
             ],
             [
              0.2222222222222222,
              "#7201a8"
             ],
             [
              0.3333333333333333,
              "#9c179e"
             ],
             [
              0.4444444444444444,
              "#bd3786"
             ],
             [
              0.5555555555555556,
              "#d8576b"
             ],
             [
              0.6666666666666666,
              "#ed7953"
             ],
             [
              0.7777777777777778,
              "#fb9f3a"
             ],
             [
              0.8888888888888888,
              "#fdca26"
             ],
             [
              1,
              "#f0f921"
             ]
            ],
            "type": "histogram2dcontour"
           }
          ],
          "mesh3d": [
           {
            "colorbar": {
             "outlinewidth": 0,
             "ticks": ""
            },
            "type": "mesh3d"
           }
          ],
          "parcoords": [
           {
            "line": {
             "colorbar": {
              "outlinewidth": 0,
              "ticks": ""
             }
            },
            "type": "parcoords"
           }
          ],
          "pie": [
           {
            "automargin": true,
            "type": "pie"
           }
          ],
          "scatter": [
           {
            "marker": {
             "colorbar": {
              "outlinewidth": 0,
              "ticks": ""
             }
            },
            "type": "scatter"
           }
          ],
          "scatter3d": [
           {
            "line": {
             "colorbar": {
              "outlinewidth": 0,
              "ticks": ""
             }
            },
            "marker": {
             "colorbar": {
              "outlinewidth": 0,
              "ticks": ""
             }
            },
            "type": "scatter3d"
           }
          ],
          "scattercarpet": [
           {
            "marker": {
             "colorbar": {
              "outlinewidth": 0,
              "ticks": ""
             }
            },
            "type": "scattercarpet"
           }
          ],
          "scattergeo": [
           {
            "marker": {
             "colorbar": {
              "outlinewidth": 0,
              "ticks": ""
             }
            },
            "type": "scattergeo"
           }
          ],
          "scattergl": [
           {
            "marker": {
             "colorbar": {
              "outlinewidth": 0,
              "ticks": ""
             }
            },
            "type": "scattergl"
           }
          ],
          "scattermapbox": [
           {
            "marker": {
             "colorbar": {
              "outlinewidth": 0,
              "ticks": ""
             }
            },
            "type": "scattermapbox"
           }
          ],
          "scatterpolar": [
           {
            "marker": {
             "colorbar": {
              "outlinewidth": 0,
              "ticks": ""
             }
            },
            "type": "scatterpolar"
           }
          ],
          "scatterpolargl": [
           {
            "marker": {
             "colorbar": {
              "outlinewidth": 0,
              "ticks": ""
             }
            },
            "type": "scatterpolargl"
           }
          ],
          "scatterternary": [
           {
            "marker": {
             "colorbar": {
              "outlinewidth": 0,
              "ticks": ""
             }
            },
            "type": "scatterternary"
           }
          ],
          "surface": [
           {
            "colorbar": {
             "outlinewidth": 0,
             "ticks": ""
            },
            "colorscale": [
             [
              0,
              "#0d0887"
             ],
             [
              0.1111111111111111,
              "#46039f"
             ],
             [
              0.2222222222222222,
              "#7201a8"
             ],
             [
              0.3333333333333333,
              "#9c179e"
             ],
             [
              0.4444444444444444,
              "#bd3786"
             ],
             [
              0.5555555555555556,
              "#d8576b"
             ],
             [
              0.6666666666666666,
              "#ed7953"
             ],
             [
              0.7777777777777778,
              "#fb9f3a"
             ],
             [
              0.8888888888888888,
              "#fdca26"
             ],
             [
              1,
              "#f0f921"
             ]
            ],
            "type": "surface"
           }
          ],
          "table": [
           {
            "cells": {
             "fill": {
              "color": "#EBF0F8"
             },
             "line": {
              "color": "white"
             }
            },
            "header": {
             "fill": {
              "color": "#C8D4E3"
             },
             "line": {
              "color": "white"
             }
            },
            "type": "table"
           }
          ]
         },
         "layout": {
          "annotationdefaults": {
           "arrowcolor": "#2a3f5f",
           "arrowhead": 0,
           "arrowwidth": 1
          },
          "coloraxis": {
           "colorbar": {
            "outlinewidth": 0,
            "ticks": ""
           }
          },
          "colorscale": {
           "diverging": [
            [
             0,
             "#8e0152"
            ],
            [
             0.1,
             "#c51b7d"
            ],
            [
             0.2,
             "#de77ae"
            ],
            [
             0.3,
             "#f1b6da"
            ],
            [
             0.4,
             "#fde0ef"
            ],
            [
             0.5,
             "#f7f7f7"
            ],
            [
             0.6,
             "#e6f5d0"
            ],
            [
             0.7,
             "#b8e186"
            ],
            [
             0.8,
             "#7fbc41"
            ],
            [
             0.9,
             "#4d9221"
            ],
            [
             1,
             "#276419"
            ]
           ],
           "sequential": [
            [
             0,
             "#0d0887"
            ],
            [
             0.1111111111111111,
             "#46039f"
            ],
            [
             0.2222222222222222,
             "#7201a8"
            ],
            [
             0.3333333333333333,
             "#9c179e"
            ],
            [
             0.4444444444444444,
             "#bd3786"
            ],
            [
             0.5555555555555556,
             "#d8576b"
            ],
            [
             0.6666666666666666,
             "#ed7953"
            ],
            [
             0.7777777777777778,
             "#fb9f3a"
            ],
            [
             0.8888888888888888,
             "#fdca26"
            ],
            [
             1,
             "#f0f921"
            ]
           ],
           "sequentialminus": [
            [
             0,
             "#0d0887"
            ],
            [
             0.1111111111111111,
             "#46039f"
            ],
            [
             0.2222222222222222,
             "#7201a8"
            ],
            [
             0.3333333333333333,
             "#9c179e"
            ],
            [
             0.4444444444444444,
             "#bd3786"
            ],
            [
             0.5555555555555556,
             "#d8576b"
            ],
            [
             0.6666666666666666,
             "#ed7953"
            ],
            [
             0.7777777777777778,
             "#fb9f3a"
            ],
            [
             0.8888888888888888,
             "#fdca26"
            ],
            [
             1,
             "#f0f921"
            ]
           ]
          },
          "colorway": [
           "#636efa",
           "#EF553B",
           "#00cc96",
           "#ab63fa",
           "#FFA15A",
           "#19d3f3",
           "#FF6692",
           "#B6E880",
           "#FF97FF",
           "#FECB52"
          ],
          "font": {
           "color": "#2a3f5f"
          },
          "geo": {
           "bgcolor": "white",
           "lakecolor": "white",
           "landcolor": "#E5ECF6",
           "showlakes": true,
           "showland": true,
           "subunitcolor": "white"
          },
          "hoverlabel": {
           "align": "left"
          },
          "hovermode": "closest",
          "mapbox": {
           "style": "light"
          },
          "paper_bgcolor": "white",
          "plot_bgcolor": "#E5ECF6",
          "polar": {
           "angularaxis": {
            "gridcolor": "white",
            "linecolor": "white",
            "ticks": ""
           },
           "bgcolor": "#E5ECF6",
           "radialaxis": {
            "gridcolor": "white",
            "linecolor": "white",
            "ticks": ""
           }
          },
          "scene": {
           "xaxis": {
            "backgroundcolor": "#E5ECF6",
            "gridcolor": "white",
            "gridwidth": 2,
            "linecolor": "white",
            "showbackground": true,
            "ticks": "",
            "zerolinecolor": "white"
           },
           "yaxis": {
            "backgroundcolor": "#E5ECF6",
            "gridcolor": "white",
            "gridwidth": 2,
            "linecolor": "white",
            "showbackground": true,
            "ticks": "",
            "zerolinecolor": "white"
           },
           "zaxis": {
            "backgroundcolor": "#E5ECF6",
            "gridcolor": "white",
            "gridwidth": 2,
            "linecolor": "white",
            "showbackground": true,
            "ticks": "",
            "zerolinecolor": "white"
           }
          },
          "shapedefaults": {
           "line": {
            "color": "#2a3f5f"
           }
          },
          "ternary": {
           "aaxis": {
            "gridcolor": "white",
            "linecolor": "white",
            "ticks": ""
           },
           "baxis": {
            "gridcolor": "white",
            "linecolor": "white",
            "ticks": ""
           },
           "bgcolor": "#E5ECF6",
           "caxis": {
            "gridcolor": "white",
            "linecolor": "white",
            "ticks": ""
           }
          },
          "title": {
           "x": 0.05
          },
          "xaxis": {
           "automargin": true,
           "gridcolor": "white",
           "linecolor": "white",
           "ticks": "",
           "title": {
            "standoff": 15
           },
           "zerolinecolor": "white",
           "zerolinewidth": 2
          },
          "yaxis": {
           "automargin": true,
           "gridcolor": "white",
           "linecolor": "white",
           "ticks": "",
           "title": {
            "standoff": 15
           },
           "zerolinecolor": "white",
           "zerolinewidth": 2
          }
         }
        },
        "xaxis": {
         "anchor": "y",
         "domain": [
          0,
          1
         ],
         "title": {
          "text": "urbanisation"
         }
        },
        "yaxis": {
         "anchor": "x",
         "domain": [
          0,
          1
         ],
         "title": {
          "text": "deaths_per_1M"
         }
        }
       }
      }
     },
     "metadata": {}
    },
    {
     "output_type": "stream",
     "name": "stdout",
     "text": "-0.8238893068386798\n"
    },
    {
     "output_type": "execute_result",
     "data": {
      "text/plain": "                          population  urbanisation  hospital_beds_per_1K  \\\npopulation                  1.000000     -0.713761              0.752351   \nurbanisation               -0.713761      1.000000             -0.991102   \nhospital_beds_per_1K        0.752351     -0.991102              1.000000   \nvoice_and_accountability   -0.882585      0.957868             -0.963191   \ngovernment_effectiveness   -0.575263      0.969043             -0.932534   \nfit_a                       0.915670     -0.416906              0.469148   \nfit_b                      -0.095612      0.726256             -0.643451   \nfit_c                       0.762669     -0.796550              0.867696   \ncases                       0.787178     -0.838880              0.890390   \ndeaths                      0.838154     -0.909822              0.946837   \nrecoveries                  0.401968     -0.601740              0.663456   \ncases_per_1M                0.478929     -0.656241              0.716748   \ndeaths_per_1M               0.682206     -0.823889              0.880461   \nrecoveries_per_1M           0.187643     -0.396353              0.446844   \ndeaths_per_recovery         0.521480      0.156566             -0.127620   \nlat                        -0.701903      0.039176             -0.070374   \nlong                       -0.625233     -0.084640              0.042684   \nday                              NaN           NaN                   NaN   \nrel_day                     0.729670     -0.993808              0.999082   \nn                                NaN           NaN                   NaN   \n\n                          voice_and_accountability  government_effectiveness  \\\npopulation                               -0.882585                 -0.575263   \nurbanisation                              0.957868                  0.969043   \nhospital_beds_per_1K                     -0.963191                 -0.932534   \nvoice_and_accountability                  1.000000                  0.884319   \ngovernment_effectiveness                  0.884319                  1.000000   \nfit_a                                    -0.645628                 -0.281539   \nfit_b                                     0.534996                  0.858668   \nfit_c                                    -0.825201                 -0.634095   \ncases                                    -0.872981                 -0.682121   \ndeaths                                   -0.943388                 -0.779458   \nrecoveries                               -0.553889                 -0.444686   \ncases_per_1M                             -0.622367                 -0.496443   \ndeaths_per_1M                            -0.815413                 -0.675973   \nrecoveries_per_1M                        -0.336118                 -0.248718   \ndeaths_per_recovery                      -0.110320                  0.231229   \nlat                                       0.318945                 -0.075740   \nlong                                      0.204137                 -0.218662   \nday                                            NaN                       NaN   \nrel_day                                  -0.956684                 -0.940398   \nn                                              NaN                       NaN   \n\n                             fit_a     fit_b     fit_c     cases    deaths  \\\npopulation                0.915670 -0.095612  0.762669  0.787178  0.838154   \nurbanisation             -0.416906  0.726256 -0.796550 -0.838880 -0.909822   \nhospital_beds_per_1K      0.469148 -0.643451  0.867696  0.890390  0.946837   \nvoice_and_accountability -0.645628  0.534996 -0.825201 -0.872981 -0.943388   \ngovernment_effectiveness -0.281539  0.858668 -0.634095 -0.682121 -0.779458   \nfit_a                     1.000000  0.213970  0.542922  0.517676  0.570819   \nfit_b                     0.213970  1.000000 -0.234870 -0.311457 -0.407787   \nfit_c                     0.542922 -0.234870  1.000000  0.971986  0.952281   \ncases                     0.517676 -0.311457  0.971986  1.000000  0.985063   \ndeaths                    0.570819 -0.407787  0.952281  0.985063  1.000000   \nrecoveries                0.097551 -0.234030  0.852610  0.871661  0.788610   \ncases_per_1M              0.173793 -0.254049  0.888887  0.911461  0.839144   \ndeaths_per_1M             0.398428 -0.346219  0.978837  0.983623  0.956761   \nrecoveries_per_1M        -0.117025 -0.149109  0.660332  0.714927  0.603413   \ndeaths_per_recovery       0.799339  0.555806 -0.051900 -0.074399 -0.023020   \nlat                      -0.883181 -0.464044 -0.153177 -0.176087 -0.217852   \nlong                     -0.827055 -0.593393 -0.109576 -0.129856 -0.145145   \nday                            NaN       NaN       NaN       NaN       NaN   \nrel_day                   0.434665 -0.668961  0.857166  0.885724  0.941508   \nn                              NaN       NaN       NaN       NaN       NaN   \n\n                          recoveries  cases_per_1M  deaths_per_1M  \\\npopulation                  0.401968      0.478929       0.682206   \nurbanisation               -0.601740     -0.656241      -0.823889   \nhospital_beds_per_1K        0.663456      0.716748       0.880461   \nvoice_and_accountability   -0.553889     -0.622367      -0.815413   \ngovernment_effectiveness   -0.444686     -0.496443      -0.675973   \nfit_a                       0.097551      0.173793       0.398428   \nfit_b                      -0.234030     -0.254049      -0.346219   \nfit_c                       0.852610      0.888887       0.978837   \ncases                       0.871661      0.911461       0.983623   \ndeaths                      0.788610      0.839144       0.956761   \nrecoveries                  1.000000      0.996083       0.921629   \ncases_per_1M                0.996083      1.000000       0.949828   \ndeaths_per_1M               0.921629      0.949828       1.000000   \nrecoveries_per_1M           0.952106      0.928890       0.768161   \ndeaths_per_recovery        -0.444299     -0.386893      -0.215228   \nlat                         0.208109      0.142504      -0.018071   \nlong                        0.193530      0.138553       0.022562   \nday                              NaN           NaN            NaN   \nrel_day                     0.670935      0.722354       0.878507   \nn                                NaN           NaN            NaN   \n\n                          recoveries_per_1M  deaths_per_recovery       lat  \\\npopulation                         0.187643             0.521480 -0.701903   \nurbanisation                      -0.396353             0.156566  0.039176   \nhospital_beds_per_1K               0.446844            -0.127620 -0.070374   \nvoice_and_accountability          -0.336118            -0.110320  0.318945   \ngovernment_effectiveness          -0.248718             0.231229 -0.075740   \nfit_a                             -0.117025             0.799339 -0.883181   \nfit_b                             -0.149109             0.555806 -0.464044   \nfit_c                              0.660332            -0.051900 -0.153177   \ncases                              0.714927            -0.074399 -0.176087   \ndeaths                             0.603413            -0.023020 -0.217852   \nrecoveries                         0.952106            -0.444299  0.208109   \ncases_per_1M                       0.928890            -0.386893  0.142504   \ndeaths_per_1M                      0.768161            -0.215228 -0.018071   \nrecoveries_per_1M                  1.000000            -0.544783  0.309012   \ndeaths_per_recovery               -0.544783             1.000000 -0.953741   \nlat                                0.309012            -0.953741  1.000000   \nlong                               0.257457            -0.943070  0.985741   \nday                                     NaN                  NaN       NaN   \nrel_day                            0.462175            -0.163231 -0.038059   \nn                                       NaN                  NaN       NaN   \n\n                              long  day   rel_day   n  \npopulation               -0.625233  NaN  0.729670 NaN  \nurbanisation             -0.084640  NaN -0.993808 NaN  \nhospital_beds_per_1K      0.042684  NaN  0.999082 NaN  \nvoice_and_accountability  0.204137  NaN -0.956684 NaN  \ngovernment_effectiveness -0.218662  NaN -0.940398 NaN  \nfit_a                    -0.827055  NaN  0.434665 NaN  \nfit_b                    -0.593393  NaN -0.668961 NaN  \nfit_c                    -0.109576  NaN  0.857166 NaN  \ncases                    -0.129856  NaN  0.885724 NaN  \ndeaths                   -0.145145  NaN  0.941508 NaN  \nrecoveries                0.193530  NaN  0.670935 NaN  \ncases_per_1M              0.138553  NaN  0.722354 NaN  \ndeaths_per_1M             0.022562  NaN  0.878507 NaN  \nrecoveries_per_1M         0.257457  NaN  0.462175 NaN  \ndeaths_per_recovery      -0.943070  NaN -0.163231 NaN  \nlat                       0.985741  NaN -0.038059 NaN  \nlong                      1.000000  NaN  0.074915 NaN  \nday                            NaN  NaN       NaN NaN  \nrel_day                   0.074915  NaN  1.000000 NaN  \nn                              NaN  NaN       NaN NaN  ",
      "text/html": "<div>\n<style scoped>\n    .dataframe tbody tr th:only-of-type {\n        vertical-align: middle;\n    }\n\n    .dataframe tbody tr th {\n        vertical-align: top;\n    }\n\n    .dataframe thead th {\n        text-align: right;\n    }\n</style>\n<table border=\"1\" class=\"dataframe\">\n  <thead>\n    <tr style=\"text-align: right;\">\n      <th></th>\n      <th>population</th>\n      <th>urbanisation</th>\n      <th>hospital_beds_per_1K</th>\n      <th>voice_and_accountability</th>\n      <th>government_effectiveness</th>\n      <th>fit_a</th>\n      <th>fit_b</th>\n      <th>fit_c</th>\n      <th>cases</th>\n      <th>deaths</th>\n      <th>recoveries</th>\n      <th>cases_per_1M</th>\n      <th>deaths_per_1M</th>\n      <th>recoveries_per_1M</th>\n      <th>deaths_per_recovery</th>\n      <th>lat</th>\n      <th>long</th>\n      <th>day</th>\n      <th>rel_day</th>\n      <th>n</th>\n    </tr>\n  </thead>\n  <tbody>\n    <tr>\n      <th>population</th>\n      <td>1.000000</td>\n      <td>-0.713761</td>\n      <td>0.752351</td>\n      <td>-0.882585</td>\n      <td>-0.575263</td>\n      <td>0.915670</td>\n      <td>-0.095612</td>\n      <td>0.762669</td>\n      <td>0.787178</td>\n      <td>0.838154</td>\n      <td>0.401968</td>\n      <td>0.478929</td>\n      <td>0.682206</td>\n      <td>0.187643</td>\n      <td>0.521480</td>\n      <td>-0.701903</td>\n      <td>-0.625233</td>\n      <td>NaN</td>\n      <td>0.729670</td>\n      <td>NaN</td>\n    </tr>\n    <tr>\n      <th>urbanisation</th>\n      <td>-0.713761</td>\n      <td>1.000000</td>\n      <td>-0.991102</td>\n      <td>0.957868</td>\n      <td>0.969043</td>\n      <td>-0.416906</td>\n      <td>0.726256</td>\n      <td>-0.796550</td>\n      <td>-0.838880</td>\n      <td>-0.909822</td>\n      <td>-0.601740</td>\n      <td>-0.656241</td>\n      <td>-0.823889</td>\n      <td>-0.396353</td>\n      <td>0.156566</td>\n      <td>0.039176</td>\n      <td>-0.084640</td>\n      <td>NaN</td>\n      <td>-0.993808</td>\n      <td>NaN</td>\n    </tr>\n    <tr>\n      <th>hospital_beds_per_1K</th>\n      <td>0.752351</td>\n      <td>-0.991102</td>\n      <td>1.000000</td>\n      <td>-0.963191</td>\n      <td>-0.932534</td>\n      <td>0.469148</td>\n      <td>-0.643451</td>\n      <td>0.867696</td>\n      <td>0.890390</td>\n      <td>0.946837</td>\n      <td>0.663456</td>\n      <td>0.716748</td>\n      <td>0.880461</td>\n      <td>0.446844</td>\n      <td>-0.127620</td>\n      <td>-0.070374</td>\n      <td>0.042684</td>\n      <td>NaN</td>\n      <td>0.999082</td>\n      <td>NaN</td>\n    </tr>\n    <tr>\n      <th>voice_and_accountability</th>\n      <td>-0.882585</td>\n      <td>0.957868</td>\n      <td>-0.963191</td>\n      <td>1.000000</td>\n      <td>0.884319</td>\n      <td>-0.645628</td>\n      <td>0.534996</td>\n      <td>-0.825201</td>\n      <td>-0.872981</td>\n      <td>-0.943388</td>\n      <td>-0.553889</td>\n      <td>-0.622367</td>\n      <td>-0.815413</td>\n      <td>-0.336118</td>\n      <td>-0.110320</td>\n      <td>0.318945</td>\n      <td>0.204137</td>\n      <td>NaN</td>\n      <td>-0.956684</td>\n      <td>NaN</td>\n    </tr>\n    <tr>\n      <th>government_effectiveness</th>\n      <td>-0.575263</td>\n      <td>0.969043</td>\n      <td>-0.932534</td>\n      <td>0.884319</td>\n      <td>1.000000</td>\n      <td>-0.281539</td>\n      <td>0.858668</td>\n      <td>-0.634095</td>\n      <td>-0.682121</td>\n      <td>-0.779458</td>\n      <td>-0.444686</td>\n      <td>-0.496443</td>\n      <td>-0.675973</td>\n      <td>-0.248718</td>\n      <td>0.231229</td>\n      <td>-0.075740</td>\n      <td>-0.218662</td>\n      <td>NaN</td>\n      <td>-0.940398</td>\n      <td>NaN</td>\n    </tr>\n    <tr>\n      <th>fit_a</th>\n      <td>0.915670</td>\n      <td>-0.416906</td>\n      <td>0.469148</td>\n      <td>-0.645628</td>\n      <td>-0.281539</td>\n      <td>1.000000</td>\n      <td>0.213970</td>\n      <td>0.542922</td>\n      <td>0.517676</td>\n      <td>0.570819</td>\n      <td>0.097551</td>\n      <td>0.173793</td>\n      <td>0.398428</td>\n      <td>-0.117025</td>\n      <td>0.799339</td>\n      <td>-0.883181</td>\n      <td>-0.827055</td>\n      <td>NaN</td>\n      <td>0.434665</td>\n      <td>NaN</td>\n    </tr>\n    <tr>\n      <th>fit_b</th>\n      <td>-0.095612</td>\n      <td>0.726256</td>\n      <td>-0.643451</td>\n      <td>0.534996</td>\n      <td>0.858668</td>\n      <td>0.213970</td>\n      <td>1.000000</td>\n      <td>-0.234870</td>\n      <td>-0.311457</td>\n      <td>-0.407787</td>\n      <td>-0.234030</td>\n      <td>-0.254049</td>\n      <td>-0.346219</td>\n      <td>-0.149109</td>\n      <td>0.555806</td>\n      <td>-0.464044</td>\n      <td>-0.593393</td>\n      <td>NaN</td>\n      <td>-0.668961</td>\n      <td>NaN</td>\n    </tr>\n    <tr>\n      <th>fit_c</th>\n      <td>0.762669</td>\n      <td>-0.796550</td>\n      <td>0.867696</td>\n      <td>-0.825201</td>\n      <td>-0.634095</td>\n      <td>0.542922</td>\n      <td>-0.234870</td>\n      <td>1.000000</td>\n      <td>0.971986</td>\n      <td>0.952281</td>\n      <td>0.852610</td>\n      <td>0.888887</td>\n      <td>0.978837</td>\n      <td>0.660332</td>\n      <td>-0.051900</td>\n      <td>-0.153177</td>\n      <td>-0.109576</td>\n      <td>NaN</td>\n      <td>0.857166</td>\n      <td>NaN</td>\n    </tr>\n    <tr>\n      <th>cases</th>\n      <td>0.787178</td>\n      <td>-0.838880</td>\n      <td>0.890390</td>\n      <td>-0.872981</td>\n      <td>-0.682121</td>\n      <td>0.517676</td>\n      <td>-0.311457</td>\n      <td>0.971986</td>\n      <td>1.000000</td>\n      <td>0.985063</td>\n      <td>0.871661</td>\n      <td>0.911461</td>\n      <td>0.983623</td>\n      <td>0.714927</td>\n      <td>-0.074399</td>\n      <td>-0.176087</td>\n      <td>-0.129856</td>\n      <td>NaN</td>\n      <td>0.885724</td>\n      <td>NaN</td>\n    </tr>\n    <tr>\n      <th>deaths</th>\n      <td>0.838154</td>\n      <td>-0.909822</td>\n      <td>0.946837</td>\n      <td>-0.943388</td>\n      <td>-0.779458</td>\n      <td>0.570819</td>\n      <td>-0.407787</td>\n      <td>0.952281</td>\n      <td>0.985063</td>\n      <td>1.000000</td>\n      <td>0.788610</td>\n      <td>0.839144</td>\n      <td>0.956761</td>\n      <td>0.603413</td>\n      <td>-0.023020</td>\n      <td>-0.217852</td>\n      <td>-0.145145</td>\n      <td>NaN</td>\n      <td>0.941508</td>\n      <td>NaN</td>\n    </tr>\n    <tr>\n      <th>recoveries</th>\n      <td>0.401968</td>\n      <td>-0.601740</td>\n      <td>0.663456</td>\n      <td>-0.553889</td>\n      <td>-0.444686</td>\n      <td>0.097551</td>\n      <td>-0.234030</td>\n      <td>0.852610</td>\n      <td>0.871661</td>\n      <td>0.788610</td>\n      <td>1.000000</td>\n      <td>0.996083</td>\n      <td>0.921629</td>\n      <td>0.952106</td>\n      <td>-0.444299</td>\n      <td>0.208109</td>\n      <td>0.193530</td>\n      <td>NaN</td>\n      <td>0.670935</td>\n      <td>NaN</td>\n    </tr>\n    <tr>\n      <th>cases_per_1M</th>\n      <td>0.478929</td>\n      <td>-0.656241</td>\n      <td>0.716748</td>\n      <td>-0.622367</td>\n      <td>-0.496443</td>\n      <td>0.173793</td>\n      <td>-0.254049</td>\n      <td>0.888887</td>\n      <td>0.911461</td>\n      <td>0.839144</td>\n      <td>0.996083</td>\n      <td>1.000000</td>\n      <td>0.949828</td>\n      <td>0.928890</td>\n      <td>-0.386893</td>\n      <td>0.142504</td>\n      <td>0.138553</td>\n      <td>NaN</td>\n      <td>0.722354</td>\n      <td>NaN</td>\n    </tr>\n    <tr>\n      <th>deaths_per_1M</th>\n      <td>0.682206</td>\n      <td>-0.823889</td>\n      <td>0.880461</td>\n      <td>-0.815413</td>\n      <td>-0.675973</td>\n      <td>0.398428</td>\n      <td>-0.346219</td>\n      <td>0.978837</td>\n      <td>0.983623</td>\n      <td>0.956761</td>\n      <td>0.921629</td>\n      <td>0.949828</td>\n      <td>1.000000</td>\n      <td>0.768161</td>\n      <td>-0.215228</td>\n      <td>-0.018071</td>\n      <td>0.022562</td>\n      <td>NaN</td>\n      <td>0.878507</td>\n      <td>NaN</td>\n    </tr>\n    <tr>\n      <th>recoveries_per_1M</th>\n      <td>0.187643</td>\n      <td>-0.396353</td>\n      <td>0.446844</td>\n      <td>-0.336118</td>\n      <td>-0.248718</td>\n      <td>-0.117025</td>\n      <td>-0.149109</td>\n      <td>0.660332</td>\n      <td>0.714927</td>\n      <td>0.603413</td>\n      <td>0.952106</td>\n      <td>0.928890</td>\n      <td>0.768161</td>\n      <td>1.000000</td>\n      <td>-0.544783</td>\n      <td>0.309012</td>\n      <td>0.257457</td>\n      <td>NaN</td>\n      <td>0.462175</td>\n      <td>NaN</td>\n    </tr>\n    <tr>\n      <th>deaths_per_recovery</th>\n      <td>0.521480</td>\n      <td>0.156566</td>\n      <td>-0.127620</td>\n      <td>-0.110320</td>\n      <td>0.231229</td>\n      <td>0.799339</td>\n      <td>0.555806</td>\n      <td>-0.051900</td>\n      <td>-0.074399</td>\n      <td>-0.023020</td>\n      <td>-0.444299</td>\n      <td>-0.386893</td>\n      <td>-0.215228</td>\n      <td>-0.544783</td>\n      <td>1.000000</td>\n      <td>-0.953741</td>\n      <td>-0.943070</td>\n      <td>NaN</td>\n      <td>-0.163231</td>\n      <td>NaN</td>\n    </tr>\n    <tr>\n      <th>lat</th>\n      <td>-0.701903</td>\n      <td>0.039176</td>\n      <td>-0.070374</td>\n      <td>0.318945</td>\n      <td>-0.075740</td>\n      <td>-0.883181</td>\n      <td>-0.464044</td>\n      <td>-0.153177</td>\n      <td>-0.176087</td>\n      <td>-0.217852</td>\n      <td>0.208109</td>\n      <td>0.142504</td>\n      <td>-0.018071</td>\n      <td>0.309012</td>\n      <td>-0.953741</td>\n      <td>1.000000</td>\n      <td>0.985741</td>\n      <td>NaN</td>\n      <td>-0.038059</td>\n      <td>NaN</td>\n    </tr>\n    <tr>\n      <th>long</th>\n      <td>-0.625233</td>\n      <td>-0.084640</td>\n      <td>0.042684</td>\n      <td>0.204137</td>\n      <td>-0.218662</td>\n      <td>-0.827055</td>\n      <td>-0.593393</td>\n      <td>-0.109576</td>\n      <td>-0.129856</td>\n      <td>-0.145145</td>\n      <td>0.193530</td>\n      <td>0.138553</td>\n      <td>0.022562</td>\n      <td>0.257457</td>\n      <td>-0.943070</td>\n      <td>0.985741</td>\n      <td>1.000000</td>\n      <td>NaN</td>\n      <td>0.074915</td>\n      <td>NaN</td>\n    </tr>\n    <tr>\n      <th>day</th>\n      <td>NaN</td>\n      <td>NaN</td>\n      <td>NaN</td>\n      <td>NaN</td>\n      <td>NaN</td>\n      <td>NaN</td>\n      <td>NaN</td>\n      <td>NaN</td>\n      <td>NaN</td>\n      <td>NaN</td>\n      <td>NaN</td>\n      <td>NaN</td>\n      <td>NaN</td>\n      <td>NaN</td>\n      <td>NaN</td>\n      <td>NaN</td>\n      <td>NaN</td>\n      <td>NaN</td>\n      <td>NaN</td>\n      <td>NaN</td>\n    </tr>\n    <tr>\n      <th>rel_day</th>\n      <td>0.729670</td>\n      <td>-0.993808</td>\n      <td>0.999082</td>\n      <td>-0.956684</td>\n      <td>-0.940398</td>\n      <td>0.434665</td>\n      <td>-0.668961</td>\n      <td>0.857166</td>\n      <td>0.885724</td>\n      <td>0.941508</td>\n      <td>0.670935</td>\n      <td>0.722354</td>\n      <td>0.878507</td>\n      <td>0.462175</td>\n      <td>-0.163231</td>\n      <td>-0.038059</td>\n      <td>0.074915</td>\n      <td>NaN</td>\n      <td>1.000000</td>\n      <td>NaN</td>\n    </tr>\n    <tr>\n      <th>n</th>\n      <td>NaN</td>\n      <td>NaN</td>\n      <td>NaN</td>\n      <td>NaN</td>\n      <td>NaN</td>\n      <td>NaN</td>\n      <td>NaN</td>\n      <td>NaN</td>\n      <td>NaN</td>\n      <td>NaN</td>\n      <td>NaN</td>\n      <td>NaN</td>\n      <td>NaN</td>\n      <td>NaN</td>\n      <td>NaN</td>\n      <td>NaN</td>\n      <td>NaN</td>\n      <td>NaN</td>\n      <td>NaN</td>\n      <td>NaN</td>\n    </tr>\n  </tbody>\n</table>\n</div>"
     },
     "metadata": {},
     "execution_count": 81
    }
   ],
   "source": [
    "covid_metric = 'deaths_per_1M'\n",
    "other_metric = 'urbanisation'\n",
    "\n",
    "subdf = zone_df\n",
    "subdf = subdf.query('deaths > 25 & continent == \"Europe\"')\n",
    "\n",
    "#zone_df.plot.scatter(x='urbanisation', y=metric, ax=ax, ylim=(0, 10000))\n",
    "#subdf[['urbanisation', metric]].corr()\n",
    "# px.scatter(x=zone_df['urbanisation'], y=zone_df[metric])\n",
    "#tls.mpl_to_plotly(fig)\n",
    "lin_model = ols(f'{covid_metric} ~ {other_metric}', data=subdf).fit()\n",
    "plot = px.scatter(subdf, x=other_metric, y=covid_metric, hover_name='zone')\n",
    "plot.show()\n",
    "\n",
    "corr = subdf.corr()\n",
    "#print(corr)\n",
    "print(corr.loc[other_metric][covid_metric])\n",
    "corr\n",
    ""
   ]
  },
  {
   "cell_type": "code",
   "execution_count": 8,
   "metadata": {},
   "outputs": [
    {
     "output_type": "error",
     "ename": "NameError",
     "evalue": "name 'lin_model' is not defined",
     "traceback": [
      "\u001b[1;31m---------------------------------------------------------------------------\u001b[0m",
      "\u001b[1;31mNameError\u001b[0m                                 Traceback (most recent call last)",
      "\u001b[1;32m<ipython-input-8-1152fcb8090d>\u001b[0m in \u001b[0;36m<module>\u001b[1;34m\u001b[0m\n\u001b[0;32m      1\u001b[0m \u001b[0mfig\u001b[0m \u001b[1;33m=\u001b[0m \u001b[0mplt\u001b[0m\u001b[1;33m.\u001b[0m\u001b[0mfigure\u001b[0m\u001b[1;33m(\u001b[0m\u001b[0mfigsize\u001b[0m\u001b[1;33m=\u001b[0m\u001b[1;33m(\u001b[0m\u001b[1;36m15\u001b[0m\u001b[1;33m,\u001b[0m \u001b[1;36m8\u001b[0m\u001b[1;33m)\u001b[0m\u001b[1;33m)\u001b[0m\u001b[1;33m\u001b[0m\u001b[1;33m\u001b[0m\u001b[0m\n\u001b[1;32m----> 2\u001b[1;33m \u001b[0mfig\u001b[0m \u001b[1;33m=\u001b[0m \u001b[0msm\u001b[0m\u001b[1;33m.\u001b[0m\u001b[0mgraphics\u001b[0m\u001b[1;33m.\u001b[0m\u001b[0mplot_regress_exog\u001b[0m\u001b[1;33m(\u001b[0m\u001b[0mlin_model\u001b[0m\u001b[1;33m,\u001b[0m \u001b[0mother_metric\u001b[0m\u001b[1;33m,\u001b[0m \u001b[0mfig\u001b[0m\u001b[1;33m=\u001b[0m\u001b[0mfig\u001b[0m\u001b[1;33m)\u001b[0m\u001b[1;33m\u001b[0m\u001b[1;33m\u001b[0m\u001b[0m\n\u001b[0m\u001b[0;32m      3\u001b[0m \u001b[0mlin_model\u001b[0m\u001b[1;33m.\u001b[0m\u001b[0msummary2\u001b[0m\u001b[1;33m(\u001b[0m\u001b[1;33m)\u001b[0m\u001b[1;33m\u001b[0m\u001b[1;33m\u001b[0m\u001b[0m\n",
      "\u001b[1;31mNameError\u001b[0m: name 'lin_model' is not defined"
     ]
    }
   ],
   "source": [
    "fig = plt.figure(figsize=(15, 8))\n",
    "fig = sm.graphics.plot_regress_exog(lin_model, other_metric, fig=fig)\n",
    "lin_model.summary2()"
   ]
  },
  {
   "cell_type": "code",
   "execution_count": 9,
   "metadata": {},
   "outputs": [
    {
     "output_type": "error",
     "ename": "NameError",
     "evalue": "name 'new_df' is not defined",
     "traceback": [
      "\u001b[1;31m---------------------------------------------------------------------------\u001b[0m",
      "\u001b[1;31mNameError\u001b[0m                                 Traceback (most recent call last)",
      "\u001b[1;32m<ipython-input-9-b309a5235afa>\u001b[0m in \u001b[0;36m<module>\u001b[1;34m\u001b[0m\n\u001b[0;32m      3\u001b[0m \u001b[0mworld\u001b[0m\u001b[1;33m.\u001b[0m\u001b[0mrename\u001b[0m\u001b[1;33m(\u001b[0m\u001b[0mcolumns\u001b[0m\u001b[1;33m=\u001b[0m\u001b[1;33m{\u001b[0m\u001b[1;34m'name'\u001b[0m\u001b[1;33m:\u001b[0m \u001b[1;34m'zone'\u001b[0m\u001b[1;33m}\u001b[0m\u001b[1;33m,\u001b[0m \u001b[0minplace\u001b[0m\u001b[1;33m=\u001b[0m\u001b[1;32mTrue\u001b[0m\u001b[1;33m)\u001b[0m\u001b[1;33m\u001b[0m\u001b[1;33m\u001b[0m\u001b[0m\n\u001b[0;32m      4\u001b[0m \u001b[1;33m\u001b[0m\u001b[0m\n\u001b[1;32m----> 5\u001b[1;33m \u001b[0ma\u001b[0m \u001b[1;33m=\u001b[0m \u001b[0mworld\u001b[0m\u001b[1;33m.\u001b[0m\u001b[0mmerge\u001b[0m\u001b[1;33m(\u001b[0m\u001b[0mnew_df\u001b[0m\u001b[1;33m,\u001b[0m \u001b[0mon\u001b[0m\u001b[1;33m=\u001b[0m\u001b[1;34m'zone'\u001b[0m\u001b[1;33m,\u001b[0m \u001b[0mhow\u001b[0m\u001b[1;33m=\u001b[0m\u001b[1;34m'outer'\u001b[0m\u001b[1;33m)\u001b[0m\u001b[1;33m\u001b[0m\u001b[1;33m\u001b[0m\u001b[0m\n\u001b[0m\u001b[0;32m      6\u001b[0m \u001b[1;33m\u001b[0m\u001b[0m\n\u001b[0;32m      7\u001b[0m a.query('continent == \"Europe\"').query('zone != \"Russia\"').plot(column='deaths_per_1M', legend=True, cmap='summer', missing_kwds={\n",
      "\u001b[1;31mNameError\u001b[0m: name 'new_df' is not defined"
     ]
    }
   ],
   "source": [
    "\n",
    "world = geopandas.read_file(geopandas.datasets.get_path('naturalearth_lowres'))\n",
    "\n",
    "world.rename(columns={'name': 'zone'}, inplace=True)\n",
    "\n",
    "a = world.merge(new_df, on='zone', how='outer')\n",
    "\n",
    "a.query('continent == \"Europe\"').query('zone != \"Russia\"').plot(column='deaths_per_1M', legend=True, cmap='summer', missing_kwds={\n",
    "    \"color\": 'lightgrey'\n",
    "})"
   ]
  },
  {
   "cell_type": "markdown",
   "metadata": {},
   "source": [
    "# Country Bayersian fit\n"
   ]
  },
  {
   "cell_type": "markdown",
   "metadata": {},
   "source": [
    "import lmfit\n",
    "country = 'Denmark'\n",
    "province_state = 'total'\n",
    "label = 'cases'\n",
    "regression_predict_length = 50\n",
    "log_scale = True\n",
    "emcee_factor = 1.0/1\n",
    "\n",
    "c_df = ts_df.loc[country].query(f'province_state == \"{province_state}\"')\n",
    "\n",
    "rel_df = c_df.query('rel_day >= 1')\n",
    "# rel_df.plot(x='rel_day', y=label)\n",
    "\n",
    "model = LogisticModel\n",
    "params = model.make_params(a=1000, b=0.3, c=1000)\n",
    "params['a'].min = 0\n",
    "params['b'].min = 0\n",
    "params['b'].max = 0.5\n",
    "params['c'].min = 0\n",
    "result_leastsq = model.fit(rel_df[label], params, x=rel_df['rel_day'], method='leastsq', nan_policy='omit')\n",
    "result_nelder = model.fit(rel_df[label], params, x=rel_df['rel_day'], method='Nelder', nan_policy='omit')\n",
    "\n",
    "emcee_kws = {\n",
    "    'steps': int(round(1000 * emcee_factor)),\n",
    "    'burn': int(round(300 * emcee_factor)),\n",
    "#    'thin': 20,\n",
    "    'is_weighted': False,\n",
    "    'progress': True\n",
    "}\n",
    "\n",
    "emcee_params = result_nelder.params.copy()\n",
    "emcee_params.add('__lnsigma', value=np.log(0.1), min=np.log(0.001), max=np.log(2.0))\n",
    "\n",
    "result_emcee = model.fit(rel_df[label], emcee_params, x=rel_df['rel_day'], method='emcee', nan_policy='omit', fit_kws=emcee_kws)\n",
    "\n",
    "last_rel_day = rel_df['rel_day'].iloc[-1]\n",
    "regression_predict_days = np.arange(last_rel_day + 1, last_rel_day + regression_predict_length + 1)\n",
    "\n",
    "regression_range = np.append(rel_df['rel_day'].values, regression_predict_days)\n",
    "\n",
    "# result.plot()\n",
    "\n",
    "fig, ax = plt.subplots(figsize=(20, 6))\n",
    "if log_scale:\n",
    "    ax.set_yscale('log')\n",
    "\n",
    "p = result_leastsq.params\n",
    "\n",
    "plt.scatter(rel_df['rel_day'], rel_df[label])\n",
    "plt.plot(regression_range, model.func(regression_range, p['a'], p['b'], p['c']))\n",
    "# Plot confidence intervals\n",
    "for i in range(1, 2):\n",
    "    dely = result_leastsq.eval_uncertainty(sigma=i, x=regression_range)\n",
    "    plt.fill_between(regression_range, model.func(regression_range, p['a'], p['b'], p['c']) + dely, model.func(regression_range, p['a'], p['b'], p['c']) - dely, color='#ABABAB', alpha=0.3, label=f'{i} $\\sigma$ confidence interval')\n",
    "\n",
    "plt.legend()\n",
    "#e_result = result.emcee()"
   ]
  },
  {
   "cell_type": "code",
   "execution_count": 10,
   "metadata": {},
   "outputs": [
    {
     "output_type": "error",
     "ename": "NameError",
     "evalue": "name 'result_emcee' is not defined",
     "traceback": [
      "\u001b[1;31m---------------------------------------------------------------------------\u001b[0m",
      "\u001b[1;31mNameError\u001b[0m                                 Traceback (most recent call last)",
      "\u001b[1;32m<ipython-input-10-92ab07cd41a5>\u001b[0m in \u001b[0;36m<module>\u001b[1;34m\u001b[0m\n\u001b[0;32m      5\u001b[0m \u001b[1;33m\u001b[0m\u001b[0m\n\u001b[0;32m      6\u001b[0m \u001b[1;31m# Emcee fit\u001b[0m\u001b[1;33m\u001b[0m\u001b[1;33m\u001b[0m\u001b[1;33m\u001b[0m\u001b[0m\n\u001b[1;32m----> 7\u001b[1;33m \u001b[0mp\u001b[0m \u001b[1;33m=\u001b[0m \u001b[0mresult_emcee\u001b[0m\u001b[1;33m.\u001b[0m\u001b[0mparams\u001b[0m\u001b[1;33m\u001b[0m\u001b[1;33m\u001b[0m\u001b[0m\n\u001b[0m\u001b[0;32m      8\u001b[0m \u001b[0mcolor\u001b[0m \u001b[1;33m=\u001b[0m \u001b[1;33m(\u001b[0m\u001b[1;36m1.0\u001b[0m\u001b[1;33m,\u001b[0m \u001b[1;36m0.0\u001b[0m\u001b[1;33m,\u001b[0m \u001b[1;36m0.0\u001b[0m\u001b[1;33m)\u001b[0m\u001b[1;33m\u001b[0m\u001b[1;33m\u001b[0m\u001b[0m\n\u001b[0;32m      9\u001b[0m \u001b[1;31m#plt.fill_between(regression_range, model.func(regression_range, p['a'], p['b'] + p['b'].stderr, p['c']), model.func(regression_range, p['a'], p['b'] - p['b'].stderr, p['c']), color=color, alpha=0.2)\u001b[0m\u001b[1;33m\u001b[0m\u001b[1;33m\u001b[0m\u001b[1;33m\u001b[0m\u001b[0m\n",
      "\u001b[1;31mNameError\u001b[0m: name 'result_emcee' is not defined"
     ]
    }
   ],
   "source": [
    "fig, ax = plt.subplots(figsize=(20, 6))\n",
    "#ax.set_yscale('log')\n",
    "ax.set_ylabel(label)\n",
    "sigma_n = 1\n",
    "\n",
    "# Emcee fit\n",
    "p = result_emcee.params\n",
    "color = (1.0, 0.0, 0.0)\n",
    "#plt.fill_between(regression_range, model.func(regression_range, p['a'], p['b'] + p['b'].stderr, p['c']), model.func(regression_range, p['a'], p['b'] - p['b'].stderr, p['c']), color=color, alpha=0.2)\n",
    "#plt.plot(regression_range, model.func(regression_range, p['a'], p['b'], p['c']), color=color, label='emcee fit')\n",
    "\n",
    "# Least squares fit\n",
    "p = result_leastsq.params\n",
    "color = (0.0, 1.0, 0.0)\n",
    "#plt.fill_between(regression_range, model.func(regression_range, p['a'] + p['a'].stderr, p['b'] + p['b'].stderr, p['c'] + p['c'].stderr), model.func(regression_range, p['a'] - p['a'].stderr, p['b'] - p['b'].stderr, p['c'] - p['c'].stderr), color=color, alpha=0.2)\n",
    "#plt.plot(regression_range, model.func(regression_range, p['a'], p['b'], p['c']), color=color, label='leastsq fit')\n",
    "plt.fill_between(regression_range, model.func(regression_range, p['a'] + sigma_n * p['a'].stderr, p['b'] + sigma_n * p['b'].stderr, p['c'] + sigma_n * p['c'].stderr), model.func(regression_range, p['a'] - sigma_n * p['a'].stderr, p['b'] - sigma_n * p['b'].stderr, p['c'] - sigma_n * p['c'].stderr), color=color, alpha=0.2)\n",
    "\n",
    "# Nelder fit\n",
    "p = result_nelder.params\n",
    "color = (0.0, 0.0, 1.0)\n",
    "#plt.fill_between(regression_range, model.func(regression_range, p['a'], p['b'] + p['b'].stderr, p['c']), model.func(regression_range, p['a'], p['b'] - p['b'].stderr, p['c']), alpha=0.2)\n",
    "#plt.plot(regression_range, model.func(regression_range, p['a'], p['b'], p['c']), color=color, label='Nelder fit')\n",
    "\n",
    "# Test\n",
    "p = result_emcee.params\n",
    "color = (0.0, 0.0, 0.0)\n",
    "#plt.fill_between(regression_range, model.func(regression_range, p['a'] + sigma_n * p['a'].stderr, p['b'] + sigma_n * p['b'].stderr, p['c'] + sigma_n * p['c'].stderr), model.func(regression_range, p['a'] - sigma_n * p['a'].stderr, p['b'] - sigma_n * p['b'].stderr, p['c'] - sigma_n * p['c'].stderr), color=color, alpha=0.2)\n",
    "#plt.plot(regression_range, model.func(regression_range, p['a'], p['b'], p['c']), color=color, label='test fit')\n",
    "\n",
    "\n",
    "# Actual data\n",
    "plt.scatter(rel_df['rel_day'], rel_df[label], label=f'{country}')\n",
    "plt.legend()"
   ]
  }
 ],
 "metadata": {
  "kernelspec": {
   "display_name": "Python 3",
   "language": "python",
   "name": "python3"
  },
  "language_info": {
   "codemirror_mode": {
    "name": "ipython",
    "version": 3
   },
   "file_extension": ".py",
   "mimetype": "text/x-python",
   "name": "python",
   "nbconvert_exporter": "python",
   "pygments_lexer": "ipython3",
   "version": "3.7.2-final"
  }
 },
 "nbformat": 4,
 "nbformat_minor": 4
}